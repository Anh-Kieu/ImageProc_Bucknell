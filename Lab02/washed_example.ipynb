{
 "cells": [
  {
   "cell_type": "code",
   "execution_count": 32,
   "metadata": {},
   "outputs": [],
   "source": [
    "%matplotlib widget\n",
    "import matplotlib.pyplot as plt\n",
    "import numpy as np\n",
    "import numpy.random as random"
   ]
  },
  {
   "cell_type": "code",
   "execution_count": 33,
   "metadata": {},
   "outputs": [],
   "source": [
    "#We're going to normalize the image and deal with floating point.\n",
    "I = plt.imread('washed.jpeg').astype('float')\n",
    "I = I/I.ravel().max()"
   ]
  },
  {
   "cell_type": "code",
   "execution_count": 35,
   "metadata": {},
   "outputs": [
    {
     "data": {
      "application/vnd.jupyter.widget-view+json": {
       "model_id": "49c259608b44478e9b337f2fa5161eee",
       "version_major": 2,
       "version_minor": 0
      },
      "text/plain": [
       "Canvas(toolbar=Toolbar(toolitems=[('Home', 'Reset original view', 'home', 'home'), ('Back', 'Back to previous …"
      ]
     },
     "metadata": {},
     "output_type": "display_data"
    }
   ],
   "source": [
    "#The histogram bins are just let's say 256 bins in [0,1]\n",
    "bins = np.arange(256)/256\n",
    "f, axarr = plt.subplots(1,2, figsize=(10, 3))\n",
    "\n",
    "axarr[0].imshow(I) #https://matplotlib.org/api/_as_gen/matplotlib.pyplot.imshow.html\n",
    "axarr[0].set_title('Washed Out Image')\n",
    "\n",
    "axarr[1].hist(I[...,0].ravel(), bins, alpha = .6, label = 'red', color = 'r')\n",
    "axarr[1].hist(I[...,1].ravel(), bins, alpha = .6, label = 'green', color = 'g')\n",
    "axarr[1].hist(I[...,2].ravel(), bins, alpha = .6, label = 'blue', color = 'b')\n",
    "axarr[1].legend(loc = 'upper right')\n",
    "plt.show()"
   ]
  },
  {
   "cell_type": "code",
   "execution_count": 37,
   "metadata": {},
   "outputs": [
    {
     "data": {
      "application/vnd.jupyter.widget-view+json": {
       "model_id": "f4e8026859e346bbbc9a4523a004d9ae",
       "version_major": 2,
       "version_minor": 0
      },
      "text/plain": [
       "Canvas(toolbar=Toolbar(toolitems=[('Home', 'Reset original view', 'home', 'home'), ('Back', 'Back to previous …"
      ]
     },
     "metadata": {},
     "output_type": "display_data"
    },
    {
     "data": {
      "text/plain": [
       "<matplotlib.image.AxesImage at 0x7f0aea154890>"
      ]
     },
     "execution_count": 37,
     "metadata": {},
     "output_type": "execute_result"
    }
   ],
   "source": [
    "I_normalized = I.copy()\n",
    "f, axarr = plt.subplots(1,2,figsize = (10,3), sharex = True, sharey = True)\n",
    "\n",
    "max_blue = max(I_normalized[...,2].flatten())\n",
    "min_blue = min(I_normalized[...,2].flatten())\n",
    "max_green = max(I_normalized[...,1].flatten())\n",
    "min_green = min(I_normalized[...,1].flatten())\n",
    "max_red = max(I_normalized[...,0].flatten())\n",
    "min_red = min(I_normalized[...,0].flatten())\n",
    "\n",
    "I_normalized[...,2] = (I_normalized[...,2] - min_blue)/(max_blue - min_blue)\n",
    "I_normalized[...,1] = (I_normalized[...,1]- min_green)/(max_green - min_green)\n",
    "I_normalized[...,0] = (I_normalized[...,0]- min_red)/(max_red - min_red)\n",
    "\n",
    "axarr[0].imshow(I_normalized)\n",
    "axarr[1].imshow(I)"
   ]
  },
  {
   "cell_type": "code",
   "execution_count": 25,
   "metadata": {},
   "outputs": [
    {
     "data": {
      "text/plain": [
       "<matplotlib.legend.Legend at 0x7f0ae115a610>"
      ]
     },
     "execution_count": 25,
     "metadata": {},
     "output_type": "execute_result"
    },
    {
     "data": {
      "image/png": "[encoded data removed]",
      "text/plain": [
       "<Figure size 432x288 with 1 Axes>"
      ]
     },
     "metadata": {
      "needs_background": "light"
     },
     "output_type": "display_data"
    }
   ],
   "source": [
    "#The histogram bins are just let's say 256 bins in [0,1]\n",
    "bins = np.arange(256)/256\n",
    "# f, axarr = plt.subplots(1,3, figsize=(10, 3))\n",
    "\n",
    "plt.hist(I_normalized[...,0].ravel(), bins, alpha = .6, label = 'red', color = 'r')\n",
    "plt.hist(I_normalized[...,1].ravel(), bins, alpha = .6, label = 'green', color = 'g')\n",
    "plt.hist(I_normalized[...,2].ravel(), bins, alpha = .6, label = 'blue', color = 'b')\n",
    "plt.legend(loc = 'upper right')"
   ]
  },
  {
   "cell_type": "code",
   "execution_count": null,
   "metadata": {},
   "outputs": [],
   "source": []
  }
 ],
 "metadata": {
  "kernelspec": {
   "display_name": "Python 3",
   "language": "python",
   "name": "python3"
  },
  "language_info": {
   "codemirror_mode": {
    "name": "ipython",
    "version": 3
   },
   "file_extension": ".py",
   "mimetype": "text/x-python",
   "name": "python",
   "nbconvert_exporter": "python",
   "pygments_lexer": "ipython3",
   "version": "3.7.6"
  }
 },
 "nbformat": 4,
 "nbformat_minor": 4
}
