{
 "cells": [
  {
   "cell_type": "code",
   "execution_count": 43,
   "metadata": {},
   "outputs": [],
   "source": [
    "%matplotlib widget\n",
    "import matplotlib.pyplot as plt\n",
    "import scipy.ndimage as ndimage\n",
    "import numpy as np"
   ]
  },
  {
   "cell_type": "code",
   "execution_count": 44,
   "metadata": {},
   "outputs": [],
   "source": [
    "#Load an image and normalize to [0,1]\n",
    "I = plt.imread('skyandsea.jpg').astype(float)\n",
    "I = I - I.ravel().min()\n",
    "I = I/I.ravel().max()"
   ]
  },
  {
   "cell_type": "code",
   "execution_count": 55,
   "metadata": {},
   "outputs": [],
   "source": [
    "#Scaled per channel\n",
    "\n",
    "IE = np.zeros(I.shape)\n",
    "\n",
    "for channel in range(3):\n",
    "    hist, bins = np.histogram(I[...,channel], bins=np.arange(257) / 256)\n",
    "    CDF = np.cumsum(hist) / sum(hist)\n",
    "\n",
    "    Ir = np.interp(I[...,channel], xp=bins[:-1], fp=CDF)\n",
    "    # like a trend-matching function, have a value of x -> output fp(x)\n",
    "    IE[...,channel] = Ir"
   ]
  },
  {
   "cell_type": "code",
   "execution_count": 56,
   "metadata": {},
   "outputs": [
    {
     "data": {
      "application/vnd.jupyter.widget-view+json": {
       "model_id": "cd4658f5682e4203bf22339581087f99",
       "version_major": 2,
       "version_minor": 0
      },
      "text/plain": [
       "Canvas(toolbar=Toolbar(toolitems=[('Home', 'Reset original view', 'home', 'home'), ('Back', 'Back to previous …"
      ]
     },
     "metadata": {},
     "output_type": "display_data"
    }
   ],
   "source": [
    "allbins = np.unique(I.ravel())\n",
    "\n",
    "f, ax1 = plt.subplots(1,2, figsize=(10,3))\n",
    "ax1[0].imshow(I) #https://matplotlib.org/api/_as_gen/matplotlib.pyplot.imshow.html\n",
    "ax1[0].set_title('Original Image')\n",
    "\n",
    "ax1[1].hist(I[...,0].ravel(), allbins, alpha = .6, label = 'red', color = 'r')\n",
    "ax1[1].hist(I[...,1].ravel(), allbins, alpha = .6, label = 'green', color = 'g')\n",
    "ax1[1].hist(I[...,2].ravel(), allbins, alpha = .6, label = 'blue', color = 'b')\n",
    "ax1[1].legend(loc = 'upper right')\n",
    "plt.show()"
   ]
  },
  {
   "cell_type": "code",
   "execution_count": 57,
   "metadata": {},
   "outputs": [
    {
     "data": {
      "application/vnd.jupyter.widget-view+json": {
       "model_id": "e2cc16d38a2d45ae9571ba782c96e388",
       "version_major": 2,
       "version_minor": 0
      },
      "text/plain": [
       "Canvas(toolbar=Toolbar(toolitems=[('Home', 'Reset original view', 'home', 'home'), ('Back', 'Back to previous …"
      ]
     },
     "metadata": {},
     "output_type": "display_data"
    }
   ],
   "source": [
    "f, ax2 = plt.subplots(1,2, figsize=(10,3))\n",
    "ax2[0].imshow(IE) #https://matplotlib.org/api/_as_gen/matplotlib.pyplot.imshow.html\n",
    "ax2[0].set_title('Image Equalized Per Channel')\n",
    "\n",
    "ax2[1].hist(IE[...,0].ravel(), 250, alpha = .6, label = 'red', color = 'r')\n",
    "ax2[1].hist(IE[...,1].ravel(), 250, alpha = .6, label = 'green', color = 'g')\n",
    "ax2[1].hist(IE[...,2].ravel(), 250, alpha = .6, label = 'blue', color = 'b')\n",
    "ax2[1].legend(loc = 'upper right')\n",
    "# ax2[1].imshow(IE)\n",
    "plt.show()"
   ]
  },
  {
   "cell_type": "code",
   "execution_count": 58,
   "metadata": {},
   "outputs": [
    {
     "data": {
      "application/vnd.jupyter.widget-view+json": {
       "model_id": "261cf7d3615e46bdb5b1db67d9ddd4fe",
       "version_major": 2,
       "version_minor": 0
      },
      "text/plain": [
       "Canvas(toolbar=Toolbar(toolitems=[('Home', 'Reset original view', 'home', 'home'), ('Back', 'Back to previous …"
      ]
     },
     "metadata": {},
     "output_type": "display_data"
    },
    {
     "data": {
      "text/plain": [
       "<matplotlib.image.AxesImage at 0x7f83094cb250>"
      ]
     },
     "execution_count": 58,
     "metadata": {},
     "output_type": "execute_result"
    }
   ],
   "source": [
    "f, x = plt.subplots(1,2, figsize=(10,3), sharex = True, sharey = True)\n",
    "\n",
    "x[0].imshow(I)\n",
    "x[1].imshow(IE)"
   ]
  },
  {
   "cell_type": "code",
   "execution_count": 48,
   "metadata": {},
   "outputs": [
    {
     "data": {
      "application/vnd.jupyter.widget-view+json": {
       "model_id": "eb7d34f45d154e90aec7320db05fde06",
       "version_major": 2,
       "version_minor": 0
      },
      "text/plain": [
       "Canvas(toolbar=Toolbar(toolitems=[('Home', 'Reset original view', 'home', 'home'), ('Back', 'Back to previous …"
      ]
     },
     "metadata": {},
     "output_type": "display_data"
    },
    {
     "data": {
      "text/plain": [
       "(array([24871.,  5064.,  4190.,  3539.,  4507.,  4564.,  3163.,  3500.,\n",
       "         5480.,  3687.,  3291.,  4616.,  4244.,  3805.,  4900.,  3787.,\n",
       "         3337.,  3059.,  4570.,  2697.,  6484.,     0.,  4962.,     0.,\n",
       "         6758.,     0.,  8765.,     0.,  8880.,     0.,  8853.,     0.,\n",
       "         9173.,     0.,     0.,  9163.,     0.,  9077.,     0.,  8954.,\n",
       "            0.,  9435.,     0.,     0.,  9312.,     0.,  9500.,     0.,\n",
       "         9389.,     0.,     0.,  9648.,     0., 10374.,     0.,     0.,\n",
       "        11105.,     0.,     0., 12343.,     0.,     0., 13110.,     0.,\n",
       "            0.,     0., 13439.,     0.,     0., 13929.,     0.,     0.,\n",
       "        14006.,     0.,     0.,     0., 14029.,     0.,     0., 13943.,\n",
       "            0.,     0.,     0., 13677.,     0.,     0., 13133.,     0.,\n",
       "            0., 12847.,     0.,     0., 12923.,     0.,     0., 12821.,\n",
       "            0.,     0., 12422.,     0.,     0., 12172.,     0.,     0.,\n",
       "        12275.,     0.,     0., 11942.,     0.,     0., 11918.,     0.,\n",
       "            0., 11403.,     0., 11324.,     0.,     0., 10716.,     0.,\n",
       "        10104.,     0.,     0.,  9585.,     0.,  9414.,     0.,  8887.,\n",
       "            0.,  8603.,     0.,  8370.,     0.,  8184.,     0.,  8303.,\n",
       "            0.,  8178.,     0.,  8454.,     0.,  8500.,     0.,  8304.,\n",
       "            0.,  8164.,     0.,  7620.,     0.,  7530.,     0.,  7255.,\n",
       "         7201.,     0.,  6829.,     0.,  6667.,  6279.,     0.,  6335.,\n",
       "         6292.,     0.,  6227.,  6207.,     0.,  6521.,     0.,  6661.,\n",
       "         6636.,     0.,  6464.,  6365.,     0.,  6213.,  6142.,     0.,\n",
       "         5936.,  5926.,     0.,  5742.,  5559.,  5355.,  5113.,     0.,\n",
       "         5346.,  5086.,  5146.,     0.,  5230.,  5166.,  5148.,  5204.,\n",
       "            0.,  5141.,  5229.,  5149.,  5049.,     0.,  5070.,  4997.,\n",
       "         5164.,  5244.,     0.,  5071.,  5070.,  4960.,  5032.,  4917.,\n",
       "            0.,  4723.,  4578.,  4451.,  4310.,  4025.,  3893.,  7251.,\n",
       "         3267.,  3075.,  5633.,  5040.,  2442.,  4529.,  6016.,  3775.,\n",
       "         3644.,  4837.,  3231.,  4754.,  3118.,  4615.,  4642.,  3105.,\n",
       "         4666.,  4558.,  3866.,  3858.,  4009.,  4397.,  4471.,  4453.,\n",
       "         3964.,  2762.,  5653.,  4313.,  3998.,  4106.,  3943.,  4296.,\n",
       "         2554.,  6648.]),\n",
       " array([0.02121938, 0.02513451, 0.02904963, 0.03296475, 0.03687987,\n",
       "        0.040795  , 0.04471012, 0.04862524, 0.05254036, 0.05645549,\n",
       "        0.06037061, 0.06428573, 0.06820085, 0.07211598, 0.0760311 ,\n",
       "        0.07994622, 0.08386134, 0.08777646, 0.09169159, 0.09560671,\n",
       "        0.09952183, 0.10343695, 0.10735208, 0.1112672 , 0.11518232,\n",
       "        0.11909744, 0.12301257, 0.12692769, 0.13084281, 0.13475793,\n",
       "        0.13867306, 0.14258818, 0.1465033 , 0.15041842, 0.15433355,\n",
       "        0.15824867, 0.16216379, 0.16607891, 0.16999404, 0.17390916,\n",
       "        0.17782428, 0.1817394 , 0.18565453, 0.18956965, 0.19348477,\n",
       "        0.19739989, 0.20131502, 0.20523014, 0.20914526, 0.21306038,\n",
       "        0.21697551, 0.22089063, 0.22480575, 0.22872087, 0.232636  ,\n",
       "        0.23655112, 0.24046624, 0.24438136, 0.24829649, 0.25221161,\n",
       "        0.25612673, 0.26004185, 0.26395698, 0.2678721 , 0.27178722,\n",
       "        0.27570234, 0.27961747, 0.28353259, 0.28744771, 0.29136283,\n",
       "        0.29527796, 0.29919308, 0.3031082 , 0.30702332, 0.31093845,\n",
       "        0.31485357, 0.31876869, 0.32268381, 0.32659894, 0.33051406,\n",
       "        0.33442918, 0.3383443 , 0.34225943, 0.34617455, 0.35008967,\n",
       "        0.35400479, 0.35791992, 0.36183504, 0.36575016, 0.36966528,\n",
       "        0.37358041, 0.37749553, 0.38141065, 0.38532577, 0.38924089,\n",
       "        0.39315602, 0.39707114, 0.40098626, 0.40490138, 0.40881651,\n",
       "        0.41273163, 0.41664675, 0.42056187, 0.424477  , 0.42839212,\n",
       "        0.43230724, 0.43622236, 0.44013749, 0.44405261, 0.44796773,\n",
       "        0.45188285, 0.45579798, 0.4597131 , 0.46362822, 0.46754334,\n",
       "        0.47145847, 0.47537359, 0.47928871, 0.48320383, 0.48711896,\n",
       "        0.49103408, 0.4949492 , 0.49886432, 0.50277945, 0.50669457,\n",
       "        0.51060969, 0.51452481, 0.51843994, 0.52235506, 0.52627018,\n",
       "        0.5301853 , 0.53410043, 0.53801555, 0.54193067, 0.54584579,\n",
       "        0.54976092, 0.55367604, 0.55759116, 0.56150628, 0.56542141,\n",
       "        0.56933653, 0.57325165, 0.57716677, 0.5810819 , 0.58499702,\n",
       "        0.58891214, 0.59282726, 0.59674239, 0.60065751, 0.60457263,\n",
       "        0.60848775, 0.61240288, 0.616318  , 0.62023312, 0.62414824,\n",
       "        0.62806337, 0.63197849, 0.63589361, 0.63980873, 0.64372386,\n",
       "        0.64763898, 0.6515541 , 0.65546922, 0.65938435, 0.66329947,\n",
       "        0.66721459, 0.67112971, 0.67504484, 0.67895996, 0.68287508,\n",
       "        0.6867902 , 0.69070533, 0.69462045, 0.69853557, 0.70245069,\n",
       "        0.70636581, 0.71028094, 0.71419606, 0.71811118, 0.7220263 ,\n",
       "        0.72594143, 0.72985655, 0.73377167, 0.73768679, 0.74160192,\n",
       "        0.74551704, 0.74943216, 0.75334728, 0.75726241, 0.76117753,\n",
       "        0.76509265, 0.76900777, 0.7729229 , 0.77683802, 0.78075314,\n",
       "        0.78466826, 0.78858339, 0.79249851, 0.79641363, 0.80032875,\n",
       "        0.80424388, 0.808159  , 0.81207412, 0.81598924, 0.81990437,\n",
       "        0.82381949, 0.82773461, 0.83164973, 0.83556486, 0.83947998,\n",
       "        0.8433951 , 0.84731022, 0.85122535, 0.85514047, 0.85905559,\n",
       "        0.86297071, 0.86688584, 0.87080096, 0.87471608, 0.8786312 ,\n",
       "        0.88254633, 0.88646145, 0.89037657, 0.89429169, 0.89820682,\n",
       "        0.90212194, 0.90603706, 0.90995218, 0.91386731, 0.91778243,\n",
       "        0.92169755, 0.92561267, 0.9295278 , 0.93344292, 0.93735804,\n",
       "        0.94127316, 0.94518829, 0.94910341, 0.95301853, 0.95693365,\n",
       "        0.96084878, 0.9647639 , 0.96867902, 0.97259414, 0.97650927,\n",
       "        0.98042439, 0.98433951, 0.98825463, 0.99216976, 0.99608488,\n",
       "        1.        ]),\n",
       " <a list of 250 Patch objects>)"
      ]
     },
     "execution_count": 48,
     "metadata": {},
     "output_type": "execute_result"
    }
   ],
   "source": [
    "f, ax3 = plt.subplots(1,2, figsize=(10,3), sharex = True, sharey = True)\n",
    "ax3[0].hist(I[...,2].ravel(), allbins, alpha = .6, label = 'red', color = 'b')\n",
    "ax3[1].hist(IE[...,2].ravel(), 250, alpha = .6, label = 'red', color = 'b')"
   ]
  },
  {
   "cell_type": "code",
   "execution_count": null,
   "metadata": {},
   "outputs": [],
   "source": []
  },
  {
   "cell_type": "code",
   "execution_count": null,
   "metadata": {},
   "outputs": [],
   "source": []
  },
  {
   "cell_type": "code",
   "execution_count": 42,
   "metadata": {},
   "outputs": [],
   "source": [
    "plt.close(\"all\")"
   ]
  }
 ],
 "metadata": {
  "kernelspec": {
   "display_name": "Python 3",
   "language": "python",
   "name": "python3"
  },
  "language_info": {
   "codemirror_mode": {
    "name": "ipython",
    "version": 3
   },
   "file_extension": ".py",
   "mimetype": "text/x-python",
   "name": "python",
   "nbconvert_exporter": "python",
   "pygments_lexer": "ipython3",
   "version": "3.7.6"
  }
 },
 "nbformat": 4,
 "nbformat_minor": 4
}
