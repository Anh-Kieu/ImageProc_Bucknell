{
 "cells": [
  {
   "cell_type": "code",
   "execution_count": 31,
   "metadata": {},
   "outputs": [],
   "source": [
    "%matplotlib widget\n",
    "import matplotlib.pyplot as plt\n",
    "import scipy.ndimage as ndimage\n",
    "import numpy as np\n",
    "import skimage as sk"
   ]
  },
  {
   "cell_type": "code",
   "execution_count": 39,
   "metadata": {},
   "outputs": [
    {
     "data": {
      "application/vnd.jupyter.widget-view+json": {
       "model_id": "2d0e443750a14c6e86b1ea7c682e7e4a",
       "version_major": 2,
       "version_minor": 0
      },
      "text/plain": [
       "Canvas(toolbar=Toolbar(toolitems=[('Home', 'Reset original view', 'home', 'home'), ('Back', 'Back to previous …"
      ]
     },
     "metadata": {},
     "output_type": "display_data"
    },
    {
     "data": {
      "text/plain": [
       "Text(0.5, 1.0, 'Enhanced Image')"
      ]
     },
     "execution_count": 39,
     "metadata": {},
     "output_type": "execute_result"
    }
   ],
   "source": [
    "I = plt.imread('po2.jpg').astype(float) # my image too large\n",
    "I = I/I.ravel().max()\n",
    "GI = sk.filters.gaussian(I, multichannel = False) # look at the gradient/slope\n",
    "GI = (GI - GI.min())/(GI.max() - GI.min()) # make the range 0 -> 1\n",
    "DI = I - GI\n",
    "IsharpI = I + DI\n",
    "IsharpI[IsharpI > 1] = 1\n",
    "IsharpI[IsharpI < 0] = 0\n",
    "f, axx = plt.subplots(1,2, figsize = (10,5) ,sharex = True, sharey = True)\n",
    "axx[0].imshow(GI)\n",
    "axx[0].set_title(\"GI\")\n",
    "axx[1].imshow(IsharpI)\n",
    "axx[1].set_title(\"Enhanced Image\")"
   ]
  },
  {
   "cell_type": "code",
   "execution_count": 40,
   "metadata": {},
   "outputs": [
    {
     "data": {
      "application/vnd.jupyter.widget-view+json": {
       "model_id": "e7a8b273c31d4eabaf4940a1b4dbea9c",
       "version_major": 2,
       "version_minor": 0
      },
      "text/plain": [
       "Canvas(toolbar=Toolbar(toolitems=[('Home', 'Reset original view', 'home', 'home'), ('Back', 'Back to previous …"
      ]
     },
     "metadata": {},
     "output_type": "display_data"
    },
    {
     "data": {
      "text/plain": [
       "Text(0.5, 1.0, 'Enhanced Image')"
      ]
     },
     "execution_count": 40,
     "metadata": {},
     "output_type": "execute_result"
    }
   ],
   "source": [
    "f, axx = plt.subplots(1,2, figsize = (10,5) ,sharex = True, sharey = True)\n",
    "axx[0].imshow(I)\n",
    "axx[0].set_title(\"Original\")\n",
    "axx[1].imshow(IsharpI)\n",
    "axx[1].set_title(\"Enhanced Image\")"
   ]
  },
  {
   "cell_type": "code",
   "execution_count": null,
   "metadata": {},
   "outputs": [],
   "source": []
  },
  {
   "cell_type": "code",
   "execution_count": null,
   "metadata": {},
   "outputs": [],
   "source": []
  }
 ],
 "metadata": {
  "kernelspec": {
   "display_name": "Python 3",
   "language": "python",
   "name": "python3"
  },
  "language_info": {
   "codemirror_mode": {
    "name": "ipython",
    "version": 3
   },
   "file_extension": ".py",
   "mimetype": "text/x-python",
   "name": "python",
   "nbconvert_exporter": "python",
   "pygments_lexer": "ipython3",
   "version": "3.7.3"
  }
 },
 "nbformat": 4,
 "nbformat_minor": 2
}
