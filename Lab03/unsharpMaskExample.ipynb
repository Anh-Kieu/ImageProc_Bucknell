{
 "cells": [
  {
   "cell_type": "code",
   "execution_count": 8,
   "metadata": {},
   "outputs": [],
   "source": [
    "%matplotlib widget\n",
    "import matplotlib.pyplot as plt\n",
    "import scipy.ndimage as ndimage\n",
    "import numpy as np\n",
    "import skimage as sk"
   ]
  },
  {
   "cell_type": "code",
   "execution_count": 5,
   "metadata": {},
   "outputs": [],
   "source": [
    "#simple blur\n",
    "def myfunc(x):\n",
    "    return x.mean()"
   ]
  },
  {
   "cell_type": "code",
   "execution_count": null,
   "metadata": {},
   "outputs": [],
   "source": [
    "I = plt.imread('po.jpg').astype(float) # my image too large\n",
    "I = I/I.ravel().max()\n",
    "\n",
    "Ib = np.zeros(I.shape)\n",
    "Out = np.zeros(I.shape[:2])\n",
    "\n",
    "for chan in range(3):\n",
    "    ndimage.generic_filter(I[:, :, chan], function=myfunc, size=30, output=Out, mode='wrap')\n",
    "    Ib[...,chan] = Out.copy();"
   ]
  },
  {
   "cell_type": "code",
   "execution_count": 7,
   "metadata": {},
   "outputs": [
    {
     "data": {
      "application/vnd.jupyter.widget-view+json": {
       "model_id": "f860621cc82545c78cd48e59b07e2c9b",
       "version_major": 2,
       "version_minor": 0
      },
      "text/plain": [
       "Canvas(toolbar=Toolbar(toolitems=[('Home', 'Reset original view', 'home', 'home'), ('Back', 'Back to previous …"
      ]
     },
     "metadata": {},
     "output_type": "display_data"
    },
    {
     "data": {
      "text/plain": [
       "Text(0.5, 1.0, 'Blurred')"
      ]
     },
     "execution_count": 7,
     "metadata": {},
     "output_type": "execute_result"
    }
   ],
   "source": [
    "f, axarr = plt.subplots(1,2, figsize=(10, 3))\n",
    "axarr[0].imshow(I)\n",
    "axarr[0].set_title('Original')\n",
    "\n",
    "axarr[1].imshow(Ib)\n",
    "axarr[1].set_title('Blurred')"
   ]
  },
  {
   "cell_type": "code",
   "execution_count": 8,
   "metadata": {},
   "outputs": [
    {
     "data": {
      "application/vnd.jupyter.widget-view+json": {
       "model_id": "2b6c38754f804f5ab4e6b53d5ff4bbd2",
       "version_major": 2,
       "version_minor": 0
      },
      "text/plain": [
       "Canvas(toolbar=Toolbar(toolitems=[('Home', 'Reset original view', 'home', 'home'), ('Back', 'Back to previous …"
      ]
     },
     "metadata": {},
     "output_type": "display_data"
    },
    {
     "data": {
      "text/plain": [
       "Text(0.5, 1.0, 'Sharped (Original + D)')"
      ]
     },
     "execution_count": 8,
     "metadata": {},
     "output_type": "execute_result"
    }
   ],
   "source": [
    "#Now sharpen\n",
    "D = I - Ib\n",
    "Isharp = I + D\n",
    "Isharp[Isharp < 0] = 0\n",
    "Isharp[Isharp > 1] = 1\n",
    "\n",
    "f, axarr = plt.subplots(1,2, figsize=(10, 3))\n",
    "\n",
    "#normalize to [0,1] the difference image, for display.\n",
    "D = D - D.ravel().min()\n",
    "D = D/D.ravel().max()\n",
    "\n",
    "axarr[0].imshow(D)\n",
    "axarr[0].set_title('Orginal-Blurred (D)')\n",
    "\n",
    "axarr[1].imshow(Isharp)\n",
    "axarr[1].set_title('Sharped (Original + D)')"
   ]
  },
  {
   "cell_type": "code",
   "execution_count": 9,
   "metadata": {},
   "outputs": [
    {
     "data": {
      "application/vnd.jupyter.widget-view+json": {
       "model_id": "6001bad4c89d40bb86d50365409ce32b",
       "version_major": 2,
       "version_minor": 0
      },
      "text/plain": [
       "Canvas(toolbar=Toolbar(toolitems=[('Home', 'Reset original view', 'home', 'home'), ('Back', 'Back to previous …"
      ]
     },
     "metadata": {},
     "output_type": "display_data"
    },
    {
     "data": {
      "text/plain": [
       "Text(0.5, 1.0, 'Sharped (Original + D) with mean')"
      ]
     },
     "execution_count": 9,
     "metadata": {},
     "output_type": "execute_result"
    }
   ],
   "source": [
    "\n",
    "f, a = plt.subplots(1,2, figsize=(10, 3), sharex=True, sharey=True)\n",
    "\n",
    "a[0].imshow(I)\n",
    "a[0].set_title('Original')\n",
    "\n",
    "a[1].imshow(Isharp)\n",
    "a[1].set_title('Sharped (Original + D) with mean')"
   ]
  },
  {
   "cell_type": "code",
   "execution_count": 2,
   "metadata": {},
   "outputs": [],
   "source": [
    "I = plt.imread('po.jpg').astype(float)\n",
    "I = I/I.ravel().max()\n",
    "\n",
    "Ib = np.zeros(I.shape)\n",
    "Out = np.zeros(I.shape[:2])"
   ]
  },
  {
   "cell_type": "code",
   "execution_count": 3,
   "metadata": {},
   "outputs": [
    {
     "data": {
      "application/vnd.jupyter.widget-view+json": {
       "model_id": "",
       "version_major": 2,
       "version_minor": 0
      },
      "text/plain": [
       "Canvas(toolbar=Toolbar(toolitems=[('Home', 'Reset original view', 'home', 'home'), ('Back', 'Back to previous …"
      ]
     },
     "metadata": {},
     "output_type": "display_data"
    },
    {
     "data": {
      "text/plain": [
       "<matplotlib.image.AxesImage at 0x14e1ab48fd0>"
      ]
     },
     "execution_count": 3,
     "metadata": {},
     "output_type": "execute_result"
    }
   ],
   "source": [
    "h = np.array([[-1,-1,-1], [-1,8,-1],[-1,-1,-1]]) # LoG\n",
    "h = np.stack([h,h,h], axis = -1)\n",
    "GL = ndimage.correlate(I, h, mode='mirror') # look at the gradient/slope\n",
    "GL = (GL - GL.min())/(GL.max() - GL.min()) # make the range 0 -> 1\n",
    "plt.figure()\n",
    "plt.imshow(GL, cmap = 'gray')"
   ]
  },
  {
   "cell_type": "code",
   "execution_count": 7,
   "metadata": {},
   "outputs": [
    {
     "data": {
      "application/vnd.jupyter.widget-view+json": {
       "model_id": "",
       "version_major": 2,
       "version_minor": 0
      },
      "text/plain": [
       "Canvas(toolbar=Toolbar(toolitems=[('Home', 'Reset original view', 'home', 'home'), ('Back', 'Back to previous …"
      ]
     },
     "metadata": {},
     "output_type": "display_data"
    },
    {
     "data": {
      "text/plain": [
       "<matplotlib.image.AxesImage at 0x14e2c1d0a58>"
      ]
     },
     "execution_count": 7,
     "metadata": {},
     "output_type": "execute_result"
    }
   ],
   "source": [
    "#Now sharpen\n",
    "DL = I - GL\n",
    "IsharpL = I + DL\n",
    "IsharpL[IsharpL > 1] = 1\n",
    "IsharpL[IsharpL < 0] = 0\n",
    "f, axx = plt.subplots(1,2, figsize = (10,5) ,sharex = True, sharey = True)\n",
    "axx[0].imshow(I)\n",
    "axx[1].imshow(IsharpL)"
   ]
  },
  {
   "cell_type": "code",
   "execution_count": null,
   "metadata": {},
   "outputs": [],
   "source": []
  },
  {
   "cell_type": "code",
   "execution_count": 45,
   "metadata": {},
   "outputs": [],
   "source": [
    "plt.close('all')"
   ]
  }
 ],
 "metadata": {
  "kernelspec": {
   "display_name": "Python 3",
   "language": "python",
   "name": "python3"
  },
  "language_info": {
   "codemirror_mode": {
    "name": "ipython",
    "version": 3
   },
   "file_extension": ".py",
   "mimetype": "text/x-python",
   "name": "python",
   "nbconvert_exporter": "python",
   "pygments_lexer": "ipython3",
   "version": "3.7.3"
  }
 },
 "nbformat": 4,
 "nbformat_minor": 4
}
