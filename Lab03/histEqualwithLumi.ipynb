{
 "cells": [
  {
   "cell_type": "code",
   "execution_count": 1,
   "metadata": {},
   "outputs": [],
   "source": [
    "%matplotlib widget\n",
    "import matplotlib.pyplot as plt\n",
    "import scipy.ndimage as ndimage\n",
    "import numpy as np"
   ]
  },
  {
   "cell_type": "code",
   "execution_count": 2,
   "metadata": {},
   "outputs": [],
   "source": [
    "#Load an image and normalize to [0,1]\n",
    "I = plt.imread('DSCF0269.JPG').astype(float)\n",
    "I = I - I.ravel().min()\n",
    "I = I/I.ravel().max()"
   ]
  },
  {
   "cell_type": "code",
   "execution_count": 3,
   "metadata": {},
   "outputs": [],
   "source": [
    "#Scaled per channel\n",
    "IE = np.zeros(I.shape)\n",
    "IX = np.zeros(I.shape)\n",
    "for channel in range(3):\n",
    "    hist, bins = np.histogram(I[...,channel], bins=np.arange(257) / 256)\n",
    "    CDF = np.cumsum(hist) / sum(hist)\n",
    "\n",
    "    Ir = np.interp(I[...,channel], xp=bins[:-1], fp=CDF)\n",
    "    # like a trend-matching function, have a value of x -> output fp(x)\n",
    "    IX[...,channel] = Ir\n",
    "\n",
    "Ig = 0.2989*I[...,0] + 0.5870*I[...,1] + 0.1140*I[...,2]\n",
    "hist, bins = np.histogram(Ig, bins=np.arange(257) / 256)\n",
    "CDF = np.cumsum(hist) / sum(hist)\n",
    "IE = np.interp(I, xp=bins[:-1], fp=CDF)\n",
    "# like a trend-matching function, have a value of x -> output fp(x)"
   ]
  },
  {
   "cell_type": "code",
   "execution_count": 4,
   "metadata": {},
   "outputs": [
    {
     "data": {
      "application/vnd.jupyter.widget-view+json": {
       "model_id": "b302248d315f48c4bcaa7815d20f256c",
       "version_major": 2,
       "version_minor": 0
      },
      "text/plain": [
       "Canvas(toolbar=Toolbar(toolitems=[('Home', 'Reset original view', 'home', 'home'), ('Back', 'Back to previous …"
      ]
     },
     "metadata": {},
     "output_type": "display_data"
    }
   ],
   "source": [
    "allbins = np.unique(I.ravel())\n",
    "\n",
    "f, ax1 = plt.subplots(1,2, figsize=(10,3))\n",
    "ax1[0].imshow(I) #https://matplotlib.org/api/_as_gen/matplotlib.pyplot.imshow.html\n",
    "ax1[0].set_title('Original Image')\n",
    "\n",
    "ax1[1].hist(I[...,0].ravel(), allbins, alpha = .6, label = 'red', color = 'r')\n",
    "ax1[1].hist(I[...,1].ravel(), allbins, alpha = .6, label = 'green', color = 'g')\n",
    "ax1[1].hist(I[...,2].ravel(), allbins, alpha = .6, label = 'blue', color = 'b')\n",
    "ax1[1].legend(loc = 'upper right')\n",
    "plt.show()"
   ]
  },
  {
   "cell_type": "code",
   "execution_count": 5,
   "metadata": {},
   "outputs": [
    {
     "data": {
      "application/vnd.jupyter.widget-view+json": {
       "model_id": "18bf4ec5a65e41caa12bdc8df7cc6abf",
       "version_major": 2,
       "version_minor": 0
      },
      "text/plain": [
       "Canvas(toolbar=Toolbar(toolitems=[('Home', 'Reset original view', 'home', 'home'), ('Back', 'Back to previous …"
      ]
     },
     "metadata": {},
     "output_type": "display_data"
    }
   ],
   "source": [
    "f, ax2 = plt.subplots(1,2, figsize=(10,3))\n",
    "ax2[0].imshow(IE) #https://matplotlib.org/api/_as_gen/matplotlib.pyplot.imshow.html\n",
    "ax2[0].set_title('Lumi Equal')\n",
    "ax2[1].hist(IE[...,0].ravel(), 250, alpha = .6, label = 'red', color = 'r')\n",
    "ax2[1].hist(IE[...,1].ravel(), 250, alpha = .6, label = 'green', color = 'g')\n",
    "ax2[1].hist(IE[...,2].ravel(), 250, alpha = .6, label = 'blue', color = 'b')\n",
    "ax2[1].legend(loc = 'upper right')\n",
    "# ax2[1].imshow(IE)\n",
    "plt.show()"
   ]
  },
  {
   "cell_type": "code",
   "execution_count": 6,
   "metadata": {},
   "outputs": [
    {
     "data": {
      "application/vnd.jupyter.widget-view+json": {
       "model_id": "10c49db3f2dc47d2a9a7fd88d25ab071",
       "version_major": 2,
       "version_minor": 0
      },
      "text/plain": [
       "Canvas(toolbar=Toolbar(toolitems=[('Home', 'Reset original view', 'home', 'home'), ('Back', 'Back to previous …"
      ]
     },
     "metadata": {},
     "output_type": "display_data"
    },
    {
     "data": {
      "text/plain": [
       "Text(0.5, 1.0, 'LumiEqualization')"
      ]
     },
     "execution_count": 6,
     "metadata": {},
     "output_type": "execute_result"
    }
   ],
   "source": [
    "f, x = plt.subplots(1,2, figsize=(10,3), sharex = True, sharey = True)\n",
    "x[0].imshow(IX)\n",
    "x[0].set_title('Separate Channel Equal')\n",
    "\n",
    "x[1].imshow(IE)\n",
    "x[1].set_title('LumiEqualization')\n"
   ]
  },
  {
   "cell_type": "code",
   "execution_count": null,
   "metadata": {},
   "outputs": [],
   "source": []
  },
  {
   "cell_type": "code",
   "execution_count": null,
   "metadata": {},
   "outputs": [],
   "source": []
  },
  {
   "cell_type": "code",
   "execution_count": null,
   "metadata": {},
   "outputs": [],
   "source": []
  },
  {
   "cell_type": "code",
   "execution_count": 34,
   "metadata": {},
   "outputs": [],
   "source": [
    "plt.close(\"all\")"
   ]
  }
 ],
 "metadata": {
  "kernelspec": {
   "display_name": "Python 3",
   "language": "python",
   "name": "python3"
  },
  "language_info": {
   "codemirror_mode": {
    "name": "ipython",
    "version": 3
   },
   "file_extension": ".py",
   "mimetype": "text/x-python",
   "name": "python",
   "nbconvert_exporter": "python",
   "pygments_lexer": "ipython3",
   "version": "3.7.3"
  }
 },
 "nbformat": 4,
 "nbformat_minor": 4
}
