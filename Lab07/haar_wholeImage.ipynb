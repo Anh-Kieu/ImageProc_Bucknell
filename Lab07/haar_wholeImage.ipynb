{
 "cells": [
  {
   "cell_type": "markdown",
   "metadata": {},
   "source": [
    "# Decomposing image information\n",
    "Stough, DIP\n",
    "\n",
    "It can be valuable in compression to rethink of an image in terms of important and less important information. At the very core in this example, we recode each pair of pixels as a mean, difference. Then if the difference is quite small, it can potentially be ignored."
   ]
  },
  {
   "cell_type": "code",
   "execution_count": 1,
   "metadata": {},
   "outputs": [],
   "source": [
    "%matplotlib widget\n",
    "import numpy as np\n",
    "import matplotlib.pyplot as plt\n",
    "from skimage.transform import rescale\n",
    "\n",
    "#Probably shouldn't have to repeat this in every script.\n",
    "#https://matplotlib.org/users/dflt_style_changes.html\n",
    "import matplotlib as mpl\n",
    "mpl.rcParams['image.cmap'] = 'gray'"
   ]
  },
  {
   "cell_type": "markdown",
   "metadata": {},
   "source": [
    "## A very simple basis for any pair of pixels."
   ]
  },
  {
   "cell_type": "code",
   "execution_count": 2,
   "metadata": {},
   "outputs": [],
   "source": [
    "phi = np.array([1, 1])/np.sqrt(2)\n",
    "psi = np.array([1, -1])/np.sqrt(2)\n",
    "H = np.stack((phi, psi), axis = 0)"
   ]
  },
  {
   "cell_type": "code",
   "execution_count": 3,
   "metadata": {},
   "outputs": [],
   "source": [
    "#Decompose each row into a half-row of phi's and a half-row of psi's\n",
    "#Assuming a multiple of 2 on the number of columns.\n",
    "def haarDecompOnce(I):\n",
    "    Ic = I.copy()\n",
    "    for i in range(3):\n",
    "        X = np.reshape(I[...,i].ravel(order='C'), (2, I[...,i].size//2), order='F')\n",
    "        phis = np.inner(phi, X.transpose())\n",
    "        psis = np.inner(psi, X.transpose())\n",
    "#         print(psis)\n",
    "        Ic[...,i] = np.concatenate([np.reshape(phis, (I.shape[0], I.shape[1]//2)),\n",
    "                           np.reshape(psis, (I.shape[0], I.shape[1] // 2))],\n",
    "                          axis=1)\n",
    "    return Ic\n",
    "\n",
    "def haarDecomp(I):\n",
    "    if not np.all([np.log2(d).is_integer() for d in I.shape[:2]]):\n",
    "        raise ValueError('haarDecomp: requires image with dimensions powers of 2.')\n",
    "\n",
    "    howmany = min([int(np.log2(d)) for d in I.shape[:2]])\n",
    "\n",
    "    J = I.copy()\n",
    "    for h in range(howmany):\n",
    "        J = haarDecompOnce(J)\n",
    "        J = haarDecompOnce(J.transpose())\n",
    "    return J"
   ]
  },
  {
   "cell_type": "code",
   "execution_count": 15,
   "metadata": {},
   "outputs": [],
   "source": [
    "#Decompose each row into a half-row of phi's and a half-row of psi's\n",
    "#Assuming a multiple of 2 on the number of columns.\n",
    "def haarDecompOnce(I):\n",
    "    X = np.reshape(I.ravel(order='C'), (2, I.size//2), order='F')\n",
    "    print(X.shape)\n",
    "    phis = np.inner(phi, X.transpose())\n",
    "    psis = np.inner(psi, X.transpose())\n",
    "    return np.concatenate([np.reshape(phis, (I.shape[0], I.shape[1]//2)),\n",
    "                           np.reshape(psis, (I.shape[0], I.shape[1] // 2))],\n",
    "                          axis=1)\n",
    "\n",
    "def haarDecomp(I):\n",
    "    if not np.all([np.log2(d).is_integer() for d in I.shape[:2]]):\n",
    "        raise ValueError('haarDecomp: requires image with dimensions powers of 2.')\n",
    "\n",
    "    howmany = min([int(np.log2(d)) for d in I.shape[:2]])\n",
    "\n",
    "    J = I.copy()\n",
    "    for h in range(howmany):\n",
    "        J = haarDecompOnce(J)\n",
    "        J = haarDecompOnce(J.transpose())\n",
    "    return J\n",
    "\n",
    "#Left for later...\n",
    "def haarRecompOnce(J):\n",
    "    f = np.inner(X.T, phi)\n",
    "    s = np.inner(X.T, psi)\n",
    "\n",
    "    IR = np.reshape(np.stack([f,s]).ravel(order='F'), J.shape)\n",
    "    return IR\n",
    "\n",
    "def haarRecomp(J):\n",
    "    if not np.all([np.log2(d).is_integer() for d in J.shape[:2]]):\n",
    "        raise ValueError('haarDecomp: requires image with dimensions powers of 2.')\n",
    "    howmany = min([int(np.log2(d)) for d in J.shape[:2]])\n",
    "    # smallest one\n",
    "    I = J.copy()\n",
    "    for i in range(howmany):\n",
    "        I = haarRecompOnce(I.T)\n",
    "        I = haarRecompOnce(I.T)\n",
    "    return I"
   ]
  },
  {
   "cell_type": "code",
   "execution_count": 16,
   "metadata": {},
   "outputs": [
    {
     "name": "stdout",
     "output_type": "stream",
     "text": [
      "(2, 131072)\n",
      "(2, 131072)\n"
     ]
    },
    {
     "data": {
      "application/vnd.jupyter.widget-view+json": {
       "model_id": "",
       "version_major": 2,
       "version_minor": 0
      },
      "text/plain": [
       "Canvas(toolbar=Toolbar(toolitems=[('Home', 'Reset original view', 'home', 'home'), ('Back', 'Back to previous …"
      ]
     },
     "metadata": {},
     "output_type": "display_data"
    }
   ],
   "source": [
    "#Just going to do single channel here.\n",
    "I = plt.imread('cat_small.png').astype('float')\n",
    "GI = I.copy()[...,:3]\n",
    "GI = 0.2989 * I[..., 0] + 0.5870 * I[..., 1] + 0.1140 * I[..., 2]\n",
    "GI = GI/GI.max()\n",
    "\n",
    "#Code to pad to the nearest power of two\n",
    "dimsRounded = [int(np.power(2, np.ceil(np.log2(d)))) for d in GI.shape[:2]]\n",
    "\n",
    "# Padded to the power of 2.\n",
    "GIP = np.pad(GI, pad_width=((0, dimsRounded[0]-GI.shape[0]),\n",
    "                            (0, dimsRounded[1]-GI.shape[1])),\n",
    "             mode='constant', constant_values=0)\n",
    "\n",
    "\n",
    "\n",
    "First = haarDecompOnce(GI)\n",
    "First = First/First.max()\n",
    "Second = haarDecompOnce(First.transpose()).transpose()\n",
    "\n",
    "\n",
    "f, ax = plt.subplots(1,3, figsize=(10,3))\n",
    "\n",
    "ax[0].imshow(GI)\n",
    "ax[0].set_title('Original')\n",
    "\n",
    "ax[1].imshow(First)\n",
    "ax[1].set_title('Step 1: Row Transform')\n",
    "\n",
    "ax[2].imshow(Second)\n",
    "ax[2].set_title('Step 2: Column Transform')\n",
    "\n",
    "plt.show()\n",
    "plt.tight_layout()"
   ]
  },
  {
   "cell_type": "code",
   "execution_count": 23,
   "metadata": {},
   "outputs": [
    {
     "data": {
      "application/vnd.jupyter.widget-view+json": {
       "model_id": "9ae7db32b4254103a7f3e0ad3409574c",
       "version_major": 2,
       "version_minor": 0
      },
      "text/plain": [
       "Canvas(toolbar=Toolbar(toolitems=[('Home', 'Reset original view', 'home', 'home'), ('Back', 'Back to previous …"
      ]
     },
     "metadata": {},
     "output_type": "display_data"
    },
    {
     "name": "stdout",
     "output_type": "stream",
     "text": [
      "(2, 131072)\n",
      "(2, 131072)\n",
      "(2, 131072)\n",
      "(2, 131072)\n",
      "(2, 131072)\n",
      "(2, 131072)\n",
      "(2, 131072)\n",
      "(2, 131072)\n",
      "(2, 131072)\n",
      "(2, 131072)\n",
      "(2, 131072)\n",
      "(2, 131072)\n",
      "(2, 131072)\n",
      "(2, 131072)\n",
      "(2, 131072)\n",
      "(2, 131072)\n",
      "(2, 131072)\n",
      "(2, 131072)\n"
     ]
    },
    {
     "data": {
      "text/plain": [
       "<matplotlib.image.AxesImage at 0x7f2d8aed4d10>"
      ]
     },
     "execution_count": 23,
     "metadata": {},
     "output_type": "execute_result"
    }
   ],
   "source": [
    "plt.figure()\n",
    "HI = haarDecomp(GIP)\n",
    "plt.imshow(HI)"
   ]
  },
  {
   "cell_type": "code",
   "execution_count": 24,
   "metadata": {},
   "outputs": [
    {
     "data": {
      "application/vnd.jupyter.widget-view+json": {
       "model_id": "aa901df41eed42e0a139bca0e2fdb47c",
       "version_major": 2,
       "version_minor": 0
      },
      "text/plain": [
       "Canvas(toolbar=Toolbar(toolitems=[('Home', 'Reset original view', 'home', 'home'), ('Back', 'Back to previous …"
      ]
     },
     "metadata": {},
     "output_type": "display_data"
    },
    {
     "data": {
      "text/plain": [
       "<matplotlib.image.AxesImage at 0x7f2d8ad6e590>"
      ]
     },
     "execution_count": 24,
     "metadata": {},
     "output_type": "execute_result"
    }
   ],
   "source": [
    "plt.figure()\n",
    "plt.imshow(haarRecomp(HI))"
   ]
  },
  {
   "cell_type": "code",
   "execution_count": 18,
   "metadata": {},
   "outputs": [],
   "source": [
    "plt.close('all')"
   ]
  },
  {
   "cell_type": "code",
   "execution_count": 73,
   "metadata": {},
   "outputs": [
    {
     "data": {
      "application/vnd.jupyter.widget-view+json": {
       "model_id": "",
       "version_major": 2,
       "version_minor": 0
      },
      "text/plain": [
       "Canvas(toolbar=Toolbar(toolitems=[('Home', 'Reset original view', 'home', 'home'), ('Back', 'Back to previous …"
      ]
     },
     "metadata": {},
     "output_type": "display_data"
    },
    {
     "data": {
      "text/plain": [
       "<matplotlib.image.AxesImage at 0x7f7179103fd0>"
      ]
     },
     "execution_count": 73,
     "metadata": {},
     "output_type": "execute_result"
    }
   ],
   "source": [
    "f, ax = plt.subplots(1,2, figsize=(10,3), sharex = False, sharey = True)\n",
    "arr = np.array_split(First, 2, axis = 1)\n",
    "ax[0].imshow(GIP)\n",
    "ax[1].imshow((arr[0]+arr[1]))"
   ]
  },
  {
   "cell_type": "code",
   "execution_count": 8,
   "metadata": {},
   "outputs": [
    {
     "name": "stdout",
     "output_type": "stream",
     "text": [
      "(2, 131072)\n"
     ]
    }
   ],
   "source": [
    "J = haarDecompOnce(GIP)"
   ]
  },
  {
   "cell_type": "code",
   "execution_count": null,
   "metadata": {},
   "outputs": [],
   "source": [
    "\n"
   ]
  },
  {
   "cell_type": "code",
   "execution_count": 11,
   "metadata": {},
   "outputs": [
    {
     "data": {
      "text/plain": [
       "array([[0.76592364, 0.78037995, 0.77801403, ..., 0.37883899, 0.37526834,\n",
       "        0.37929847],\n",
       "       [0.76351419, 0.75948406, 0.76588011, ..., 0.31290997, 0.32142971,\n",
       "        0.3197655 ],\n",
       "       [0.72200817, 0.75781985, 0.76184998, ..., 0.3197655 , 0.32333615,\n",
       "        0.31930602],\n",
       "       ...,\n",
       "       [0.95869309, 0.96176073, 0.95819008, ..., 0.94336821, 0.94739834,\n",
       "        0.95471335],\n",
       "       [0.95869309, 0.95893533, 0.9577306 , ..., 0.93651267, 0.93530795,\n",
       "        0.94336821],\n",
       "       [0.95582416, 0.9549052 , 0.95893533, ..., 0.93011662, 0.93530795,\n",
       "        0.93530795]])"
      ]
     },
     "execution_count": 11,
     "metadata": {},
     "output_type": "execute_result"
    }
   ],
   "source": [
    "X = np.stack([J[:, :J.shape[1]//2].ravel(), J[:, J.shape[1]//2:].ravel()]) # mean and change\n",
    "P = np.inner(X.T, H)\n",
    "np.reshape(P, (512,512))"
   ]
  },
  {
   "cell_type": "code",
   "execution_count": 10,
   "metadata": {},
   "outputs": [
    {
     "data": {
      "text/plain": [
       "array([[0.76592364, 0.78037995, 0.77801403, ..., 0.37883899, 0.37526834,\n",
       "        0.37929847],\n",
       "       [0.76351419, 0.75948406, 0.76588011, ..., 0.31290997, 0.32142971,\n",
       "        0.3197655 ],\n",
       "       [0.72200817, 0.75781985, 0.76184998, ..., 0.3197655 , 0.32333615,\n",
       "        0.31930602],\n",
       "       ...,\n",
       "       [0.24564602, 0.43972541, 0.55751814, ..., 0.3169401 , 0.32051074,\n",
       "        0.31648062],\n",
       "       [0.15199056, 0.32026851, 0.46199974, ..., 0.31124576, 0.31930602,\n",
       "        0.31124576],\n",
       "       [0.08032367, 0.19200609, 0.37357914, ..., 0.31810129, 0.32213142,\n",
       "        0.31689657]])"
      ]
     },
     "execution_count": 10,
     "metadata": {},
     "output_type": "execute_result"
    }
   ],
   "source": [
    "GIP[:10]"
   ]
  },
  {
   "cell_type": "code",
   "execution_count": 13,
   "metadata": {},
   "outputs": [],
   "source": [
    "f = np.inner(X.T, phi)\n",
    "s = np.inner(X.T, psi)\n",
    "\n",
    "IR = np.reshape(np.stack([f,s]).ravel(order='F'), J.shape)"
   ]
  },
  {
   "cell_type": "code",
   "execution_count": 14,
   "metadata": {},
   "outputs": [
    {
     "data": {
      "application/vnd.jupyter.widget-view+json": {
       "model_id": "",
       "version_major": 2,
       "version_minor": 0
      },
      "text/plain": [
       "Canvas(toolbar=Toolbar(toolitems=[('Home', 'Reset original view', 'home', 'home'), ('Back', 'Back to previous …"
      ]
     },
     "metadata": {},
     "output_type": "display_data"
    },
    {
     "data": {
      "text/plain": [
       "<matplotlib.image.AxesImage at 0x7f2d8b3ee250>"
      ]
     },
     "execution_count": 14,
     "metadata": {},
     "output_type": "execute_result"
    }
   ],
   "source": [
    "plt.figure()\n",
    "plt.imshow(IR)"
   ]
  },
  {
   "cell_type": "code",
   "execution_count": null,
   "metadata": {},
   "outputs": [],
   "source": []
  }
 ],
 "metadata": {
  "kernelspec": {
   "display_name": "Python 3",
   "language": "python",
   "name": "python3"
  },
  "language_info": {
   "codemirror_mode": {
    "name": "ipython",
    "version": 3
   },
   "file_extension": ".py",
   "mimetype": "text/x-python",
   "name": "python",
   "nbconvert_exporter": "python",
   "pygments_lexer": "ipython3",
   "version": "3.7.6"
  }
 },
 "nbformat": 4,
 "nbformat_minor": 4
}
