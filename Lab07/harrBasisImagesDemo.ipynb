{
 "cells": [
  {
   "cell_type": "code",
   "execution_count": 1,
   "metadata": {},
   "outputs": [],
   "source": [
    "\"\"\"\n",
    "Joshua Stough\n",
    "DIP\n",
    "\n",
    "Trying to display the Euclidean and the Haar basis transforms in simple 4x4.\n",
    "Then, show a 4x4 image, its basis transform, and its reconstruction.\n",
    "\"\"\"\n",
    "%matplotlib widget\n",
    "import matplotlib.pyplot as plt\n",
    "import numpy as np\n",
    "import skimage\n",
    "import scipy.ndimage as ndimage"
   ]
  },
  {
   "cell_type": "code",
   "execution_count": 2,
   "metadata": {},
   "outputs": [
    {
     "data": {
      "application/vnd.jupyter.widget-view+json": {
       "model_id": "b5fc90c540b94f8583a2947187b27bc8",
       "version_major": 2,
       "version_minor": 0
      },
      "text/plain": [
       "Canvas(toolbar=Toolbar(toolitems=[('Home', 'Reset original view', 'home', 'home'), ('Back', 'Back to previous …"
      ]
     },
     "metadata": {},
     "output_type": "display_data"
    }
   ],
   "source": [
    "#The 4x4 Euclidean basis. Each row represents an\n",
    "#orthogonal (independent) direction in 4D space.\n",
    "E = np.eye(4,4)\n",
    "\n",
    "#For display\n",
    "fe, axe = plt.subplots(4,4, figsize=(10,10))\n",
    "\n",
    "for i in range(4):\n",
    "    for j in range(4):\n",
    "        #Taking the outer product of a row with any other\n",
    "        #creates a 4x4 basis image.\n",
    "        Bij = np.outer(E[i,:], E[j,:])\n",
    "        axe[i][j].imshow(Bij, cmap='gray')\n",
    "        axe[i][j].axes.get_xaxis().set_visible(False)\n",
    "        axe[i][j].axes.get_yaxis().set_visible(False)\n",
    "\n",
    "#plt.suptitle('Euclidean Basis') #gets in the way if using tight_layout(),\n",
    "#see below.\n",
    "plt.show()"
   ]
  },
  {
   "cell_type": "code",
   "execution_count": 3,
   "metadata": {},
   "outputs": [
    {
     "data": {
      "application/vnd.jupyter.widget-view+json": {
       "model_id": "7ce4d213bd17403f8da11f9216e19a28",
       "version_major": 2,
       "version_minor": 0
      },
      "text/plain": [
       "Canvas(toolbar=Toolbar(toolitems=[('Home', 'Reset original view', 'home', 'home'), ('Back', 'Back to previous …"
      ]
     },
     "metadata": {},
     "output_type": "display_data"
    }
   ],
   "source": [
    "#####################################################################\n",
    "\n",
    "#The 4x4 Haar basis, see DIP 6.9.\n",
    "H = .5*np.array([[1,1,1,1], [1,1,-1,-1],\n",
    "              [np.sqrt(2),-np.sqrt(2),0,0],\n",
    "              [0,0,np.sqrt(2),-np.sqrt(2)]])\n",
    "\n",
    "fh, axh = plt.subplots(4,4, figsize=(10,10))\n",
    "\n",
    "for i in range(4):\n",
    "    for j in range(4):\n",
    "        # Construct that Haar basis and display it\n",
    "        Bij = np.outer(H[i,:], H[j,:])\n",
    "        axh[i][j].imshow(Bij, cmap='gray', vmin=-1, vmax=1)\n",
    "        axh[i][j].axes.get_xaxis().set_visible(False)\n",
    "        axh[i][j].axes.get_yaxis().set_visible(False)\n",
    "\n",
    "#plt.suptitle('Haar Basis')\n",
    "plt.show()\n",
    "\n",
    "fe.tight_layout() #minimize padding for slightly better visual.\n",
    "fh.tight_layout()\n",
    "\n",
    "#https://stackoverflow.com/questions/5812960/change-figure-window-title-in-pylab\n",
    "fe.canvas.set_window_title('Euclidean/Standard Basis')\n",
    "fh.canvas.set_window_title('Haar Basis')"
   ]
  },
  {
   "cell_type": "code",
   "execution_count": 4,
   "metadata": {},
   "outputs": [
    {
     "data": {
      "text/plain": [
       "0.5"
      ]
     },
     "execution_count": 4,
     "metadata": {},
     "output_type": "execute_result"
    }
   ],
   "source": [
    "H[0][0]"
   ]
  },
  {
   "cell_type": "code",
   "execution_count": 5,
   "metadata": {},
   "outputs": [
    {
     "data": {
      "application/vnd.jupyter.widget-view+json": {
       "model_id": "d60c4d8a0cba435cb9f5a54155db92b7",
       "version_major": 2,
       "version_minor": 0
      },
      "text/plain": [
       "Canvas(toolbar=Toolbar(toolitems=[('Home', 'Reset original view', 'home', 'home'), ('Back', 'Back to previous …"
      ]
     },
     "metadata": {},
     "output_type": "display_data"
    }
   ],
   "source": [
    "#####################################################################\n",
    "\n",
    "#So now, a simple color image. F is \"F\", CF is a random color version.\n",
    "F = np.array([[0, 1, 1, 1], [0, 1, 0, 0], [0, 1, 1, 1], [0, 1, 0, 0]])\n",
    "CF = np.concatenate([np.expand_dims(F*np.random.rand(4,4), axis=2)\n",
    "                     for x in range(3)], axis=2)\n",
    "\n",
    "#the transform image: We decompose the image according to\n",
    "#H by T = H*F*H', where H' is H.transpose(). T is a 4x4\n",
    "#of the transform coefficients.\n",
    "T = np.matmul(H, np.matmul(F, H.transpose()))\n",
    "\n",
    "#The reconstructed image: Properties of the orthonormal\n",
    "#basis make reversing the transform as easy as applying\n",
    "#H and H' in a different order: F = H'*T*H\n",
    "TR = np.matmul(H.transpose(), np.matmul(T, H))\n",
    "\n",
    "f, ax = plt.subplots(1,3, figsize=(12,3))\n",
    "\n",
    "ax[0].imshow(F, cmap='gray')\n",
    "ax[0].set_title('Image')\n",
    "\n",
    "ax[1].imshow(T, cmap='gray', vmin=T.min(), vmax=T.max())\n",
    "ax[1].set_title('Transform Coefficients')\n",
    "\n",
    "ax[2].imshow(TR, cmap='gray')\n",
    "ax[2].set_title('Reconstruction')\n",
    "\n",
    "f.tight_layout()\n",
    "f.canvas.set_window_title('Image, Transform, and Reconstruction')"
   ]
  },
  {
   "cell_type": "code",
   "execution_count": 6,
   "metadata": {},
   "outputs": [],
   "source": [
    "B0 = np.outer(H[0,:], H[2,:])"
   ]
  },
  {
   "cell_type": "code",
   "execution_count": 7,
   "metadata": {},
   "outputs": [
    {
     "data": {
      "text/plain": [
       "array([[ 0.        , -0.35355339,  0.        ,  0.        ],\n",
       "       [ 0.        , -0.35355339,  0.        ,  0.        ],\n",
       "       [ 0.        , -0.35355339,  0.        ,  0.        ],\n",
       "       [ 0.        , -0.35355339,  0.        ,  0.        ]])"
      ]
     },
     "execution_count": 7,
     "metadata": {},
     "output_type": "execute_result"
    }
   ],
   "source": [
    "np.multiply(F,B0)"
   ]
  },
  {
   "cell_type": "code",
   "execution_count": 8,
   "metadata": {},
   "outputs": [
    {
     "data": {
      "text/plain": [
       "array([[ 0.35355339, -0.35355339,  0.        ,  0.        ],\n",
       "       [ 0.35355339, -0.35355339,  0.        ,  0.        ],\n",
       "       [ 0.35355339, -0.35355339,  0.        ,  0.        ],\n",
       "       [ 0.35355339, -0.35355339,  0.        ,  0.        ]])"
      ]
     },
     "execution_count": 8,
     "metadata": {},
     "output_type": "execute_result"
    }
   ],
   "source": [
    "B0"
   ]
  },
  {
   "cell_type": "code",
   "execution_count": null,
   "metadata": {},
   "outputs": [],
   "source": []
  },
  {
   "cell_type": "code",
   "execution_count": null,
   "metadata": {},
   "outputs": [],
   "source": []
  }
 ],
 "metadata": {
  "kernelspec": {
   "display_name": "Python 3",
   "language": "python",
   "name": "python3"
  },
  "language_info": {
   "codemirror_mode": {
    "name": "ipython",
    "version": 3
   },
   "file_extension": ".py",
   "mimetype": "text/x-python",
   "name": "python",
   "nbconvert_exporter": "python",
   "pygments_lexer": "ipython3",
   "version": "3.7.6"
  }
 },
 "nbformat": 4,
 "nbformat_minor": 4
}
