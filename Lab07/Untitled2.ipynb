{
 "cells": [
  {
   "cell_type": "code",
   "execution_count": 1,
   "metadata": {},
   "outputs": [],
   "source": [
    "%matplotlib widget\n",
    "import matplotlib.pyplot as plt\n",
    "from waveletUtil import *\n",
    "from ipywidgets import VBox, IntSlider\n",
    "from skimage.util import view_as_blocks\n",
    "from skimage.util import montage\n",
    "from skimage.transform import rescale"
   ]
  },
  {
   "cell_type": "code",
   "execution_count": 2,
   "metadata": {},
   "outputs": [],
   "source": [
    "I = plt.imread('b.png')\n",
    "I = I[...,:3].copy()"
   ]
  },
  {
   "cell_type": "code",
   "execution_count": 3,
   "metadata": {},
   "outputs": [
    {
     "data": {
      "application/vnd.jupyter.widget-view+json": {
       "model_id": "53413891cf86437780230193849f8fec",
       "version_major": 2,
       "version_minor": 0
      },
      "text/plain": [
       "Canvas(toolbar=Toolbar(toolitems=[('Home', 'Reset original view', 'home', 'home'), ('Back', 'Back to previous …"
      ]
     },
     "metadata": {},
     "output_type": "display_data"
    },
    {
     "data": {
      "text/plain": [
       "<matplotlib.image.AxesImage at 0x7f420090b810>"
      ]
     },
     "execution_count": 3,
     "metadata": {},
     "output_type": "execute_result"
    }
   ],
   "source": [
    "from skimage.transform import rescale\n",
    "plt.figure()\n",
    "plt.imshow(I)"
   ]
  },
  {
   "cell_type": "code",
   "execution_count": 4,
   "metadata": {},
   "outputs": [],
   "source": [
    "s = 8"
   ]
  },
  {
   "cell_type": "code",
   "execution_count": 5,
   "metadata": {},
   "outputs": [],
   "source": [
    "H = makeDCTMatrix(s)"
   ]
  },
  {
   "cell_type": "code",
   "execution_count": 34,
   "metadata": {},
   "outputs": [],
   "source": [
    "# The coordinates\n",
    "xs = np.meshgrid(np.arange(s), np.arange(s), indexing='ij')\n",
    "coords = np.concatenate([np.expand_dims(c, axis=1) for c in\n",
    "                         [x.ravel() for x in xs]], axis=1)"
   ]
  },
  {
   "cell_type": "code",
   "execution_count": 35,
   "metadata": {},
   "outputs": [],
   "source": [
    "Ib = view_as_blocks(I, block_shape = (8,8,3))"
   ]
  },
  {
   "cell_type": "code",
   "execution_count": 36,
   "metadata": {},
   "outputs": [
    {
     "data": {
      "text/plain": [
       "(100, 100, 1, 8, 8, 3)"
      ]
     },
     "execution_count": 36,
     "metadata": {},
     "output_type": "execute_result"
    }
   ],
   "source": [
    "Ib.shape"
   ]
  },
  {
   "cell_type": "code",
   "execution_count": 49,
   "metadata": {},
   "outputs": [],
   "source": [
    "def generateCoef(sI, H):\n",
    "    '''\n",
    "    Generate coefficients for one block, a block of shape 8x8\n",
    "    The CT gonna have the shape 8*8*3 \n",
    "    Unordered\n",
    "    '''\n",
    "    CT = np.zeros(sI.shape)\n",
    "    for chan in range(3):\n",
    "        CT[...,chan] = np.matmul(H, np.matmul(sI[...,chan], H.transpose()))\n",
    "    mags = CT[...,0].ravel(order='F')\n",
    "    darg = np.argsort(mags)\n",
    "    darg = list(reversed(darg))\n",
    "    return CT, darg"
   ]
  },
  {
   "cell_type": "code",
   "execution_count": 50,
   "metadata": {},
   "outputs": [],
   "source": [
    "# Sort by mag, we need only 1 channel to be honest\n",
    "# mags = CT.ravel(order='F')\n",
    "# darg = np.argsort(mags)\n",
    "# darg.reverse()"
   ]
  },
  {
   "cell_type": "code",
   "execution_count": 51,
   "metadata": {},
   "outputs": [],
   "source": [
    "xs1 = np.meshgrid(np.arange(Ib.shape[0]), np.arange(Ib.shape[1]), indexing='ij')\n",
    "coords1 = np.concatenate([np.expand_dims(c, axis=1) for c in\n",
    "                         [x.ravel() for x in xs1]], axis=1)"
   ]
  },
  {
   "cell_type": "markdown",
   "metadata": {},
   "source": [
    "### WHAT I NEED TO DO\n",
    "- Generate each CT and sort by magnitude\n",
    "- Figure out how to do the coefficient and basis correctly?"
   ]
  },
  {
   "cell_type": "code",
   "execution_count": 52,
   "metadata": {},
   "outputs": [],
   "source": [
    "# this is inefficient because you are basically doing mul in 64, keep track of what u have, add one\n",
    "def make_image(change, H, sI):\n",
    "    global coords\n",
    "    CT, darg = generateCoef(sI, H)\n",
    "    ReI = np.zeros(sI.shape)\n",
    "    Bij = np.outer(H[0, :], H[0, :])\n",
    "    for ind in range(change):\n",
    "        i,j = coords[darg[ind]] #coords[darg[x]] if x in range(len(darg))\n",
    "\n",
    "    #Construct that Haar basis and display it\n",
    "        Bij = np.outer(H[i, :], H[j, :])\n",
    "    # Add the amount of that basis that was in the original image to\n",
    "    # the running total, or reconstruction.\n",
    "    # RI = RI + T[i, j] * Bij #2D\n",
    "        for chan in range(3):\n",
    "            ReI[...,chan] += CT[i,j,chan]*Bij\n",
    "    return Bij, ReI"
   ]
  },
  {
   "cell_type": "code",
   "execution_count": 53,
   "metadata": {},
   "outputs": [],
   "source": [
    "def mergeImg(change, Ib, H):\n",
    "    global coords1\n",
    "    Ic = np.squeeze(Ib)\n",
    "\n",
    "    blockView = Ic.reshape([Ic.shape[0]*Ic.shape[1]] + list(Ic.shape[2:]))\n",
    "    newImageBlocks = np.zeros(blockView.shape)\n",
    "    \n",
    "    for ind, block in enumerate(blockView):\n",
    "        i, j = coords1[ind]\n",
    "        base, bT = make_image(change, H, Ib[i,j,0]) # Some transform of the block\n",
    "    # bT is a (3,) array of the average color of the block\n",
    "    # This line sets each of the 8x8 pixels to be the (1,1,3) version of the bT\n",
    "        newImageBlocks[ind][:] = bT\n",
    "    I_new = montage(newImageBlocks[:,:], grid_shape=[Ib.shape[0], Ib.shape[1]], multichannel=True)\n",
    "    return I_new"
   ]
  },
  {
   "cell_type": "code",
   "execution_count": 56,
   "metadata": {},
   "outputs": [
    {
     "name": "stderr",
     "output_type": "stream",
     "text": [
      "Clipping input data to the valid range for imshow with RGB data ([0..1] for floats or [0..255] for integers).\n"
     ]
    },
    {
     "data": {
      "application/vnd.jupyter.widget-view+json": {
       "model_id": "3994a4b3e72e438aa1181e4eba722b0a",
       "version_major": 2,
       "version_minor": 0
      },
      "text/plain": [
       "VBox(children=(IntSlider(value=1, description='Base element', max=64, min=1), Canvas(toolbar=Toolbar(toolitems…"
      ]
     },
     "metadata": {},
     "output_type": "display_data"
    }
   ],
   "source": [
    "init = mergeImg(1, Ib, H)\n",
    "plt.ioff()\n",
    "plt.clf()\n",
    "\n",
    "# https://ipywidgets.readthedocs.io/en/stable/examples/Widget%20List.html#FloatLogSlider\n",
    "slider = IntSlider(\n",
    "    orientation='horizontal',\n",
    "    value=1,\n",
    "    min=1,\n",
    "    max=64,\n",
    "    step=1,\n",
    "    description='Base element'\n",
    ")\n",
    "\n",
    "fig_args = {'num':' ', 'frameon':True}\n",
    "fig, ax = plt.subplots(1,2, figsize=(10,3), **fig_args) \n",
    "\n",
    "# display artists I'll update\n",
    "# adisp = ax[0].imshow(basis, cmap='gray', vmin=-0.5, vmax=0.5)\n",
    "hdisp = ax[0].imshow(init, cmap='magma', vmin=0, vmax=1)\n",
    "ax[1].imshow(I)\n",
    "ax[1].set_title(\"OG\")\n",
    "\n",
    "def update_image(change):\n",
    "    global H, coords\n",
    "    i, j = coords[change.new-1]\n",
    "#     new_base = np.outer(H[i, :], H[j, :])\n",
    "    new_img = mergeImg(change.new, Ib, H)\n",
    "    hdisp.set_array(new_img)\n",
    "    # need to reset the color limits each time since gaus_h is changing a lot. \n",
    "    hdisp.set_clim(0,1) \n",
    "    \n",
    "#     adisp.set_array(new_base)\n",
    "    \n",
    "    fig.canvas.draw()\n",
    "    fig.canvas.flush_events()\n",
    "\n",
    "slider.observe(update_image, names='value')\n",
    "\n",
    "VBox([slider, fig.canvas])"
   ]
  },
  {
   "cell_type": "code",
   "execution_count": null,
   "metadata": {},
   "outputs": [],
   "source": []
  }
 ],
 "metadata": {
  "kernelspec": {
   "display_name": "Python 3",
   "language": "python",
   "name": "python3"
  },
  "language_info": {
   "codemirror_mode": {
    "name": "ipython",
    "version": 3
   },
   "file_extension": ".py",
   "mimetype": "text/x-python",
   "name": "python",
   "nbconvert_exporter": "python",
   "pygments_lexer": "ipython3",
   "version": "3.7.6"
  }
 },
 "nbformat": 4,
 "nbformat_minor": 4
}
