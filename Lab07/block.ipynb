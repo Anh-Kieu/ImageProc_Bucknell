{
 "cells": [
  {
   "cell_type": "code",
   "execution_count": 1,
   "metadata": {},
   "outputs": [],
   "source": [
    "%matplotlib widget\n",
    "import matplotlib.pyplot as plt\n",
    "from skimage.transform import rescale\n",
    "from waveletUtil import *\n",
    "from ipywidgets import VBox, IntSlider\n",
    "from skimage.util import view_as_blocks\n",
    "from skimage.util import montage \n"
   ]
  },
  {
   "cell_type": "code",
   "execution_count": 2,
   "metadata": {},
   "outputs": [
    {
     "data": {
      "application/vnd.jupyter.widget-view+json": {
       "model_id": "fbc61706bf9249739b6c243aab3dc066",
       "version_major": 2,
       "version_minor": 0
      },
      "text/plain": [
       "Canvas(toolbar=Toolbar(toolitems=[('Home', 'Reset original view', 'home', 'home'), ('Back', 'Back to previous …"
      ]
     },
     "metadata": {},
     "output_type": "display_data"
    },
    {
     "data": {
      "text/plain": [
       "<matplotlib.image.AxesImage at 0x7f6322acebd0>"
      ]
     },
     "execution_count": 2,
     "metadata": {},
     "output_type": "execute_result"
    }
   ],
   "source": [
    "plt.figure()\n",
    "I = plt.imread('original.jpg')\n",
    "I = I/I.max()\n",
    "I = I[...,:3].copy()\n",
    "I =I[:1152, :1152, :3] #crop\n",
    "plt.imshow(I)"
   ]
  },
  {
   "cell_type": "code",
   "execution_count": 3,
   "metadata": {},
   "outputs": [],
   "source": [
    "Ib = view_as_blocks(I, block_shape = (8,8,3))"
   ]
  },
  {
   "cell_type": "code",
   "execution_count": 4,
   "metadata": {},
   "outputs": [],
   "source": [
    "Ib = np.squeeze(Ib)\n",
    "\n",
    "blockView = Ib.reshape([Ib.shape[0]*Ib.shape[1]] + list(Ib.shape[2:]))"
   ]
  },
  {
   "cell_type": "code",
   "execution_count": 5,
   "metadata": {},
   "outputs": [],
   "source": [
    "newImageBlocks = np.zeros(blockView.shape)\n",
    "\n",
    "for i, block in enumerate(blockView):\n",
    "    bT = np.mean(block, axis=(0,1)) # Some transform of the block\n",
    "    # bT is a (3,) array of the average color of the block\n",
    "    # This line sets each of the 8x8 pixels to be the (1,1,3) version of the bT\n",
    "    newImageBlocks[i][:] = np.reshape(bT, (1,1,3)) "
   ]
  },
  {
   "cell_type": "code",
   "execution_count": 6,
   "metadata": {},
   "outputs": [],
   "source": [
    "I_mean = montage(newImageBlocks, grid_shape=[Ib.shape[0], Ib.shape[1]], multichannel=True) "
   ]
  },
  {
   "cell_type": "code",
   "execution_count": 7,
   "metadata": {},
   "outputs": [
    {
     "data": {
      "application/vnd.jupyter.widget-view+json": {
       "model_id": "3c79f6a099e54b26b09c3eddaef836ee",
       "version_major": 2,
       "version_minor": 0
      },
      "text/plain": [
       "Canvas(toolbar=Toolbar(toolitems=[('Home', 'Reset original view', 'home', 'home'), ('Back', 'Back to previous …"
      ]
     },
     "metadata": {},
     "output_type": "display_data"
    }
   ],
   "source": [
    "f, ax = plt.subplots(1,2, figsize=(10,10), sharex=True, sharey=True)\n",
    "ax[0].imshow(I)\n",
    "ax[0].set_title('Original Image')\n",
    "ax[1].imshow(I_mean)\n",
    "ax[1].set_title('Mean Reconstruction')\n",
    "plt.tight_layout()"
   ]
  },
  {
   "cell_type": "code",
   "execution_count": 8,
   "metadata": {},
   "outputs": [
    {
     "data": {
      "application/vnd.jupyter.widget-view+json": {
       "model_id": "31b0ff8f511c49bdaee61cdf322ab622",
       "version_major": 2,
       "version_minor": 0
      },
      "text/plain": [
       "Canvas(toolbar=Toolbar(toolitems=[('Home', 'Reset original view', 'home', 'home'), ('Back', 'Back to previous …"
      ]
     },
     "metadata": {},
     "output_type": "display_data"
    },
    {
     "data": {
      "text/plain": [
       "<matplotlib.image.AxesImage at 0x7f6322672150>"
      ]
     },
     "execution_count": 8,
     "metadata": {},
     "output_type": "execute_result"
    }
   ],
   "source": [
    "sI = rescale(I, 1/3, order = 1, anti_aliasing=False, multichannel=True)\n",
    "plt.figure()\n",
    "plt.imshow(sI)"
   ]
  },
  {
   "cell_type": "code",
   "execution_count": 9,
   "metadata": {},
   "outputs": [],
   "source": [
    "Ib = view_as_blocks(sI, block_shape = (8,8,3))"
   ]
  },
  {
   "cell_type": "code",
   "execution_count": 10,
   "metadata": {},
   "outputs": [
    {
     "data": {
      "text/plain": [
       "(48, 48, 1, 8, 8, 3)"
      ]
     },
     "execution_count": 10,
     "metadata": {},
     "output_type": "execute_result"
    }
   ],
   "source": [
    "Ib.shape"
   ]
  },
  {
   "cell_type": "code",
   "execution_count": 11,
   "metadata": {},
   "outputs": [],
   "source": [
    "H = makeHaarMatrix(8)"
   ]
  },
  {
   "cell_type": "code",
   "execution_count": 12,
   "metadata": {},
   "outputs": [],
   "source": [
    "#The transform image, an image of coefficients wrt the Haar basis.\n",
    "def generateCoef(sI, H):\n",
    "    CT = np.zeros(sI.shape)\n",
    "    for chan in range(3):\n",
    "        CT[...,chan] = np.matmul(H, np.matmul(sI[...,chan], H.transpose()))\n",
    "    return CT\n",
    "\n",
    "# #RI will represent the reconstructed image as we add back more\n",
    "# #Haar patterns\n",
    "# RI = np.zeros(sI.shape) #Still should be 8x8"
   ]
  },
  {
   "cell_type": "code",
   "execution_count": 13,
   "metadata": {},
   "outputs": [],
   "source": [
    "# We're going to reconstruct according to distance from the\n",
    "# 0,0 (the first Haar basis, average calculator). Notice,\n",
    "# this order is independent of the actual image data.\n",
    "xs = np.meshgrid(np.arange(8), np.arange(8), indexing='ij')\n",
    "coords = np.concatenate([np.expand_dims(c, axis=1) for c in\n",
    "                         [x.ravel() for x in xs]], axis=1)"
   ]
  },
  {
   "cell_type": "code",
   "execution_count": 14,
   "metadata": {},
   "outputs": [],
   "source": [
    "xs1 = np.meshgrid(np.arange(48), np.arange(48), indexing='ij')\n",
    "coords1 = np.concatenate([np.expand_dims(c, axis=1) for c in\n",
    "                         [x.ravel() for x in xs1]], axis=1)"
   ]
  },
  {
   "cell_type": "code",
   "execution_count": 15,
   "metadata": {},
   "outputs": [],
   "source": [
    "def make_image(change, H, CT, sI):\n",
    "    global coords\n",
    "    ReI = np.zeros(sI.shape)\n",
    "    Bij = np.outer(H[0, :], H[0, :])\n",
    "    for ind in range(change):\n",
    "        i,j = coords[ind] #coords[darg[x]] if x in range(len(darg))\n",
    "\n",
    "    #Construct that Haar basis and display it\n",
    "        Bij = np.outer(H[i, :], H[j, :])\n",
    "    # Add the amount of that basis that was in the original image to\n",
    "    # the running total, or reconstruction.\n",
    "    # RI = RI + T[i, j] * Bij #2D\n",
    "        for chan in range(3):\n",
    "            ReI[...,chan] += CT[i,j,chan]*Bij\n",
    "    return Bij, ReI"
   ]
  },
  {
   "cell_type": "code",
   "execution_count": 16,
   "metadata": {},
   "outputs": [],
   "source": [
    "def mergeImg(change, Ib, H):\n",
    "    global coords1\n",
    "    Ic = np.squeeze(Ib)\n",
    "\n",
    "    blockView = Ic.reshape([Ic.shape[0]*Ic.shape[1]] + list(Ic.shape[2:]))\n",
    "    newImageBlocks = np.zeros(blockView.shape)\n",
    "    \n",
    "    for ind, block in enumerate(blockView):\n",
    "        i, j = coords1[ind]\n",
    "        base, bT = make_image(change, H, generateCoef(Ib[i,j,0], H), Ib[i,j,0]) # Some transform of the block\n",
    "    # bT is a (3,) array of the average color of the block\n",
    "    # This line sets each of the 8x8 pixels to be the (1,1,3) version of the bT\n",
    "        newImageBlocks[ind][:] = bT\n",
    "    I_new = montage(newImageBlocks[:,:], grid_shape=[Ib.shape[0], Ib.shape[1]], multichannel=True)\n",
    "    return I_new"
   ]
  },
  {
   "cell_type": "code",
   "execution_count": 17,
   "metadata": {},
   "outputs": [
    {
     "data": {
      "application/vnd.jupyter.widget-view+json": {
       "model_id": "0de4f4920ade49e0b497ead6aadf1b05",
       "version_major": 2,
       "version_minor": 0
      },
      "text/plain": [
       "VBox(children=(IntSlider(value=1, description='Base element', max=64, min=1), Canvas(toolbar=Toolbar(toolitems…"
      ]
     },
     "metadata": {},
     "output_type": "display_data"
    }
   ],
   "source": [
    "basis = np.outer(H[0, :], H[0, :])\n",
    "init = mergeImg(1, Ib, H)\n",
    "plt.ioff()\n",
    "plt.clf()\n",
    "\n",
    "# https://ipywidgets.readthedocs.io/en/stable/examples/Widget%20List.html#FloatLogSlider\n",
    "slider = IntSlider(\n",
    "    orientation='horizontal',\n",
    "    value=1,\n",
    "    min=1,\n",
    "    max=64,\n",
    "    step=1,\n",
    "    description='Base element'\n",
    ")\n",
    "\n",
    "fig_args = {'num':' ', 'frameon':True}\n",
    "fig, ax = plt.subplots(1,3, figsize=(10,3), **fig_args) \n",
    "\n",
    "# display artists I'll update\n",
    "adisp = ax[0].imshow(basis, cmap='gray', vmin=-0.5, vmax=0.5)\n",
    "hdisp = ax[1].imshow(init, cmap='magma', vmin=0, vmax=1)\n",
    "ax[2].imshow(sI)\n",
    "ax[2].set_title(\"OG\")\n",
    "\n",
    "def update_image(change):\n",
    "    global H, coords\n",
    "    i, j = coords[change.new-1]\n",
    "    new_base = np.outer(H[i, :], H[j, :])\n",
    "    new_img = mergeImg(change.new, Ib, H)\n",
    "    hdisp.set_array(new_img)\n",
    "    # need to reset the color limits each time since gaus_h is changing a lot. \n",
    "    hdisp.set_clim(0,1) \n",
    "    \n",
    "    adisp.set_array(new_base)\n",
    "    \n",
    "    fig.canvas.draw()\n",
    "    fig.canvas.flush_events()\n",
    "\n",
    "slider.observe(update_image, names='value')\n",
    "\n",
    "VBox([slider, fig.canvas])"
   ]
  },
  {
   "cell_type": "code",
   "execution_count": null,
   "metadata": {},
   "outputs": [],
   "source": []
  }
 ],
 "metadata": {
  "kernelspec": {
   "display_name": "Python 3",
   "language": "python",
   "name": "python3"
  },
  "language_info": {
   "codemirror_mode": {
    "name": "ipython",
    "version": 3
   },
   "file_extension": ".py",
   "mimetype": "text/x-python",
   "name": "python",
   "nbconvert_exporter": "python",
   "pygments_lexer": "ipython3",
   "version": "3.7.6"
  }
 },
 "nbformat": 4,
 "nbformat_minor": 4
}
