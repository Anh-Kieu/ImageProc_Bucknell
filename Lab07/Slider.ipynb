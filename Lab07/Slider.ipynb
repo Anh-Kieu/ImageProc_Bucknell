{
 "cells": [
  {
   "cell_type": "markdown",
   "metadata": {},
   "source": [
    "# Basis and reconstruction of 64 pixel image.\n",
    "Joshua Stough\n",
    "DIP\n",
    "\n",
    "Decompose and partially reconstruct according to the Haar\n",
    "basis.\n",
    "\n"
   ]
  },
  {
   "cell_type": "code",
   "execution_count": 1,
   "metadata": {},
   "outputs": [],
   "source": [
    "%matplotlib widget\n",
    "import matplotlib.pyplot as plt\n",
    "from waveletUtil import *\n",
    "from ipywidgets import VBox, FloatSlider"
   ]
  },
  {
   "cell_type": "code",
   "execution_count": 21,
   "metadata": {},
   "outputs": [
    {
     "name": "stdout",
     "output_type": "stream",
     "text": [
      "haarReconstructionDemo: Works only on 64 pixel images...\n"
     ]
    },
    {
     "data": {
      "text/plain": [
       "array([[[1., 1., 1.],\n",
       "        [1., 1., 1.],\n",
       "        [1., 1., 1.],\n",
       "        ...,\n",
       "        [1., 1., 1.],\n",
       "        [1., 1., 1.],\n",
       "        [1., 1., 1.]],\n",
       "\n",
       "       [[1., 1., 1.],\n",
       "        [1., 1., 1.],\n",
       "        [1., 1., 1.],\n",
       "        ...,\n",
       "        [1., 1., 1.],\n",
       "        [1., 1., 1.],\n",
       "        [1., 1., 1.]],\n",
       "\n",
       "       [[1., 1., 1.],\n",
       "        [1., 1., 1.],\n",
       "        [1., 1., 1.],\n",
       "        ...,\n",
       "        [1., 1., 1.],\n",
       "        [1., 1., 1.],\n",
       "        [1., 1., 1.]],\n",
       "\n",
       "       ...,\n",
       "\n",
       "       [[1., 1., 1.],\n",
       "        [1., 1., 1.],\n",
       "        [1., 1., 1.],\n",
       "        ...,\n",
       "        [1., 1., 1.],\n",
       "        [1., 1., 1.],\n",
       "        [1., 1., 1.]],\n",
       "\n",
       "       [[1., 1., 1.],\n",
       "        [1., 1., 1.],\n",
       "        [1., 1., 1.],\n",
       "        ...,\n",
       "        [1., 1., 1.],\n",
       "        [1., 1., 1.],\n",
       "        [1., 1., 1.]],\n",
       "\n",
       "       [[1., 1., 1.],\n",
       "        [1., 1., 1.],\n",
       "        [1., 1., 1.],\n",
       "        ...,\n",
       "        [1., 1., 1.],\n",
       "        [1., 1., 1.],\n",
       "        [1., 1., 1.]]], dtype=float32)"
      ]
     },
     "execution_count": 21,
     "metadata": {},
     "output_type": "execute_result"
    }
   ],
   "source": [
    "print('haarReconstructionDemo: Works only on 64 pixel images...')\n",
    "\n",
    "# I = plt.imread('surprise.png')\n",
    "I = plt.imread('hello.png')\n",
    "I = I[...,:3].copy()\n",
    "I"
   ]
  },
  {
   "cell_type": "code",
   "execution_count": 3,
   "metadata": {},
   "outputs": [
    {
     "data": {
      "application/vnd.jupyter.widget-view+json": {
       "model_id": "ba136f60bbde42158e37f2e9231638f0",
       "version_major": 2,
       "version_minor": 0
      },
      "text/plain": [
       "Canvas(toolbar=Toolbar(toolitems=[('Home', 'Reset original view', 'home', 'home'), ('Back', 'Back to previous …"
      ]
     },
     "metadata": {},
     "output_type": "display_data"
    },
    {
     "data": {
      "text/plain": [
       "(32, 32, 3)"
      ]
     },
     "execution_count": 3,
     "metadata": {},
     "output_type": "execute_result"
    }
   ],
   "source": [
    "from skimage.transform import rescale\n",
    "plt.figure()\n",
    "sI = rescale(I, 1/16, order = 1, anti_aliasing=False, multichannel=True)\n",
    "plt.imshow(sI)\n",
    "sI.shape"
   ]
  },
  {
   "cell_type": "code",
   "execution_count": 4,
   "metadata": {},
   "outputs": [],
   "source": [
    "s = 32"
   ]
  },
  {
   "cell_type": "code",
   "execution_count": 5,
   "metadata": {},
   "outputs": [],
   "source": [
    "# H is the 8x8 Haar matrix\n",
    "# H = np.eye(8) # For fun comparison.\n",
    "# H = makeRandomBasis(8)\n",
    "# H = makeKLTBasis(I, 8)\n",
    "# H = makeDCTMatrix(8)\n",
    "H = makeHaarMatrix(s)"
   ]
  },
  {
   "cell_type": "code",
   "execution_count": 12,
   "metadata": {},
   "outputs": [
    {
     "data": {
      "text/plain": [
       "(32, 32, 3)"
      ]
     },
     "execution_count": 12,
     "metadata": {},
     "output_type": "execute_result"
    }
   ],
   "source": [
    "#The transform image, an image of coefficients wrt the Haar basis.\n",
    "CT = np.zeros(sI.shape)\n",
    "for chan in range(3):\n",
    "    CT[...,chan] = np.matmul(H, np.matmul(sI[...,chan], H.transpose()))\n",
    "\n",
    "\n",
    "#RI will represent the reconstructed image as we add back more\n",
    "#Haar patterns\n",
    "RI = np.zeros(sI.shape) #Still should be 8x8\n",
    "sI.shape"
   ]
  },
  {
   "cell_type": "code",
   "execution_count": 13,
   "metadata": {},
   "outputs": [
    {
     "data": {
      "text/plain": [
       "0"
      ]
     },
     "execution_count": 13,
     "metadata": {},
     "output_type": "execute_result"
    }
   ],
   "source": [
    "# We're going to reconstruct according to distance from the\n",
    "# 0,0 (the first Haar basis, average calculator). Notice,\n",
    "# this order is independent of the actual image data.\n",
    "xs = np.meshgrid(np.arange(s), np.arange(s), indexing='ij')\n",
    "coords = np.concatenate([np.expand_dims(c, axis=1) for c in\n",
    "                         [x.ravel() for x in xs]], axis=1)\n",
    "dists = np.sum(coords*coords, axis=1)\n",
    "darg = np.argsort(dists) #sorts in increasing order\n",
    "darg.min()"
   ]
  },
  {
   "cell_type": "code",
   "execution_count": 14,
   "metadata": {},
   "outputs": [],
   "source": [
    "from ipywidgets import VBox, IntSlider"
   ]
  },
  {
   "cell_type": "code",
   "execution_count": 15,
   "metadata": {},
   "outputs": [],
   "source": [
    "def make_image(change):\n",
    "    global coords, H, CT\n",
    "    ReI = np.zeros(sI.shape)\n",
    "    Bij = np.outer(H[0, :], H[0, :])\n",
    "    for ind in range(change):\n",
    "        i,j = coords[ind] #coords[darg[x]] if x in range(len(darg))\n",
    "\n",
    "    #Construct that Haar basis and display it\n",
    "        Bij = np.outer(H[i, :], H[j, :])\n",
    "    \n",
    "    # Add the amount of that basis that was in the original image to\n",
    "    # the running total, or reconstruction.\n",
    "    # RI = RI + T[i, j] * Bij #2D\n",
    "        for chan in range(3):\n",
    "            ReI[...,chan] += CT[i,j,chan]*Bij\n",
    "    return Bij, ReI"
   ]
  },
  {
   "cell_type": "code",
   "execution_count": 20,
   "metadata": {},
   "outputs": [
    {
     "data": {
      "text/plain": [
       "array([[[0.89859069, 0.95677084, 0.93342525],\n",
       "        [0.89859069, 0.95677084, 0.93342525],\n",
       "        [0.89859069, 0.95677084, 0.93342525],\n",
       "        ...,\n",
       "        [0.93012408, 0.88063726, 0.84747243],\n",
       "        [0.93012408, 0.88063726, 0.84747243],\n",
       "        [0.93012408, 0.88063726, 0.84747243]],\n",
       "\n",
       "       [[0.89859069, 0.95677084, 0.93342525],\n",
       "        [0.89859069, 0.95677084, 0.93342525],\n",
       "        [0.89859069, 0.95677084, 0.93342525],\n",
       "        ...,\n",
       "        [0.93012408, 0.88063726, 0.84747243],\n",
       "        [0.93012408, 0.88063726, 0.84747243],\n",
       "        [0.93012408, 0.88063726, 0.84747243]],\n",
       "\n",
       "       [[0.89859069, 0.95677084, 0.93342525],\n",
       "        [0.89859069, 0.95677084, 0.93342525],\n",
       "        [0.89859069, 0.95677084, 0.93342525],\n",
       "        ...,\n",
       "        [0.93012408, 0.88063726, 0.84747243],\n",
       "        [0.93012408, 0.88063726, 0.84747243],\n",
       "        [0.93012408, 0.88063726, 0.84747243]],\n",
       "\n",
       "       ...,\n",
       "\n",
       "       [[0.89859069, 0.95677084, 0.93342525],\n",
       "        [0.89859069, 0.95677084, 0.93342525],\n",
       "        [0.89859069, 0.95677084, 0.93342525],\n",
       "        ...,\n",
       "        [0.93012408, 0.88063726, 0.84747243],\n",
       "        [0.93012408, 0.88063726, 0.84747243],\n",
       "        [0.93012408, 0.88063726, 0.84747243]],\n",
       "\n",
       "       [[0.89859069, 0.95677084, 0.93342525],\n",
       "        [0.89859069, 0.95677084, 0.93342525],\n",
       "        [0.89859069, 0.95677084, 0.93342525],\n",
       "        ...,\n",
       "        [0.93012408, 0.88063726, 0.84747243],\n",
       "        [0.93012408, 0.88063726, 0.84747243],\n",
       "        [0.93012408, 0.88063726, 0.84747243]],\n",
       "\n",
       "       [[0.89859069, 0.95677084, 0.93342525],\n",
       "        [0.89859069, 0.95677084, 0.93342525],\n",
       "        [0.89859069, 0.95677084, 0.93342525],\n",
       "        ...,\n",
       "        [0.93012408, 0.88063726, 0.84747243],\n",
       "        [0.93012408, 0.88063726, 0.84747243],\n",
       "        [0.93012408, 0.88063726, 0.84747243]]])"
      ]
     },
     "execution_count": 20,
     "metadata": {},
     "output_type": "execute_result"
    }
   ],
   "source": [
    "base, i = make_image(3)\n",
    "i"
   ]
  },
  {
   "cell_type": "code",
   "execution_count": 19,
   "metadata": {},
   "outputs": [
    {
     "data": {
      "application/vnd.jupyter.widget-view+json": {
       "model_id": "adf7267423604ebdb3e11f26f808bc17",
       "version_major": 2,
       "version_minor": 0
      },
      "text/plain": [
       "VBox(children=(IntSlider(value=1, description='Base element', max=1024, min=1), Canvas(toolbar=Toolbar(toolite…"
      ]
     },
     "metadata": {},
     "output_type": "display_data"
    }
   ],
   "source": [
    "basis, init = make_image(1)\n",
    "\n",
    "plt.ioff()\n",
    "plt.clf()\n",
    "\n",
    "# https://ipywidgets.readthedocs.io/en/stable/examples/Widget%20List.html#FloatLogSlider\n",
    "slider = IntSlider(\n",
    "    orientation='horizontal',\n",
    "    value=1,\n",
    "    min=1,\n",
    "    max=s**2,\n",
    "    step=1,\n",
    "    description='Base element'\n",
    ")\n",
    "\n",
    "fig_args = {'num':' ', 'frameon':True}\n",
    "fig, ax = plt.subplots(1,2, figsize=(10,3), **fig_args) \n",
    "\n",
    "# display artists I'll update\n",
    "adisp = ax[0].imshow(basis, cmap='gray', vmin=-0.5, vmax=0.5)\n",
    "hdisp = ax[1].imshow(init, cmap='magma', vmin=0, vmax=1)\n",
    "\n",
    "def update_image(change):    \n",
    "    print(change)\n",
    "    new_base, new_re = make_image(change.new)\n",
    "    hdisp.set_array(new_re)\n",
    "    # need to reset the color limits each time since gaus_h is changing a lot. \n",
    "    hdisp.set_clim(0,1) \n",
    "    \n",
    "    adisp.set_array(new_base)\n",
    "    \n",
    "    fig.canvas.draw()\n",
    "    fig.canvas.flush_events()\n",
    "\n",
    "slider.observe(update_image, names='value')\n",
    "\n",
    "VBox([slider, fig.canvas])"
   ]
  },
  {
   "cell_type": "code",
   "execution_count": null,
   "metadata": {},
   "outputs": [],
   "source": []
  }
 ],
 "metadata": {
  "kernelspec": {
   "display_name": "Python 3",
   "language": "python",
   "name": "python3"
  },
  "language_info": {
   "codemirror_mode": {
    "name": "ipython",
    "version": 3
   },
   "file_extension": ".py",
   "mimetype": "text/x-python",
   "name": "python",
   "nbconvert_exporter": "python",
   "pygments_lexer": "ipython3",
   "version": "3.7.6"
  }
 },
 "nbformat": 4,
 "nbformat_minor": 4
}
