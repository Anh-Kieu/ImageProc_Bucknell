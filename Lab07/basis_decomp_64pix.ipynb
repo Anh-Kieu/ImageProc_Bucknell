{
 "cells": [
  {
   "cell_type": "markdown",
   "metadata": {},
   "source": [
    "# Basis and reconstruction of 64 pixel image.\n",
    "Joshua Stough\n",
    "DIP\n",
    "\n",
    "Decompose and partially reconstruct according to the Haar\n",
    "basis.\n",
    "\n"
   ]
  },
  {
   "cell_type": "code",
   "execution_count": 1,
   "metadata": {},
   "outputs": [],
   "source": [
    "%matplotlib widget\n",
    "import matplotlib.pyplot as plt\n",
    "from waveletUtil import *\n",
    "from ipywidgets import VBox, FloatSlider"
   ]
  },
  {
   "cell_type": "code",
   "execution_count": 2,
   "metadata": {},
   "outputs": [
    {
     "name": "stdout",
     "output_type": "stream",
     "text": [
      "haarReconstructionDemo: Works only on 64 pixel images...\n"
     ]
    }
   ],
   "source": [
    "print('haarReconstructionDemo: Works only on 64 pixel images...')\n",
    "\n",
    "# I = plt.imread('surprise.png')\n",
    "I = plt.imread('hello.png')\n",
    "I = I[...,:3].copy()"
   ]
  },
  {
   "cell_type": "code",
   "execution_count": 3,
   "metadata": {},
   "outputs": [
    {
     "data": {
      "application/vnd.jupyter.widget-view+json": {
       "model_id": "2accd2c8b85640f8960857d996a83187",
       "version_major": 2,
       "version_minor": 0
      },
      "text/plain": [
       "Canvas(toolbar=Toolbar(toolitems=[('Home', 'Reset original view', 'home', 'home'), ('Back', 'Back to previous …"
      ]
     },
     "metadata": {},
     "output_type": "display_data"
    },
    {
     "data": {
      "text/plain": [
       "(32, 32, 3)"
      ]
     },
     "execution_count": 3,
     "metadata": {},
     "output_type": "execute_result"
    }
   ],
   "source": [
    "from skimage.transform import rescale\n",
    "plt.figure()\n",
    "sI = rescale(I, 1/16, order = 1, anti_aliasing=False, multichannel=True)\n",
    "plt.imshow(sI)\n",
    "# sI = I.copy()\n",
    "sI.shape"
   ]
  },
  {
   "cell_type": "code",
   "execution_count": 4,
   "metadata": {},
   "outputs": [],
   "source": [
    "s = 32"
   ]
  },
  {
   "cell_type": "code",
   "execution_count": 8,
   "metadata": {},
   "outputs": [],
   "source": [
    "# H is the 8x8 Haar matrix\n",
    "# H = np.eye(8) # For fun comparison.\n",
    "# H = makeRandomBasis(8)\n",
    "# H = makeKLTBasis(I, 8)\n",
    "H = makeDCTMatrix(s)\n",
    "# H = makeHaarMatrix(s)"
   ]
  },
  {
   "cell_type": "code",
   "execution_count": 9,
   "metadata": {},
   "outputs": [
    {
     "data": {
      "text/plain": [
       "(32, 32, 3)"
      ]
     },
     "execution_count": 9,
     "metadata": {},
     "output_type": "execute_result"
    }
   ],
   "source": [
    "#The transform image, an image of coefficients wrt the Haar basis.\n",
    "CT = np.zeros(sI.shape)\n",
    "for chan in range(3):\n",
    "    CT[...,chan] = np.matmul(H, np.matmul(sI[...,chan], H.transpose()))\n",
    "\n",
    "\n",
    "#RI will represent the reconstructed image as we add back more\n",
    "#Haar patterns\n",
    "RI = np.zeros(sI.shape) #Still should be 8x8\n",
    "sI.shape"
   ]
  },
  {
   "cell_type": "code",
   "execution_count": 10,
   "metadata": {},
   "outputs": [
    {
     "data": {
      "text/plain": [
       "0"
      ]
     },
     "execution_count": 10,
     "metadata": {},
     "output_type": "execute_result"
    }
   ],
   "source": [
    "# We're going to reconstruct according to distance from the\n",
    "# 0,0 (the first Haar basis, average calculator). Notice,\n",
    "# this order is independent of the actual image data.\n",
    "xs = np.meshgrid(np.arange(s), np.arange(s), indexing='ij')\n",
    "coords = np.concatenate([np.expand_dims(c, axis=1) for c in\n",
    "                         [x.ravel() for x in xs]], axis=1)\n",
    "dists = np.sum(coords*coords, axis=1)\n",
    "darg = np.argsort(dists) #sorts in increasing order\n",
    "darg.min()"
   ]
  },
  {
   "cell_type": "code",
   "execution_count": 11,
   "metadata": {},
   "outputs": [],
   "source": [
    "from ipywidgets import VBox, IntSlider"
   ]
  },
  {
   "cell_type": "code",
   "execution_count": 12,
   "metadata": {},
   "outputs": [
    {
     "data": {
      "application/vnd.jupyter.widget-view+json": {
       "model_id": "1cbe01cf2e8e4c279d44e90fb39d1ec4",
       "version_major": 2,
       "version_minor": 0
      },
      "text/plain": [
       "Canvas(toolbar=Toolbar(toolitems=[('Home', 'Reset original view', 'home', 'home'), ('Back', 'Back to previous …"
      ]
     },
     "metadata": {},
     "output_type": "display_data"
    },
    {
     "data": {
      "application/vnd.jupyter.widget-view+json": {
       "model_id": "df6ad0ed5ebf478e98026c0f04a90e5d",
       "version_major": 2,
       "version_minor": 0
      },
      "text/plain": [
       "Canvas(toolbar=Toolbar(toolitems=[('Home', 'Reset original view', 'home', 'home'), ('Back', 'Back to previous …"
      ]
     },
     "metadata": {},
     "output_type": "display_data"
    },
    {
     "name": "stderr",
     "output_type": "stream",
     "text": [
      "/usr/remote/anaconda-3.7-2020-01-14/lib/python3.7/site-packages/ipykernel_launcher.py:53: UserWarning: Tight layout not applied. tight_layout cannot make axes width small enough to accommodate all axes decorations\n"
     ]
    },
    {
     "ename": "KeyboardInterrupt",
     "evalue": "",
     "output_type": "error",
     "traceback": [
      "\u001b[0;31m---------------------------------------------------------------------------\u001b[0m",
      "\u001b[0;31mKeyboardInterrupt\u001b[0m                         Traceback (most recent call last)",
      "\u001b[0;32m<ipython-input-12-61934110958e>\u001b[0m in \u001b[0;36m<module>\u001b[0;34m\u001b[0m\n\u001b[1;32m     54\u001b[0m \u001b[0;34m\u001b[0m\u001b[0m\n\u001b[1;32m     55\u001b[0m \u001b[0mfr\u001b[0m\u001b[0;34m.\u001b[0m\u001b[0mcanvas\u001b[0m\u001b[0;34m.\u001b[0m\u001b[0mset_window_title\u001b[0m\u001b[0;34m(\u001b[0m\u001b[0;34m'Partial Reconstructions from Large Scale to Small'\u001b[0m\u001b[0;34m)\u001b[0m\u001b[0;34m\u001b[0m\u001b[0;34m\u001b[0m\u001b[0m\n\u001b[0;32m---> 56\u001b[0;31m \u001b[0mfr\u001b[0m\u001b[0;34m.\u001b[0m\u001b[0mtight_layout\u001b[0m\u001b[0;34m(\u001b[0m\u001b[0;34m)\u001b[0m\u001b[0;34m\u001b[0m\u001b[0;34m\u001b[0m\u001b[0m\n\u001b[0m",
      "\u001b[0;32m/usr/remote/anaconda-3.7-2020-01-14/lib/python3.7/site-packages/matplotlib/figure.py\u001b[0m in \u001b[0;36mtight_layout\u001b[0;34m(self, renderer, pad, h_pad, w_pad, rect)\u001b[0m\n\u001b[1;32m   2474\u001b[0m         kwargs = get_tight_layout_figure(\n\u001b[1;32m   2475\u001b[0m             \u001b[0mself\u001b[0m\u001b[0;34m,\u001b[0m \u001b[0mself\u001b[0m\u001b[0;34m.\u001b[0m\u001b[0maxes\u001b[0m\u001b[0;34m,\u001b[0m \u001b[0msubplotspec_list\u001b[0m\u001b[0;34m,\u001b[0m \u001b[0mrenderer\u001b[0m\u001b[0;34m,\u001b[0m\u001b[0;34m\u001b[0m\u001b[0;34m\u001b[0m\u001b[0m\n\u001b[0;32m-> 2476\u001b[0;31m             pad=pad, h_pad=h_pad, w_pad=w_pad, rect=rect)\n\u001b[0m\u001b[1;32m   2477\u001b[0m         \u001b[0;32mif\u001b[0m \u001b[0mkwargs\u001b[0m\u001b[0;34m:\u001b[0m\u001b[0;34m\u001b[0m\u001b[0;34m\u001b[0m\u001b[0m\n\u001b[1;32m   2478\u001b[0m             \u001b[0mself\u001b[0m\u001b[0;34m.\u001b[0m\u001b[0msubplots_adjust\u001b[0m\u001b[0;34m(\u001b[0m\u001b[0;34m**\u001b[0m\u001b[0mkwargs\u001b[0m\u001b[0;34m)\u001b[0m\u001b[0;34m\u001b[0m\u001b[0;34m\u001b[0m\u001b[0m\n",
      "\u001b[0;32m/usr/remote/anaconda-3.7-2020-01-14/lib/python3.7/site-packages/matplotlib/tight_layout.py\u001b[0m in \u001b[0;36mget_tight_layout_figure\u001b[0;34m(fig, axes_list, subplotspec_list, renderer, pad, h_pad, w_pad, rect)\u001b[0m\n\u001b[1;32m    360\u001b[0m                                      \u001b[0msubplot_list\u001b[0m\u001b[0;34m=\u001b[0m\u001b[0msubplot_list\u001b[0m\u001b[0;34m,\u001b[0m\u001b[0;34m\u001b[0m\u001b[0;34m\u001b[0m\u001b[0m\n\u001b[1;32m    361\u001b[0m                                      \u001b[0max_bbox_list\u001b[0m\u001b[0;34m=\u001b[0m\u001b[0max_bbox_list\u001b[0m\u001b[0;34m,\u001b[0m\u001b[0;34m\u001b[0m\u001b[0;34m\u001b[0m\u001b[0m\n\u001b[0;32m--> 362\u001b[0;31m                                      pad=pad, h_pad=h_pad, w_pad=w_pad)\n\u001b[0m\u001b[1;32m    363\u001b[0m \u001b[0;34m\u001b[0m\u001b[0m\n\u001b[1;32m    364\u001b[0m     \u001b[0;31m# kwargs can be none if tight_layout fails...\u001b[0m\u001b[0;34m\u001b[0m\u001b[0;34m\u001b[0m\u001b[0;34m\u001b[0m\u001b[0m\n",
      "\u001b[0;32m/usr/remote/anaconda-3.7-2020-01-14/lib/python3.7/site-packages/matplotlib/tight_layout.py\u001b[0m in \u001b[0;36mauto_adjust_subplotpars\u001b[0;34m(fig, renderer, nrows_ncols, num1num2_list, subplot_list, ax_bbox_list, pad, h_pad, w_pad, rect)\u001b[0m\n\u001b[1;32m    109\u001b[0m             \u001b[0;32mcontinue\u001b[0m\u001b[0;34m\u001b[0m\u001b[0;34m\u001b[0m\u001b[0m\n\u001b[1;32m    110\u001b[0m \u001b[0;34m\u001b[0m\u001b[0m\n\u001b[0;32m--> 111\u001b[0;31m         tight_bbox_raw = union([ax.get_tightbbox(renderer) for ax in subplots\n\u001b[0m\u001b[1;32m    112\u001b[0m                                 if ax.get_visible()])\n\u001b[1;32m    113\u001b[0m         tight_bbox = TransformedBbox(tight_bbox_raw,\n",
      "\u001b[0;32m/usr/remote/anaconda-3.7-2020-01-14/lib/python3.7/site-packages/matplotlib/tight_layout.py\u001b[0m in \u001b[0;36m<listcomp>\u001b[0;34m(.0)\u001b[0m\n\u001b[1;32m    110\u001b[0m \u001b[0;34m\u001b[0m\u001b[0m\n\u001b[1;32m    111\u001b[0m         tight_bbox_raw = union([ax.get_tightbbox(renderer) for ax in subplots\n\u001b[0;32m--> 112\u001b[0;31m                                 if ax.get_visible()])\n\u001b[0m\u001b[1;32m    113\u001b[0m         tight_bbox = TransformedBbox(tight_bbox_raw,\n\u001b[1;32m    114\u001b[0m                                      fig.transFigure.inverted())\n",
      "\u001b[0;32m/usr/remote/anaconda-3.7-2020-01-14/lib/python3.7/site-packages/matplotlib/axes/_base.py\u001b[0m in \u001b[0;36mget_tightbbox\u001b[0;34m(self, renderer, call_axes_locator, bbox_extra_artists)\u001b[0m\n\u001b[1;32m   4352\u001b[0m             \u001b[0mself\u001b[0m\u001b[0;34m.\u001b[0m\u001b[0mapply_aspect\u001b[0m\u001b[0;34m(\u001b[0m\u001b[0mpos\u001b[0m\u001b[0;34m)\u001b[0m\u001b[0;34m\u001b[0m\u001b[0;34m\u001b[0m\u001b[0m\n\u001b[1;32m   4353\u001b[0m         \u001b[0;32melse\u001b[0m\u001b[0;34m:\u001b[0m\u001b[0;34m\u001b[0m\u001b[0;34m\u001b[0m\u001b[0m\n\u001b[0;32m-> 4354\u001b[0;31m             \u001b[0mself\u001b[0m\u001b[0;34m.\u001b[0m\u001b[0mapply_aspect\u001b[0m\u001b[0;34m(\u001b[0m\u001b[0;34m)\u001b[0m\u001b[0;34m\u001b[0m\u001b[0;34m\u001b[0m\u001b[0m\n\u001b[0m\u001b[1;32m   4355\u001b[0m \u001b[0;34m\u001b[0m\u001b[0m\n\u001b[1;32m   4356\u001b[0m         \u001b[0;32mif\u001b[0m \u001b[0mself\u001b[0m\u001b[0;34m.\u001b[0m\u001b[0maxison\u001b[0m\u001b[0;34m:\u001b[0m\u001b[0;34m\u001b[0m\u001b[0;34m\u001b[0m\u001b[0m\n",
      "\u001b[0;32m/usr/remote/anaconda-3.7-2020-01-14/lib/python3.7/site-packages/matplotlib/axes/_base.py\u001b[0m in \u001b[0;36mapply_aspect\u001b[0;34m(self, position)\u001b[0m\n\u001b[1;32m   1500\u001b[0m             \u001b[0mA\u001b[0m \u001b[0;34m=\u001b[0m \u001b[0maspect\u001b[0m\u001b[0;34m\u001b[0m\u001b[0;34m\u001b[0m\u001b[0m\n\u001b[1;32m   1501\u001b[0m \u001b[0;34m\u001b[0m\u001b[0m\n\u001b[0;32m-> 1502\u001b[0;31m         \u001b[0mfigW\u001b[0m\u001b[0;34m,\u001b[0m \u001b[0mfigH\u001b[0m \u001b[0;34m=\u001b[0m \u001b[0mself\u001b[0m\u001b[0;34m.\u001b[0m\u001b[0mget_figure\u001b[0m\u001b[0;34m(\u001b[0m\u001b[0;34m)\u001b[0m\u001b[0;34m.\u001b[0m\u001b[0mget_size_inches\u001b[0m\u001b[0;34m(\u001b[0m\u001b[0;34m)\u001b[0m\u001b[0;34m\u001b[0m\u001b[0;34m\u001b[0m\u001b[0m\n\u001b[0m\u001b[1;32m   1503\u001b[0m         \u001b[0mfig_aspect\u001b[0m \u001b[0;34m=\u001b[0m \u001b[0mfigH\u001b[0m \u001b[0;34m/\u001b[0m \u001b[0mfigW\u001b[0m\u001b[0;34m\u001b[0m\u001b[0;34m\u001b[0m\u001b[0m\n\u001b[1;32m   1504\u001b[0m         \u001b[0;32mif\u001b[0m \u001b[0mself\u001b[0m\u001b[0;34m.\u001b[0m\u001b[0m_adjustable\u001b[0m \u001b[0;34m==\u001b[0m \u001b[0;34m'box'\u001b[0m\u001b[0;34m:\u001b[0m\u001b[0;34m\u001b[0m\u001b[0;34m\u001b[0m\u001b[0m\n",
      "\u001b[0;32m/usr/remote/anaconda-3.7-2020-01-14/lib/python3.7/site-packages/matplotlib/figure.py\u001b[0m in \u001b[0;36mget_size_inches\u001b[0;34m(self)\u001b[0m\n\u001b[1;32m    926\u001b[0m         \u001b[0mmatplotlib\u001b[0m\u001b[0;34m.\u001b[0m\u001b[0mFigure\u001b[0m\u001b[0;34m.\u001b[0m\u001b[0mset_size_inches\u001b[0m\u001b[0;34m\u001b[0m\u001b[0;34m\u001b[0m\u001b[0m\n\u001b[1;32m    927\u001b[0m         \"\"\"\n\u001b[0;32m--> 928\u001b[0;31m         \u001b[0;32mreturn\u001b[0m \u001b[0mnp\u001b[0m\u001b[0;34m.\u001b[0m\u001b[0marray\u001b[0m\u001b[0;34m(\u001b[0m\u001b[0mself\u001b[0m\u001b[0;34m.\u001b[0m\u001b[0mbbox_inches\u001b[0m\u001b[0;34m.\u001b[0m\u001b[0mp1\u001b[0m\u001b[0;34m)\u001b[0m\u001b[0;34m\u001b[0m\u001b[0;34m\u001b[0m\u001b[0m\n\u001b[0m\u001b[1;32m    929\u001b[0m \u001b[0;34m\u001b[0m\u001b[0m\n\u001b[1;32m    930\u001b[0m     \u001b[0;32mdef\u001b[0m \u001b[0mget_edgecolor\u001b[0m\u001b[0;34m(\u001b[0m\u001b[0mself\u001b[0m\u001b[0;34m)\u001b[0m\u001b[0;34m:\u001b[0m\u001b[0;34m\u001b[0m\u001b[0;34m\u001b[0m\u001b[0m\n",
      "\u001b[0;32m/usr/remote/anaconda-3.7-2020-01-14/lib/python3.7/site-packages/matplotlib/transforms.py\u001b[0m in \u001b[0;36mp1\u001b[0;34m(self)\u001b[0m\n\u001b[1;32m    343\u001b[0m         :attr:`max`).\n\u001b[1;32m    344\u001b[0m         \"\"\"\n\u001b[0;32m--> 345\u001b[0;31m         \u001b[0;32mreturn\u001b[0m \u001b[0mself\u001b[0m\u001b[0;34m.\u001b[0m\u001b[0mget_points\u001b[0m\u001b[0;34m(\u001b[0m\u001b[0;34m)\u001b[0m\u001b[0;34m[\u001b[0m\u001b[0;36m1\u001b[0m\u001b[0;34m]\u001b[0m\u001b[0;34m\u001b[0m\u001b[0;34m\u001b[0m\u001b[0m\n\u001b[0m\u001b[1;32m    346\u001b[0m \u001b[0;34m\u001b[0m\u001b[0m\n\u001b[1;32m    347\u001b[0m     \u001b[0;34m@\u001b[0m\u001b[0mproperty\u001b[0m\u001b[0;34m\u001b[0m\u001b[0;34m\u001b[0m\u001b[0m\n",
      "\u001b[0;31mKeyboardInterrupt\u001b[0m: "
     ]
    }
   ],
   "source": [
    "#Visual\n",
    "fh, axh = plt.subplots(s,s, figsize=(8,8))\n",
    "fr, axr = plt.subplots(s,s, figsize=(8,8))\n",
    "\n",
    "\n",
    "# We're going to reconstruct according to distance from the\n",
    "# 0,0 (the first Haar basis, average calculator). Notice,\n",
    "# this order is independent of the actual image data.\n",
    "xs = np.meshgrid(np.arange(s), np.arange(s), indexing='ij')\n",
    "coords = np.concatenate([np.expand_dims(c, axis=1) for c in\n",
    "                         [x.ravel() for x in xs]], axis=1)\n",
    "dists = np.sum(coords*coords, axis=1)\n",
    "darg = np.argsort(dists) #sorts in increasing order\n",
    "\n",
    "#If we were to use magnitude of the coefficient...need to ravel in\n",
    "#column-major, like we set up coords.\n",
    "# mags = T.ravel(order='F')\n",
    "# darg = np.argsort(mags)\n",
    "# darg.reverse()\n",
    "#\n",
    "#c = 1 #used to display the order of reconstruction.\n",
    "\n",
    "for ind in darg:\n",
    "    i,j = coords[ind] #coords[darg[x]] if x in range(len(darg))\n",
    "\n",
    "    #Construct that Haar basis and display it\n",
    "    Bij = np.outer(H[i, :], H[j, :])\n",
    "    axh[i][j].imshow(Bij, cmap='gray', vmin=-.5, vmax=.5)\n",
    "    axh[i][j].axes.get_xaxis().set_visible(False)\n",
    "    axh[i][j].axes.get_yaxis().set_visible(False)\n",
    "    # axh[i][j].set_title('c_%d_%d: %6.3f' % (i, j, T[i,j]))\n",
    "    # https://matplotlib.org/api/pyplot_api.html#matplotlib.pyplot.text\n",
    "    axh[i][j].text(0, 6, r'$\\pi:%6.3f$' % CT[i, j, :].sum(), fontsize=6, color='cyan')\n",
    "\n",
    "    # Add the amount of that basis that was in the original image to\n",
    "    # the running total, or reconstruction.\n",
    "    # RI = RI + T[i, j] * Bij #2D\n",
    "    for chan in range(3):\n",
    "        RI[...,chan] += CT[i,j,chan]*Bij\n",
    "\n",
    "    RIcopy = RI.copy().clip(0,1)\n",
    "    axr[i][j].imshow(RIcopy)\n",
    "    axr[i][j].axes.get_xaxis().set_visible(False)\n",
    "    axr[i][j].axes.get_yaxis().set_visible(False)\n",
    "    # axr[i][j].text(0, 6, '%d' % c, fontsize=10, color='cyan')\n",
    "    #The order of reconstruction isn't that informative, but useful for debugging.\n",
    "    #c += 1\n",
    "\n",
    "\n",
    "plt.show()\n",
    "\n",
    "fh.canvas.set_window_title('Haar Basis Images and Coefficients')\n",
    "fh.tight_layout()\n",
    "\n",
    "fr.canvas.set_window_title('Partial Reconstructions from Large Scale to Small')\n",
    "fr.tight_layout()"
   ]
  },
  {
   "cell_type": "code",
   "execution_count": 13,
   "metadata": {},
   "outputs": [],
   "source": [
    "def make_image(change):\n",
    "    global coords, H, CT\n",
    "    ReI = np.zeros(sI.shape)\n",
    "    Bij = np.outer(H[0, :], H[0, :])\n",
    "    for ind in range(change):\n",
    "        i,j = coords[ind] #coords[darg[x]] if x in range(len(darg))\n",
    "\n",
    "    #Construct that Haar basis and display it\n",
    "        Bij = np.outer(H[i, :], H[j, :])\n",
    "    \n",
    "    # Add the amount of that basis that was in the original image to\n",
    "    # the running total, or reconstruction.\n",
    "    # RI = RI + T[i, j] * Bij #2D\n",
    "        for chan in range(3):\n",
    "            ReI[...,chan] += CT[i,j,chan]*Bij\n",
    "    return Bij, ReI"
   ]
  },
  {
   "cell_type": "code",
   "execution_count": 14,
   "metadata": {},
   "outputs": [
    {
     "data": {
      "text/plain": [
       "array([[0.04398137, 0.04229119, 0.03897578, ..., 0.03897578, 0.04229119,\n",
       "        0.04398137],\n",
       "       [0.04398137, 0.04229119, 0.03897578, ..., 0.03897578, 0.04229119,\n",
       "        0.04398137],\n",
       "       [0.04398137, 0.04229119, 0.03897578, ..., 0.03897578, 0.04229119,\n",
       "        0.04398137],\n",
       "       ...,\n",
       "       [0.04398137, 0.04229119, 0.03897578, ..., 0.03897578, 0.04229119,\n",
       "        0.04398137],\n",
       "       [0.04398137, 0.04229119, 0.03897578, ..., 0.03897578, 0.04229119,\n",
       "        0.04398137],\n",
       "       [0.04398137, 0.04229119, 0.03897578, ..., 0.03897578, 0.04229119,\n",
       "        0.04398137]])"
      ]
     },
     "execution_count": 14,
     "metadata": {},
     "output_type": "execute_result"
    }
   ],
   "source": [
    "base, i = make_image(3)\n",
    "base"
   ]
  },
  {
   "cell_type": "code",
   "execution_count": 18,
   "metadata": {},
   "outputs": [
    {
     "data": {
      "application/vnd.jupyter.widget-view+json": {
       "model_id": "654307260b324d4d8b1b64f098384588",
       "version_major": 2,
       "version_minor": 0
      },
      "text/plain": [
       "VBox(children=(IntSlider(value=0, description='Base element', max=1024), Canvas(toolbar=Toolbar(toolitems=[('H…"
      ]
     },
     "metadata": {},
     "output_type": "display_data"
    }
   ],
   "source": [
    "basis, init = make_image(1)\n",
    "\n",
    "plt.ioff()\n",
    "plt.clf()\n",
    "\n",
    "# https://ipywidgets.readthedocs.io/en/stable/examples/Widget%20List.html#FloatLogSlider\n",
    "slider = IntSlider(\n",
    "    orientation='horizontal',\n",
    "    value=0,\n",
    "    min=0,\n",
    "    max=s**2,\n",
    "    step=1,\n",
    "    description='Base element'\n",
    ")\n",
    "\n",
    "fig_args = {'num':' ', 'frameon':True}\n",
    "fig, ax = plt.subplots(1,2, figsize=(10,3), **fig_args) \n",
    "\n",
    "# display artists I'll update\n",
    "adisp = ax[0].imshow(basis, cmap='gray', vmin=-0.5, vmax=0.5)\n",
    "hdisp = ax[1].imshow(init, cmap='magma', vmin=0, vmax=1)\n",
    "\n",
    "def update_image(change):    \n",
    "    new_base, new_re = make_image(change.new)\n",
    "    hdisp.set_array(new_re)\n",
    "    # need to reset the color limits each time since gaus_h is changing a lot. \n",
    "    hdisp.set_clim(0,1) \n",
    "    \n",
    "    adisp.set_array(new_base)\n",
    "    \n",
    "    fig.canvas.draw()\n",
    "    fig.canvas.flush_events()\n",
    "\n",
    "slider.observe(update_image, names='value')\n",
    "\n",
    "VBox([slider, fig.canvas])"
   ]
  },
  {
   "cell_type": "code",
   "execution_count": null,
   "metadata": {},
   "outputs": [],
   "source": []
  }
 ],
 "metadata": {
  "kernelspec": {
   "display_name": "Python 3",
   "language": "python",
   "name": "python3"
  },
  "language_info": {
   "codemirror_mode": {
    "name": "ipython",
    "version": 3
   },
   "file_extension": ".py",
   "mimetype": "text/x-python",
   "name": "python",
   "nbconvert_exporter": "python",
   "pygments_lexer": "ipython3",
   "version": "3.7.6"
  }
 },
 "nbformat": 4,
 "nbformat_minor": 4
}
