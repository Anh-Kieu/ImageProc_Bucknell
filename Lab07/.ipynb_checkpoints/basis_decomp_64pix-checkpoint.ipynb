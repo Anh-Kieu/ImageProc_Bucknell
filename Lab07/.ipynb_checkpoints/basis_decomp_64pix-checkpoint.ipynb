{
 "cells": [
  {
   "cell_type": "markdown",
   "metadata": {},
   "source": [
    "# Basis and reconstruction of 64 pixel image.\n",
    "Joshua Stough\n",
    "DIP\n",
    "\n",
    "Decompose and partially reconstruct according to the Haar\n",
    "basis.\n",
    "\n"
   ]
  },
  {
   "cell_type": "code",
   "execution_count": 85,
   "metadata": {},
   "outputs": [],
   "source": [
    "%matplotlib widget\n",
    "import matplotlib.pyplot as plt\n",
    "from waveletUtil import *\n",
    "from ipywidgets import VBox, FloatSlider"
   ]
  },
  {
   "cell_type": "code",
   "execution_count": 86,
   "metadata": {},
   "outputs": [
    {
     "name": "stdout",
     "output_type": "stream",
     "text": [
      "haarReconstructionDemo: Works only on 64 pixel images...\n"
     ]
    }
   ],
   "source": [
    "print('haarReconstructionDemo: Works only on 64 pixel images...')\n",
    "\n",
    "# I = plt.imread('surprise.png')\n",
    "I = plt.imread('hello.png')\n",
    "I = I[...,:3].copy()"
   ]
  },
  {
   "cell_type": "code",
   "execution_count": 87,
   "metadata": {},
   "outputs": [
    {
     "data": {
      "application/vnd.jupyter.widget-view+json": {
       "model_id": "30228d6b3c844aae8b030444096d9ef4",
       "version_major": 2,
       "version_minor": 0
      },
      "text/plain": [
       "Canvas(toolbar=Toolbar(toolitems=[('Home', 'Reset original view', 'home', 'home'), ('Back', 'Back to previous …"
      ]
     },
     "metadata": {},
     "output_type": "display_data"
    },
    {
     "data": {
      "text/plain": [
       "(32, 32, 3)"
      ]
     },
     "execution_count": 87,
     "metadata": {},
     "output_type": "execute_result"
    }
   ],
   "source": [
    "from skimage.transform import rescale\n",
    "plt.figure()\n",
    "sI = rescale(I, 1/16, order = 1, anti_aliasing=False, multichannel=True)\n",
    "plt.imshow(sI)\n",
    "sI.shape"
   ]
  },
  {
   "cell_type": "code",
   "execution_count": 88,
   "metadata": {},
   "outputs": [],
   "source": [
    "s = 32"
   ]
  },
  {
   "cell_type": "code",
   "execution_count": 89,
   "metadata": {},
   "outputs": [],
   "source": [
    "# H is the 8x8 Haar matrix\n",
    "# H = np.eye(8) # For fun comparison.\n",
    "# H = makeRandomBasis(8)\n",
    "# H = makeKLTBasis(I, 8)\n",
    "# H = makeDCTMatrix(8)\n",
    "H = makeHaarMatrix(s)"
   ]
  },
  {
   "cell_type": "code",
   "execution_count": 90,
   "metadata": {},
   "outputs": [
    {
     "data": {
      "text/plain": [
       "(32, 32, 3)"
      ]
     },
     "execution_count": 90,
     "metadata": {},
     "output_type": "execute_result"
    }
   ],
   "source": [
    "#The transform image, an image of coefficients wrt the Haar basis.\n",
    "CT = np.zeros(sI.shape)\n",
    "for chan in range(3):\n",
    "    CT[...,chan] = np.matmul(H, np.matmul(sI[...,chan], H.transpose()))\n",
    "\n",
    "\n",
    "#RI will represent the reconstructed image as we add back more\n",
    "#Haar patterns\n",
    "RI = np.zeros(sI.shape) #Still should be 8x8\n",
    "sI.shape"
   ]
  },
  {
   "cell_type": "code",
   "execution_count": 96,
   "metadata": {},
   "outputs": [
    {
     "data": {
      "text/plain": [
       "0"
      ]
     },
     "execution_count": 96,
     "metadata": {},
     "output_type": "execute_result"
    }
   ],
   "source": [
    "# We're going to reconstruct according to distance from the\n",
    "# 0,0 (the first Haar basis, average calculator). Notice,\n",
    "# this order is independent of the actual image data.\n",
    "xs = np.meshgrid(np.arange(s), np.arange(s), indexing='ij')\n",
    "coords = np.concatenate([np.expand_dims(c, axis=1) for c in\n",
    "                         [x.ravel() for x in xs]], axis=1)\n",
    "dists = np.sum(coords*coords, axis=1)\n",
    "darg = np.argsort(dists) #sorts in increasing order\n",
    "darg.min()"
   ]
  },
  {
   "cell_type": "code",
   "execution_count": 100,
   "metadata": {},
   "outputs": [],
   "source": [
    "from ipywidgets import VBox, IntSlider"
   ]
  },
  {
   "cell_type": "code",
   "execution_count": 102,
   "metadata": {},
   "outputs": [
    {
     "data": {
      "application/vnd.jupyter.widget-view+json": {
       "model_id": "7c172d6f7a2e4b49adf1828d03ba0e24",
       "version_major": 2,
       "version_minor": 0
      },
      "text/plain": [
       "Canvas(toolbar=Toolbar(toolitems=[('Home', 'Reset original view', 'home', 'home'), ('Back', 'Back to previous …"
      ]
     },
     "metadata": {},
     "output_type": "display_data"
    }
   ],
   "source": [
    "fig_args = {'num':' ', 'frameon':True}\n",
    "fig, ax = plt.subplots(1,2, figsize=(10,3), **fig_args)\n",
    "\n",
    "plt.ioff()\n",
    "plt.clf()\n",
    "\n",
    "# https://ipywidgets.readthedocs.io/en/stable/examples/Widget%20List.html#FloatLogSlider\n",
    "slider = IntSlider(\n",
    "    orientation='horizontal',\n",
    "    value=0,\n",
    "    min=0,\n",
    "    max=len(darg),\n",
    "    step=1,\n",
    "    description='Darg'\n",
    ")\n",
    "\n",
    "def make_image(ind):\n",
    "    i,j = coords[ind] #coords[darg[x]] if x in range(len(darg))\n",
    "\n",
    "    #Construct that Haar basis and display it\n",
    "    Bij = np.outer(H[i, :], H[j, :])\n",
    "    ax[0].imshow(Bij, cmap='gray', vmin=-.5, vmax=.5)\n",
    "#     ax[0].axes.get_xaxis().set_visible(False)\n",
    "#     ax[0].axes.get_yaxis().set_visible(False)\n",
    "    # axh[i][j].set_title('c_%d_%d: %6.3f' % (i, j, T[i,j]))\n",
    "    # https://matplotlib.org/api/pyplot_api.html#matplotlib.pyplot.text\n",
    "    ax[0].text(0, 6, r'$\\pi:%6.3f$' % CT[i, j, :].sum(), fontsize=6, color='cyan')\n",
    "\n",
    "    # Add the amount of that basis that was in the original image to\n",
    "    # the running total, or reconstruction.\n",
    "    # RI = RI + T[i, j] * Bij #2D\n",
    "    for chan in range(3):\n",
    "        RI[...,chan] += CT[i,j,chan]*Bij\n",
    "\n",
    "    RIcopy = RI.copy().clip(0,1)\n",
    "    ax[1].imshow(RIcopy)\n",
    "#     axr[i][j].axes.get_xaxis().set_visible(False)\n",
    "#     axr[i][j].axes.get_yaxis().set_visible(False)\n",
    "    # axr[i][j].text(0, 6, '%d' % c, fontsize=10, color='cyan')\n",
    "    #The order of reconstruction isn't that informative, but useful for debugging.\n",
    "    #c += 1\n",
    "\n",
    "def update_image(change):\n",
    "    global I, I_g, gaus_h, adisp, hdisp, gdisp, htext, gtext\n",
    "    sig = change.new\n",
    "    gaus_h = make_gaus(sig=sig)\n",
    "    I_g = np.stack([correlate(I[...,i], gaus_h) for i in range(3)], axis=-1)\n",
    "    \n",
    "    \n",
    "    hdisp.set_array(gaus_h)\n",
    "    # need to reset the color limits each time since gaus_h is changing a lot. \n",
    "    hdisp.set_clim(0.0,gaus_h.max()) \n",
    "    htext.set_text('Sig {}'.format(sig))\n",
    "    \n",
    "    gdisp.set_array(I_g)\n",
    "    gtext.set_text('Sig {}'.format(sig))\n",
    "    \n",
    "    fig.canvas.draw()\n",
    "    fig.canvas.flush_events()\n",
    "\n",
    "slider.observe(update_image, names='value')\n",
    "\n",
    "VBox([slider, fig.canvas])\n",
    "\n",
    "plt.show()\n",
    "\n"
   ]
  },
  {
   "cell_type": "code",
   "execution_count": null,
   "metadata": {},
   "outputs": [],
   "source": [
    "#Visual\n",
    "fh, axh = plt.subplots(s,s, figsize=(8,8))\n",
    "fr, axr = plt.subplots(s,s, figsize=(8,8))\n",
    "\n",
    "\n",
    "# We're going to reconstruct according to distance from the\n",
    "# 0,0 (the first Haar basis, average calculator). Notice,\n",
    "# this order is independent of the actual image data.\n",
    "xs = np.meshgrid(np.arange(s), np.arange(s), indexing='ij')\n",
    "coords = np.concatenate([np.expand_dims(c, axis=1) for c in\n",
    "                         [x.ravel() for x in xs]], axis=1)\n",
    "dists = np.sum(coords*coords, axis=1)\n",
    "darg = np.argsort(dists) #sorts in increasing order\n",
    "\n",
    "#If we were to use magnitude of the coefficient...need to ravel in\n",
    "#column-major, like we set up coords.\n",
    "# mags = T.ravel(order='F')\n",
    "# darg = np.argsort(mags)\n",
    "# darg.reverse()\n",
    "#\n",
    "#c = 1 #used to display the order of reconstruction.\n",
    "\n",
    "for ind in darg:\n",
    "    i,j = coords[ind] #coords[darg[x]] if x in range(len(darg))\n",
    "\n",
    "    #Construct that Haar basis and display it\n",
    "    Bij = np.outer(H[i, :], H[j, :])\n",
    "    axh[i][j].imshow(Bij, cmap='gray', vmin=-.5, vmax=.5)\n",
    "    axh[i][j].axes.get_xaxis().set_visible(False)\n",
    "    axh[i][j].axes.get_yaxis().set_visible(False)\n",
    "    # axh[i][j].set_title('c_%d_%d: %6.3f' % (i, j, T[i,j]))\n",
    "    # https://matplotlib.org/api/pyplot_api.html#matplotlib.pyplot.text\n",
    "    axh[i][j].text(0, 6, r'$\\pi:%6.3f$' % CT[i, j, :].sum(), fontsize=6, color='cyan')\n",
    "\n",
    "    # Add the amount of that basis that was in the original image to\n",
    "    # the running total, or reconstruction.\n",
    "    # RI = RI + T[i, j] * Bij #2D\n",
    "    for chan in range(3):\n",
    "        RI[...,chan] += CT[i,j,chan]*Bij\n",
    "\n",
    "    RIcopy = RI.copy().clip(0,1)\n",
    "    axr[i][j].imshow(RIcopy)\n",
    "    axr[i][j].axes.get_xaxis().set_visible(False)\n",
    "    axr[i][j].axes.get_yaxis().set_visible(False)\n",
    "    # axr[i][j].text(0, 6, '%d' % c, fontsize=10, color='cyan')\n",
    "    #The order of reconstruction isn't that informative, but useful for debugging.\n",
    "    #c += 1\n",
    "\n",
    "\n",
    "plt.show()\n",
    "\n",
    "fh.canvas.set_window_title('Haar Basis Images and Coefficients')\n",
    "fh.tight_layout()\n",
    "\n",
    "fr.canvas.set_window_title('Partial Reconstructions from Large Scale to Small')\n",
    "fr.tight_layout()"
   ]
  },
  {
   "cell_type": "code",
   "execution_count": null,
   "metadata": {},
   "outputs": [],
   "source": []
  },
  {
   "cell_type": "code",
   "execution_count": null,
   "metadata": {},
   "outputs": [],
   "source": []
  }
 ],
 "metadata": {
  "kernelspec": {
   "display_name": "Python 3",
   "language": "python",
   "name": "python3"
  },
  "language_info": {
   "codemirror_mode": {
    "name": "ipython",
    "version": 3
   },
   "file_extension": ".py",
   "mimetype": "text/x-python",
   "name": "python",
   "nbconvert_exporter": "python",
   "pygments_lexer": "ipython3",
   "version": "3.7.6"
  }
 },
 "nbformat": 4,
 "nbformat_minor": 4
}
