{
 "cells": [
  {
   "cell_type": "code",
   "execution_count": 1,
   "metadata": {},
   "outputs": [],
   "source": [
    "%matplotlib widget\n",
    "import matplotlib.pyplot as plt\n",
    "import numpy as np\n",
    "from scipy.ndimage import correlate\n",
    "from skimage.filters import *\n",
    "from scipy.stats import entropy\n",
    "from LZWUtil import *\n"
   ]
  },
  {
   "cell_type": "code",
   "execution_count": 2,
   "metadata": {},
   "outputs": [],
   "source": [
    "  # utility: what is arr?\n",
    "def arrInfo(arr):\n",
    "    return arr.shape, arr.min(), arr.max(), arr.dtype"
   ]
  },
  {
   "cell_type": "code",
   "execution_count": 3,
   "metadata": {},
   "outputs": [
    {
     "data": {
      "application/vnd.jupyter.widget-view+json": {
       "model_id": "a4735721d94c4ac5b24cf037f2d9d32f",
       "version_major": 2,
       "version_minor": 0
      },
      "text/plain": [
       "Canvas(toolbar=Toolbar(toolitems=[('Home', 'Reset original view', 'home', 'home'), ('Back', 'Back to previous …"
      ]
     },
     "metadata": {},
     "output_type": "display_data"
    },
    {
     "data": {
      "text/plain": [
       "<matplotlib.image.AxesImage at 0x1384ace01d0>"
      ]
     },
     "execution_count": 3,
     "metadata": {},
     "output_type": "execute_result"
    }
   ],
   "source": [
    "I = plt.imread('im.jpg')\n",
    "plt.figure()\n",
    "arrInfo(I)\n",
    "plt.imshow(I)"
   ]
  },
  {
   "cell_type": "code",
   "execution_count": 4,
   "metadata": {},
   "outputs": [
    {
     "data": {
      "application/vnd.jupyter.widget-view+json": {
       "model_id": "7da301d33dbd4c7db0922355d480c36d",
       "version_major": 2,
       "version_minor": 0
      },
      "text/plain": [
       "Canvas(toolbar=Toolbar(toolitems=[('Home', 'Reset original view', 'home', 'home'), ('Back', 'Back to previous …"
      ]
     },
     "metadata": {},
     "output_type": "display_data"
    },
    {
     "data": {
      "text/plain": [
       "<matplotlib.legend.Legend at 0x1384b074b70>"
      ]
     },
     "execution_count": 4,
     "metadata": {},
     "output_type": "execute_result"
    }
   ],
   "source": [
    "bins = np.arange(256)/256\n",
    "f, axarr = plt.subplots(1,2, figsize=(10, 3))\n",
    "Ic = I/I.ravel().max()\n",
    "axarr[0].imshow(I)\n",
    "axarr[1].hist(Ic[...,0].ravel(), bins, alpha = .6, label = 'red', color = 'r')\n",
    "axarr[1].hist(Ic[...,1].ravel(), bins, alpha = .6, label = 'green', color = 'g')\n",
    "axarr[1].hist(Ic[...,2].ravel(), bins, alpha = .6, label = 'blue', color = 'b')\n",
    "axarr[1].legend(loc = 'upper right')"
   ]
  },
  {
   "cell_type": "code",
   "execution_count": 5,
   "metadata": {},
   "outputs": [],
   "source": [
    "h = np.array([-1,1], ndmin = 2).astype(np.int16)\n",
    "h1 = np.transpose(h)\n",
    "h2 = np.stack((np.array([0,-1]), np.array([-1,2])))\n",
    "def correl(fil):\n",
    "    If_red = correlate(I[...,0].astype(np.int16), fil, mode='constant', cval=0)\n",
    "    If_green = correlate(I[...,1].astype(np.int16), fil, mode='constant', cval=0)\n",
    "    If_blue = correlate(I[...,2].astype(np.int16), fil, mode='constant', cval=0)\n",
    "    return If_red, If_green, If_blue"
   ]
  },
  {
   "cell_type": "code",
   "execution_count": 6,
   "metadata": {},
   "outputs": [],
   "source": [
    "If = np.zeros(I.shape, dtype = np.int16) # both sides display\n",
    "# correlate\n",
    "If_red, If_green, If_blue = correl(h)\n",
    "# setting channels\n",
    "If[...,0] = If_red\n",
    "If[...,1] = If_green\n",
    "If[...,2] = If_blue\n",
    "\n",
    "# normalized\n",
    "If_copy = If.copy()\n",
    "If_copy = (If_copy - If_copy.min())/(If_copy.max() - If_copy.min())"
   ]
  },
  {
   "cell_type": "code",
   "execution_count": 7,
   "metadata": {},
   "outputs": [],
   "source": [
    "If1 = np.zeros(I.shape, dtype = np.int16) # both sides display\n",
    "\n",
    "# correlate\n",
    "If1_red, If1_green, If1_blue = correl(h1)\n",
    "If1[...,0] = If1_red\n",
    "If1[...,1] = If1_green\n",
    "If1[...,2] = If1_blue\n",
    "\n",
    "# normalized\n",
    "If_copy1 = If1.copy()\n",
    "If_copy1 = (If_copy1 - If_copy1.min())/(If_copy1.max() - If_copy1.min())"
   ]
  },
  {
   "cell_type": "code",
   "execution_count": 8,
   "metadata": {},
   "outputs": [],
   "source": [
    "If2 = np.zeros(I.shape, dtype = np.int16)\n",
    "\n",
    "# correlate\n",
    "If2_red, If2_green, If2_blue = correl(h2)\n",
    "If2[...,0] = If2_red\n",
    "If2[...,1] = If2_green\n",
    "If2[...,2] = If2_blue\n",
    "\n",
    "# normalized\n",
    "If_copy2 = If2.copy()\n",
    "If_copy2 = (If_copy2 - If_copy2.min())/(If_copy2.max() - If_copy2.min())"
   ]
  },
  {
   "cell_type": "code",
   "execution_count": 9,
   "metadata": {},
   "outputs": [
    {
     "data": {
      "application/vnd.jupyter.widget-view+json": {
       "model_id": "576b8d3e95d34e75a91c09b2093347c0",
       "version_major": 2,
       "version_minor": 0
      },
      "text/plain": [
       "Canvas(toolbar=Toolbar(toolitems=[('Home', 'Reset original view', 'home', 'home'), ('Back', 'Back to previous …"
      ]
     },
     "metadata": {},
     "output_type": "display_data"
    },
    {
     "data": {
      "text/plain": [
       "<matplotlib.legend.Legend at 0x138519cf908>"
      ]
     },
     "execution_count": 9,
     "metadata": {},
     "output_type": "execute_result"
    }
   ],
   "source": [
    "# plot\n",
    "bins=np.arange(-255,256,1)\n",
    "f, axar = plt.subplots(1,2, figsize=(10, 3))\n",
    "\n",
    "axar[0].imshow(If_copy, cmap='gray', interpolation=None)\n",
    "axar[0].set_title(\"Sub Left Prediction\")\n",
    "axar[1].hist(If[...,0].ravel(), bins, alpha = .6, label = 'red', color = 'r')\n",
    "axar[1].hist(If[...,1].ravel(), bins, alpha = .6, label = 'green', color = 'g')\n",
    "axar[1].hist(If[...,2].ravel(), bins, alpha = .6, label = 'blue', color = 'b')\n",
    "axar[1].legend(loc = 'upper right')"
   ]
  },
  {
   "cell_type": "code",
   "execution_count": 10,
   "metadata": {},
   "outputs": [
    {
     "data": {
      "application/vnd.jupyter.widget-view+json": {
       "model_id": "10a993aba34145629d239390fb7eb5b9",
       "version_major": 2,
       "version_minor": 0
      },
      "text/plain": [
       "Canvas(toolbar=Toolbar(toolitems=[('Home', 'Reset original view', 'home', 'home'), ('Back', 'Back to previous …"
      ]
     },
     "metadata": {},
     "output_type": "display_data"
    },
    {
     "data": {
      "text/plain": [
       "<matplotlib.legend.Legend at 0x13851635f60>"
      ]
     },
     "execution_count": 10,
     "metadata": {},
     "output_type": "execute_result"
    }
   ],
   "source": [
    "# plot\n",
    "bins=np.arange(-255,256,1)\n",
    "f, axar = plt.subplots(1,2, figsize=(10, 3))\n",
    "\n",
    "axar[0].imshow(If_copy1, cmap='gray', interpolation=None)\n",
    "axar[0].set_title(\"Up Prediction\")\n",
    "axar[1].hist(If1[...,0].ravel(), bins, alpha = .6, label = 'red', color = 'r')\n",
    "axar[1].hist(If1[...,1].ravel(), bins, alpha = .6, label = 'green', color = 'g')\n",
    "axar[1].hist(If1[...,2].ravel(), bins, alpha = .6, label = 'blue', color = 'b')\n",
    "axar[1].legend(loc = 'upper right')"
   ]
  },
  {
   "cell_type": "code",
   "execution_count": 11,
   "metadata": {},
   "outputs": [
    {
     "data": {
      "application/vnd.jupyter.widget-view+json": {
       "model_id": "10802539629f4aafba2751e9fe2d86fa",
       "version_major": 2,
       "version_minor": 0
      },
      "text/plain": [
       "Canvas(toolbar=Toolbar(toolitems=[('Home', 'Reset original view', 'home', 'home'), ('Back', 'Back to previous …"
      ]
     },
     "metadata": {},
     "output_type": "display_data"
    },
    {
     "data": {
      "text/plain": [
       "<matplotlib.legend.Legend at 0x1385760e9b0>"
      ]
     },
     "execution_count": 11,
     "metadata": {},
     "output_type": "execute_result"
    }
   ],
   "source": [
    "# plot\n",
    "bins=np.arange(-255,256,1)\n",
    "f, a = plt.subplots(1,2, figsize=(10, 3))\n",
    "\n",
    "a[0].imshow(If_copy2, cmap='gray', interpolation=None)\n",
    "a[0].set_title(\"Avg Prediction\")\n",
    "a[1].hist(If2[...,0].ravel(), bins, alpha = .6, label = 'red', color = 'r')\n",
    "a[1].hist(If2[...,1].ravel(), bins, alpha = .6, label = 'green', color = 'g')\n",
    "a[1].hist(If2[...,2].ravel(), bins, alpha = .6, label = 'blue', color = 'b')\n",
    "a[1].legend(loc = 'upper right')"
   ]
  },
  {
   "cell_type": "code",
   "execution_count": 12,
   "metadata": {},
   "outputs": [
    {
     "name": "stdout",
     "output_type": "stream",
     "text": [
      "((560, 1000, 3), -152, 162, dtype('int16'))\n"
     ]
    },
    {
     "data": {
      "text/plain": [
       "((560, 1000, 3), 0.0, 1.0, dtype('float64'))"
      ]
     },
     "execution_count": 12,
     "metadata": {},
     "output_type": "execute_result"
    }
   ],
   "source": [
    "print(arrInfo(If))\n",
    "arrInfo(If_copy1)"
   ]
  },
  {
   "cell_type": "code",
   "execution_count": 13,
   "metadata": {},
   "outputs": [],
   "source": [
    "def printStatsChannel(origin, name):\n",
    "    '''\n",
    "    Prints the info of the encoding for each channel\n",
    "    origin: the raveled color channel\n",
    "    name: name of the channel\n",
    "    '''\n",
    "    # total entropy = - sum(bin 0 -> bin 255) of probability(event) * log2(probability(event))\n",
    "    # then just compute the size\n",
    "    # then the encoded file, comparing the bits/pixel :D, should be roughly the same with the entropy\n",
    "    freq, bins = np.histogram(origin, bins = np.arange(257))\n",
    "    print(name + \" channel entropy is \" + str(entropy(freq, base=2)))"
   ]
  },
  {
   "cell_type": "code",
   "execution_count": 14,
   "metadata": {},
   "outputs": [
    {
     "name": "stdout",
     "output_type": "stream",
     "text": [
      "Origin channel entropy is 7.288067143497486\n"
     ]
    }
   ],
   "source": [
    "printStatsChannel(I, \"Origin\")"
   ]
  },
  {
   "cell_type": "code",
   "execution_count": 15,
   "metadata": {},
   "outputs": [
    {
     "name": "stdout",
     "output_type": "stream",
     "text": [
      "Sub Left channel entropy is 3.749647372577736\n"
     ]
    }
   ],
   "source": [
    "printStatsChannel(If, \"Sub Left\")"
   ]
  },
  {
   "cell_type": "code",
   "execution_count": 16,
   "metadata": {},
   "outputs": [
    {
     "name": "stdout",
     "output_type": "stream",
     "text": [
      "Up channel entropy is 3.798689241247225\n"
     ]
    }
   ],
   "source": [
    "printStatsChannel(If1, \"Up\")"
   ]
  },
  {
   "cell_type": "code",
   "execution_count": 17,
   "metadata": {},
   "outputs": [
    {
     "name": "stdout",
     "output_type": "stream",
     "text": [
      "Average channel entropy is 4.448180860979805\n"
     ]
    }
   ],
   "source": [
    "printStatsChannel(If2, \"Average\")"
   ]
  },
  {
   "cell_type": "code",
   "execution_count": 18,
   "metadata": {},
   "outputs": [
    {
     "data": {
      "text/plain": [
       "((560, 1000, 3), 0.0, 1.0, dtype('float64'))"
      ]
     },
     "execution_count": 18,
     "metadata": {},
     "output_type": "execute_result"
    }
   ],
   "source": [
    "arrInfo(If_copy)"
   ]
  },
  {
   "cell_type": "code",
   "execution_count": 19,
   "metadata": {},
   "outputs": [],
   "source": [
    "If_copy = (255*(If_copy)).astype('uint8')\n",
    "If_copy1 = (255*(If_copy1)).astype('uint8')\n",
    "If_copy2 = (255*(If_copy2)).astype('uint8')"
   ]
  },
  {
   "cell_type": "code",
   "execution_count": 20,
   "metadata": {},
   "outputs": [
    {
     "name": "stdout",
     "output_type": "stream",
     "text": [
      "I size for sub left 1640.625KB, LZ encoded size 960.568KB.\n"
     ]
    }
   ],
   "source": [
    "BITS = 10\n",
    "Ifd = If_copy.ravel()\n",
    "estream = LZWCompress(Ifd, bits=BITS)\n",
    "encodedSize = sum(1 for x in estream)\n",
    "print('I size for sub left %6.3fKB, LZ encoded size %6.3fKB.' %\n",
    "      (If_copy.size/1024, encodedSize*BITS/(8*1024)))"
   ]
  },
  {
   "cell_type": "code",
   "execution_count": 22,
   "metadata": {},
   "outputs": [
    {
     "name": "stdout",
     "output_type": "stream",
     "text": [
      "I size for sub left 1640.625KB, LZ encoded size 960.568KB.\n"
     ]
    }
   ],
   "source": [
    "Ifd1 = If_copy1.ravel()\n",
    "estream1 = LZWCompress(Ifd1, bits=BITS)\n",
    "encodedSize1 = sum(1 for x in estream)\n",
    "print('I size for sub left %6.3fKB, LZ encoded size %6.3fKB.' %\n",
    "      (If_copy1.size/1024, encodedSize1*BITS/(8*1024)))"
   ]
  },
  {
   "cell_type": "code",
   "execution_count": null,
   "metadata": {},
   "outputs": [],
   "source": []
  },
  {
   "cell_type": "code",
   "execution_count": 23,
   "metadata": {},
   "outputs": [
    {
     "name": "stdout",
     "output_type": "stream",
     "text": [
      "I size for sub left 1640.625KB, LZ encoded size 960.568KB.\n"
     ]
    }
   ],
   "source": [
    "Ifd2 = If_copy2.ravel()\n",
    "estream2 = LZWCompress(Ifd2, bits=BITS)\n",
    "encodedSize2 = sum(1 for x in estream)\n",
    "print('I size for sub left %6.3fKB, LZ encoded size %6.3fKB.' %\n",
    "      (If_copy2.size/1024, encodedSize2*BITS/(8*1024)))"
   ]
  },
  {
   "cell_type": "code",
   "execution_count": 27,
   "metadata": {},
   "outputs": [],
   "source": [
    "decomp = LZWDecompress(estream1, bits=BITS)\n",
    "recI1d = np.zeros(Ifd1.shape)\n",
    "for i, x in enumerate(decomp):\n",
    "    recI1d[i] = x"
   ]
  },
  {
   "cell_type": "code",
   "execution_count": 28,
   "metadata": {},
   "outputs": [],
   "source": [
    "Ir = recI1d.reshape(I.shape)"
   ]
  },
  {
   "cell_type": "code",
   "execution_count": 32,
   "metadata": {},
   "outputs": [
    {
     "data": {
      "application/vnd.jupyter.widget-view+json": {
       "model_id": "28343d9a6f824508ad6180fded5c0ae3",
       "version_major": 2,
       "version_minor": 0
      },
      "text/plain": [
       "Canvas(toolbar=Toolbar(toolitems=[('Home', 'Reset original view', 'home', 'home'), ('Back', 'Back to previous …"
      ]
     },
     "metadata": {},
     "output_type": "display_data"
    },
    {
     "data": {
      "text/plain": [
       "Text(0.5, 1.0, 'LZ Compressed 960.568KB')"
      ]
     },
     "execution_count": 32,
     "metadata": {},
     "output_type": "execute_result"
    }
   ],
   "source": [
    "f, ax = plt.subplots(1,2, figsize=(10,3), sharex=True, sharey=True)\n",
    "ax[0].imshow(If_copy1, cmap='gray')\n",
    "ax[0].set_title('Up Filter %6.3fKB' % (I.size/1024))\n",
    "\n",
    "ax[1].imshow(Ir.astype('uint8'), cmap='gray')\n",
    "ax[1].set_title('LZ Compressed %6.3fKB' % (encodedSize*BITS/(8*1024)))"
   ]
  },
  {
   "cell_type": "code",
   "execution_count": 34,
   "metadata": {},
   "outputs": [
    {
     "name": "stdout",
     "output_type": "stream",
     "text": [
      "LZ Compressed channel entropy is 4.3266100250176285\n",
      "Up - Normalized channel entropy is 4.3266100250176285\n",
      "Up channel entropy is 3.798689241247225\n"
     ]
    }
   ],
   "source": [
    "printStatsChannel(Ir, \"LZ Compressed\")\n",
    "printStatsChannel(If_copy1, \"Up - Normalized\")\n",
    "printStatsChannel(If1, \"Up\")"
   ]
  },
  {
   "cell_type": "code",
   "execution_count": null,
   "metadata": {},
   "outputs": [],
   "source": [
    "plt.close('all')"
   ]
  },
  {
   "cell_type": "code",
   "execution_count": null,
   "metadata": {},
   "outputs": [],
   "source": []
  }
 ],
 "metadata": {
  "kernelspec": {
   "display_name": "Python 3",
   "language": "python",
   "name": "python3"
  },
  "language_info": {
   "codemirror_mode": {
    "name": "ipython",
    "version": 3
   },
   "file_extension": ".py",
   "mimetype": "text/x-python",
   "name": "python",
   "nbconvert_exporter": "python",
   "pygments_lexer": "ipython3",
   "version": "3.7.3"
  }
 },
 "nbformat": 4,
 "nbformat_minor": 4
}
