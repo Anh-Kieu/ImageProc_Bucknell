{
 "cells": [
  {
   "cell_type": "code",
   "execution_count": 1,
   "metadata": {},
   "outputs": [],
   "source": [
    "%matplotlib widget\n",
    "import huffTreeUtilities as hf\n",
    "import numpy as np\n",
    "import matplotlib.pyplot as plt\n",
    "from scipy.stats import entropy\n",
    "from CompStats import getCompressionStats\n",
    "import copy"
   ]
  },
  {
   "cell_type": "code",
   "execution_count": 2,
   "metadata": {},
   "outputs": [],
   "source": [
    "I = plt.imread('image.jpg', 'uint8')\n",
    "Ic = I.copy()\n",
    "Ic_red = hf.loadHuffableImage(Ic[..., 0]) # it is 2-D array, it removes the color channel already\n",
    "red_chan = Ic[...,0]\n",
    "encoder_red, decoder_red = hf.buildHuffPair(red_chan)\n",
    "en_red = ''.join(encoder_red[pix] for pix in red_chan.ravel()) # string of encoded image\n",
    "\n",
    "Ic_green = hf.loadHuffableImage(Ic[..., 1]) # it is 2-D array, it removes the color channel already\n",
    "green_chan = Ic[...,1]\n",
    "encoder_green, decoder_green = hf.buildHuffPair(green_chan)\n",
    "en_green = ''.join(encoder_green[pix] for pix in green_chan.ravel()) # string of encoded image\n",
    "\n",
    "Ic_blue = hf.loadHuffableImage(Ic[..., 2]) # it is 2-D array, it removes the color channel already\n",
    "blue_chan = Ic[...,2]\n",
    "encoder_blue, decoder_blue = hf.buildHuffPair(blue_chan)\n",
    "en_blue = ''.join(encoder_blue[pix] for pix in blue_chan.ravel()) # string of encoded image\n",
    "# plt.close('all')\n",
    "# print(en_red)\n",
    "# encoder_red"
   ]
  },
  {
   "cell_type": "code",
   "execution_count": 3,
   "metadata": {},
   "outputs": [
    {
     "name": "stdout",
     "output_type": "stream",
     "text": [
      "1044181\n",
      "2018400\n"
     ]
    }
   ],
   "source": [
    "print(len(en_red))\n",
    "print(len(Ic[...,0].ravel())*8)"
   ]
  },
  {
   "cell_type": "code",
   "execution_count": 4,
   "metadata": {},
   "outputs": [],
   "source": [
    "def find_min_length(arr):\n",
    "    # ['101010','100','11111']\n",
    "    min_str = arr[0]\n",
    "    for i in arr:\n",
    "        if len(i) < len(min_str):\n",
    "            min_str = i\n",
    "    return min_str"
   ]
  },
  {
   "cell_type": "code",
   "execution_count": 5,
   "metadata": {},
   "outputs": [],
   "source": [
    "def substitute(encoder, nearby):\n",
    "    sub = {}\n",
    "    intensity_list = np.arange(0, 256)\n",
    "    for i in intensity_list:\n",
    "        if i < 256 - nearby:\n",
    "            arr = [encoder[x] for x in range(i, i+nearby)]\n",
    "            sub[i] = find_min_length(arr)\n",
    "        else:\n",
    "            arr = [encoder[x] for x in range(256 - nearby, 256)]\n",
    "            sub[i] = find_min_length(arr)\n",
    "    return sub"
   ]
  },
  {
   "cell_type": "code",
   "execution_count": 6,
   "metadata": {},
   "outputs": [],
   "source": [
    "def sub_bin(encoder, nearby):\n",
    "    sub = copy.deepcopy(encoder)\n",
    "    intensity_list = np.arange(0,256)\n",
    "    for i in range(len(intensity_list)//nearby):\n",
    "        r = range(i*nearby, (i+1)*nearby)\n",
    "        min_str = find_min_length([encoder[x] for x in r])\n",
    "        for j in r:\n",
    "            sub[j] = min_str\n",
    "    return sub           "
   ]
  },
  {
   "cell_type": "code",
   "execution_count": 7,
   "metadata": {},
   "outputs": [
    {
     "data": {
      "text/plain": [
       "'001100011010'"
      ]
     },
     "execution_count": 7,
     "metadata": {},
     "output_type": "execute_result"
    }
   ],
   "source": [
    "cp_red = substitute(encoder_red, 20)\n",
    "cp_blue = substitute(encoder_blue, 20)\n",
    "cp_green = substitute(encoder_green, 20)\n",
    "# for i in range(256):\n",
    "#     print(i, len(cp_red[i]), len(encoder_red[i]))\n",
    "encoder_red[50]\n",
    "cp_red[50]"
   ]
  },
  {
   "cell_type": "code",
   "execution_count": 8,
   "metadata": {},
   "outputs": [
    {
     "name": "stdout",
     "output_type": "stream",
     "text": [
      "1036416\n",
      "1044181\n"
     ]
    }
   ],
   "source": [
    "en_cp_red = ''.join(cp_red[pix] for pix in red_chan.ravel()) # string of encoded image\n",
    "en_cp_green = ''.join(cp_green[pix] for pix in green_chan.ravel()) # string of encoded image\n",
    "en_cp_blue = ''.join(cp_blue[pix] for pix in blue_chan.ravel()) # string of encoded image\n",
    "# decoder_cp_red = dict((cp_red[key], key) for key in cp_red)\n",
    "# decoder_cp_blue = dict((cp_blue[key], key) for key in cp_blue)\n",
    "# decoder_cp_green = dict((cp_green[key], key) for key in cp_green)\n",
    "print(len(en_cp_red)) # my stuff\n",
    "print(len(en_red)) # huffman"
   ]
  },
  {
   "cell_type": "code",
   "execution_count": 9,
   "metadata": {},
   "outputs": [
    {
     "data": {
      "text/plain": [
       "'0001011100000'"
      ]
     },
     "execution_count": 9,
     "metadata": {},
     "output_type": "execute_result"
    }
   ],
   "source": [
    "cp_red[141]"
   ]
  },
  {
   "cell_type": "code",
   "execution_count": 10,
   "metadata": {},
   "outputs": [],
   "source": [
    "def decodeImage(code, decoder):\n",
    "    '''\n",
    "    Decode the code string\n",
    "    Input: str of encoded code in huffman encoding\n",
    "    Output: list of intensities that = to I.ravel()\n",
    "    '''\n",
    "    decode = np.zeros((Ic_red.ravel()).shape)\n",
    "    current_index = ''\n",
    "    index = 0\n",
    "    for num in code:\n",
    "        current_index = current_index + num\n",
    "        if current_index in decoder:\n",
    "            decode[index] = (decoder[current_index])\n",
    "            current_index = ''\n",
    "            index += 1\n",
    "    return decode"
   ]
  },
  {
   "cell_type": "code",
   "execution_count": 11,
   "metadata": {},
   "outputs": [],
   "source": [
    "# Form the decoded sequences\n",
    "# red\n",
    "re_cp_red = decodeImage(en_cp_red, decoder_red)\n",
    "# green\n",
    "re_cp_green = decodeImage(en_cp_green, decoder_green)\n",
    "# blue\n",
    "re_cp_blue = decodeImage(en_cp_blue, decoder_blue)"
   ]
  },
  {
   "cell_type": "code",
   "execution_count": 12,
   "metadata": {},
   "outputs": [
    {
     "name": "stdout",
     "output_type": "stream",
     "text": [
      "756900\n"
     ]
    }
   ],
   "source": [
    "# I_reconstruct = np.reshape(s, red_chan) \n",
    "# reconstruct the image\n",
    "red_reconst = np.reshape(re_cp_red, Ic_red.shape)\n",
    "green_reconst = np.reshape(re_cp_green, Ic_green.shape)\n",
    "blue_reconst = np.reshape(re_cp_blue, Ic_blue.shape)\n",
    "I_reconstructed = np.zeros(I.shape)\n",
    "I_reconstructed[...,0] = red_reconst\n",
    "I_reconstructed[...,1] = green_reconst\n",
    "I_reconstructed[...,2] = blue_reconst\n",
    "print(I_reconstructed.size)"
   ]
  },
  {
   "cell_type": "code",
   "execution_count": 13,
   "metadata": {},
   "outputs": [],
   "source": [
    "# Form the decoded sequences\n",
    "# red\n",
    "re_red = decodeImage(en_red, decoder_red)\n",
    "# green\n",
    "re_green = decodeImage(en_green, decoder_green)\n",
    "# blue\n",
    "re_blue = decodeImage(en_blue, decoder_blue)"
   ]
  },
  {
   "cell_type": "code",
   "execution_count": 14,
   "metadata": {},
   "outputs": [],
   "source": [
    "# I_reconstruct = np.reshape(s, red_chan) \n",
    "# reconstruct the image\n",
    "red_reconst_x = np.reshape(re_red, Ic_red.shape)\n",
    "green_reconst_x = np.reshape(re_green, Ic_green.shape)\n",
    "blue_reconst_x = np.reshape(re_blue, Ic_blue.shape)\n",
    "Ir = np.zeros(I.shape)\n",
    "Ir[...,0] = red_reconst_x\n",
    "Ir[...,1] = green_reconst_x\n",
    "Ir[...,2] = blue_reconst_x\n",
    "# print(I_reconstructed)"
   ]
  },
  {
   "cell_type": "code",
   "execution_count": 15,
   "metadata": {},
   "outputs": [
    {
     "data": {
      "application/vnd.jupyter.widget-view+json": {
       "model_id": "237bc6d71eaa4159ad99844a6c896670",
       "version_major": 2,
       "version_minor": 0
      },
      "text/plain": [
       "Canvas(toolbar=Toolbar(toolitems=[('Home', 'Reset original view', 'home', 'home'), ('Back', 'Back to previous …"
      ]
     },
     "metadata": {},
     "output_type": "display_data"
    },
    {
     "data": {
      "text/plain": [
       "Text(0.5, 1.0, '5 nearby lossy')"
      ]
     },
     "execution_count": 15,
     "metadata": {},
     "output_type": "execute_result"
    }
   ],
   "source": [
    "f, axx = plt.subplots(1,3, figsize = (10,3), sharex = True, sharey = True)\n",
    "axx[0].imshow(I)\n",
    "axx[0].set_title(\"original\")\n",
    "axx[1].imshow(Ir.astype('uint8'))\n",
    "axx[1].set_title(\"Huffman\")\n",
    "\n",
    "axx[2].imshow(I_reconstructed.astype('uint8'))\n",
    "axx[2].set_title(\"5 nearby lossy\")"
   ]
  },
  {
   "cell_type": "code",
   "execution_count": 16,
   "metadata": {},
   "outputs": [
    {
     "data": {
      "application/vnd.jupyter.widget-view+json": {
       "model_id": "9aa7ee953f2c415f9532267bbaf4a5a2",
       "version_major": 2,
       "version_minor": 0
      },
      "text/plain": [
       "Canvas(toolbar=Toolbar(toolitems=[('Home', 'Reset original view', 'home', 'home'), ('Back', 'Back to previous …"
      ]
     },
     "metadata": {},
     "output_type": "display_data"
    },
    {
     "data": {
      "text/plain": [
       "<matplotlib.image.AxesImage at 0x7fb6aef51950>"
      ]
     },
     "execution_count": 16,
     "metadata": {},
     "output_type": "execute_result"
    }
   ],
   "source": [
    "plt.figure()\n",
    "# plt.imshow(I - I_reconstructed)\n",
    "dif = ((abs(I - I_reconstructed) + 1).astype('uint8'))\n",
    "# plt.imshow(np.log(dif))\n",
    "dif = dif/dif.ravel().max()\n",
    "plt.imshow(dif, cmap = 'gray')"
   ]
  },
  {
   "cell_type": "code",
   "execution_count": 17,
   "metadata": {},
   "outputs": [
    {
     "data": {
      "application/vnd.jupyter.widget-view+json": {
       "model_id": "d9afe8f3a5a24231b5c2045fbc3ba653",
       "version_major": 2,
       "version_minor": 0
      },
      "text/plain": [
       "Canvas(toolbar=Toolbar(toolitems=[('Home', 'Reset original view', 'home', 'home'), ('Back', 'Back to previous …"
      ]
     },
     "metadata": {},
     "output_type": "display_data"
    },
    {
     "data": {
      "text/plain": [
       "<matplotlib.legend.Legend at 0x7fb6aee212d0>"
      ]
     },
     "execution_count": 17,
     "metadata": {},
     "output_type": "execute_result"
    }
   ],
   "source": [
    "#The histogram bins are just let's say 256 bins in [0,1]\n",
    "bins = np.arange(256)/256\n",
    "f1, axarr = plt.subplots(1,2, figsize=(10, 3))\n",
    "Is = I/I.ravel().max()\n",
    "axarr[0].imshow(I)\n",
    "axarr[1].hist(Is[...,0].ravel(), bins, alpha = .6, label = 'red', color = 'r')\n",
    "axarr[1].hist(Is[...,1].ravel(), bins, alpha = .6, label = 'green', color = 'g')\n",
    "axarr[1].hist(Is[...,2].ravel(), bins, alpha = .6, label = 'blue', color = 'b')\n",
    "axarr[1].legend(loc = 'upper right')"
   ]
  },
  {
   "cell_type": "code",
   "execution_count": 18,
   "metadata": {},
   "outputs": [
    {
     "data": {
      "application/vnd.jupyter.widget-view+json": {
       "model_id": "d06c0d2fe5c0498888bc2372a3861591",
       "version_major": 2,
       "version_minor": 0
      },
      "text/plain": [
       "Canvas(toolbar=Toolbar(toolitems=[('Home', 'Reset original view', 'home', 'home'), ('Back', 'Back to previous …"
      ]
     },
     "metadata": {},
     "output_type": "display_data"
    },
    {
     "data": {
      "text/plain": [
       "<matplotlib.legend.Legend at 0x7fb6ac222ad0>"
      ]
     },
     "execution_count": 18,
     "metadata": {},
     "output_type": "execute_result"
    }
   ],
   "source": [
    "#The histogram bins are just let's say 256 bins in [0,1]\n",
    "bins = np.arange(256)/256\n",
    "f1, axarr = plt.subplots(1,2, figsize=(10, 3))\n",
    "I_reconstructed = I_reconstructed/I_reconstructed.ravel().max()\n",
    "axarr[0].imshow(I_reconstructed)\n",
    "axarr[0].set_title('20 lossy')\n",
    "axarr[1].hist(I_reconstructed[...,0].ravel(), bins, alpha = .6, label = 'red', color = 'r')\n",
    "axarr[1].hist(I_reconstructed[...,1].ravel(), bins, alpha = .6, label = 'green', color = 'g')\n",
    "axarr[1].hist(I_reconstructed[...,2].ravel(), bins, alpha = .6, label = 'blue', color = 'b')\n",
    "axarr[1].legend(loc = 'upper right')"
   ]
  },
  {
   "cell_type": "code",
   "execution_count": null,
   "metadata": {},
   "outputs": [],
   "source": [
    "plt.close('all')"
   ]
  },
  {
   "cell_type": "code",
   "execution_count": null,
   "metadata": {},
   "outputs": [],
   "source": []
  }
 ],
 "metadata": {
  "kernelspec": {
   "display_name": "Python 3",
   "language": "python",
   "name": "python3"
  },
  "language_info": {
   "codemirror_mode": {
    "name": "ipython",
    "version": 3
   },
   "file_extension": ".py",
   "mimetype": "text/x-python",
   "name": "python",
   "nbconvert_exporter": "python",
   "pygments_lexer": "ipython3",
   "version": "3.7.6"
  }
 },
 "nbformat": 4,
 "nbformat_minor": 4
}
