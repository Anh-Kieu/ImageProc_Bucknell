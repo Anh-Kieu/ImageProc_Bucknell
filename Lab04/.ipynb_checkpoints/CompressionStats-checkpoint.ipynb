{
 "cells": [
  {
   "cell_type": "code",
   "execution_count": 1,
   "metadata": {},
   "outputs": [],
   "source": [
    "%matplotlib widget\n",
    "import huffTreeUtilities as hf\n",
    "import numpy as np\n",
    "import matplotlib.pyplot as plt"
   ]
  },
  {
   "cell_type": "code",
   "execution_count": 2,
   "metadata": {},
   "outputs": [],
   "source": [
    "def encode(image):\n",
    "    I = plt.imread(image)\n",
    "    Ic = I.copy()\n",
    "    Ic_red = hf.loadHuffableImage(Ic[..., 0])\n",
    "    red_chan = Ic[...,0]\n",
    "    encoder_red, decoder_red = hf.buildHuffPair(red_chan)\n",
    "    en_red = ''.join(encoder_red[pix] for pix in red_chan.ravel())\n",
    "\n",
    "    Ic_green = hf.loadHuffableImage(Ic[..., 1])\n",
    "    green_chan = Ic[...,1]\n",
    "    encoder_green, decoder_green = hf.buildHuffPair(green_chan)\n",
    "    en_green = ''.join(encoder_green[pix] for pix in green_chan.ravel())\n",
    "\n",
    "    Ic_blue = hf.loadHuffableImage(Ic[..., 2])\n",
    "    blue_chan = Ic[...,2]\n",
    "    encoder_blue, decoder_blue = hf.buildHuffPair(blue_chan)\n",
    "    en_blue = ''.join(encoder_blue[pix] for pix in blue_chan.ravel())\n",
    "    return en_red, en_green, en_blue"
   ]
  },
  {
   "cell_type": "code",
   "execution_count": 3,
   "metadata": {},
   "outputs": [],
   "source": [
    "def printStatsChannel(channel, origin, name):\n",
    "    print(\"Channel \" + name + \" statistics:\")\n",
    "    print(\"Load Hufffable Image: Setting range to [0,255]\")\n",
    "    # total entropy = - sum(bin 0 -> bin 255) of probability(event) * log2(probability(event))\n",
    "    # then just compute the size\n",
    "    # then the encoded file, comparing the bits/pixel :D, should be roughly the same with the entropy\n",
    "    print(name + \" channel entropy is \")\n",
    "    print(\"Size at 8-bit encoding: \")\n",
    "    print(\"Size with huff encoding: \" + \" or \" + \" bits per pixel.\")"
   ]
  },
  {
   "cell_type": "code",
   "execution_count": 5,
   "metadata": {},
   "outputs": [],
   "source": [
    "def getCompressionStats(image):\n",
    "    '''\n",
    "    Print out the statistics for the compression\n",
    "    '''\n",
    "    r_comp, g_comp, b_comp = encode(image)\n",
    "    \n",
    "    \n",
    "    "
   ]
  }
 ],
 "metadata": {
  "kernelspec": {
   "display_name": "Python 3",
   "language": "python",
   "name": "python3"
  },
  "language_info": {
   "codemirror_mode": {
    "name": "ipython",
    "version": 3
   },
   "file_extension": ".py",
   "mimetype": "text/x-python",
   "name": "python",
   "nbconvert_exporter": "python",
   "pygments_lexer": "ipython3",
   "version": "3.7.6"
  }
 },
 "nbformat": 4,
 "nbformat_minor": 4
}
