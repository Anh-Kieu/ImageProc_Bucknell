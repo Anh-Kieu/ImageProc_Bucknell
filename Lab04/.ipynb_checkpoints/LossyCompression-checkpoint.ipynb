{
 "cells": [
  {
   "cell_type": "code",
   "execution_count": 8,
   "metadata": {},
   "outputs": [
    {
     "ename": "ModuleNotFoundError",
     "evalue": "No module named 'CompressionStats'",
     "output_type": "error",
     "traceback": [
      "\u001b[1;31m---------------------------------------------------------------------------\u001b[0m",
      "\u001b[1;31mModuleNotFoundError\u001b[0m                       Traceback (most recent call last)",
      "\u001b[1;32m<ipython-input-8-11c1d55f41f3>\u001b[0m in \u001b[0;36m<module>\u001b[1;34m\u001b[0m\n\u001b[0;32m      4\u001b[0m \u001b[1;32mimport\u001b[0m \u001b[0mmatplotlib\u001b[0m\u001b[1;33m.\u001b[0m\u001b[0mpyplot\u001b[0m \u001b[1;32mas\u001b[0m \u001b[0mplt\u001b[0m\u001b[1;33m\u001b[0m\u001b[1;33m\u001b[0m\u001b[0m\n\u001b[0;32m      5\u001b[0m \u001b[1;32mfrom\u001b[0m \u001b[0mscipy\u001b[0m\u001b[1;33m.\u001b[0m\u001b[0mstats\u001b[0m \u001b[1;32mimport\u001b[0m \u001b[0mentropy\u001b[0m\u001b[1;33m\u001b[0m\u001b[1;33m\u001b[0m\u001b[0m\n\u001b[1;32m----> 6\u001b[1;33m \u001b[1;32mfrom\u001b[0m \u001b[0mCompressionStats\u001b[0m \u001b[1;32mimport\u001b[0m \u001b[0mgetCompressionStats\u001b[0m\u001b[1;33m\u001b[0m\u001b[1;33m\u001b[0m\u001b[0m\n\u001b[0m\u001b[0;32m      7\u001b[0m \u001b[1;32mimport\u001b[0m \u001b[0mcopy\u001b[0m\u001b[1;33m\u001b[0m\u001b[1;33m\u001b[0m\u001b[0m\n",
      "\u001b[1;31mModuleNotFoundError\u001b[0m: No module named 'CompressionStats'"
     ]
    }
   ],
   "source": [
    "%matplotlib widget\n",
    "import huffTreeUtilities as hf\n",
    "import numpy as np\n",
    "import matplotlib.pyplot as plt\n",
    "from scipy.stats import entropy\n",
    "from CompressionStats import getCompressionStats\n",
    "import copy"
   ]
  },
  {
   "cell_type": "code",
   "execution_count": 2,
   "metadata": {},
   "outputs": [],
   "source": [
    "I = plt.imread('image.jpg', 'uint8')\n",
    "Ic = I.copy()\n",
    "Ic_red = hf.loadHuffableImage(Ic[..., 0]) # it is 2-D array, it removes the color channel already\n",
    "red_chan = Ic[...,0]\n",
    "encoder_red, decoder_red = hf.buildHuffPair(red_chan)\n",
    "en_red = ''.join(encoder_red[pix] for pix in red_chan.ravel()) # string of encoded image\n",
    "\n",
    "Ic_green = hf.loadHuffableImage(Ic[..., 1]) # it is 2-D array, it removes the color channel already\n",
    "green_chan = Ic[...,1]\n",
    "encoder_green, decoder_green = hf.buildHuffPair(green_chan)\n",
    "en_green = ''.join(encoder_green[pix] for pix in green_chan.ravel()) # string of encoded image\n",
    "\n",
    "Ic_blue = hf.loadHuffableImage(Ic[..., 2]) # it is 2-D array, it removes the color channel already\n",
    "blue_chan = Ic[...,2]\n",
    "encoder_blue, decoder_blue = hf.buildHuffPair(blue_chan)\n",
    "en_blue = ''.join(encoder_blue[pix] for pix in blue_chan.ravel()) # string of encoded image\n",
    "# plt.close('all')\n",
    "# print(en_red)"
   ]
  },
  {
   "cell_type": "code",
   "execution_count": 4,
   "metadata": {},
   "outputs": [],
   "source": [
    "def find_min_length(arr):\n",
    "    min_str = arr[0]\n",
    "    for i in arr:\n",
    "        if len(i) < len(min_str):\n",
    "            min_str = i\n",
    "    return min_str"
   ]
  },
  {
   "cell_type": "code",
   "execution_count": 5,
   "metadata": {},
   "outputs": [],
   "source": [
    "cp_red = copy.deepcopy(encoder_red)\n",
    "intensity_list = np.arange(0, 256, 1)\n",
    "# intensity_list\n",
    "nearby = 5\n",
    "for i in intensity_list:\n",
    "    if i < 255 - nearby:\n",
    "        arr = [encoder_red[x] for x in range(i, i+nearby+1)]\n",
    "        cp_red[i] = find_min_length(arr)\n",
    "    else:\n",
    "        arr = [encoder_red[x] for x in range(256 - nearby, 256)]\n",
    "        cp_red[i] = find_min_length(arr)\n",
    "# cp_red[102]\n",
    "# encoder_red[105]"
   ]
  },
  {
   "cell_type": "code",
   "execution_count": 6,
   "metadata": {},
   "outputs": [],
   "source": [
    "def subtitute(encoder, nearby):\n",
    "    sub = {}\n",
    "    intensity_list = np.arange(0, 256, 1)\n",
    "    for i in intensity_list:\n",
    "        if i < 255 - nearby:\n",
    "            arr = [encoder[x] for x in range(i, i+nearby+1)]\n",
    "            sub[i] = find_min_length(arr)\n",
    "        else:\n",
    "            arr = [encoder[x] for x in range(256 - nearby, 256)]\n",
    "            sub[i] = find_min_length(arr)\n",
    "    return sub"
   ]
  },
  {
   "cell_type": "code",
   "execution_count": 7,
   "metadata": {},
   "outputs": [],
   "source": [
    "cp_red = subtitute(encoder_red, 5)\n",
    "cp_blue = subtitute(encoder_blue, 5)\n",
    "cp_green = subtitute(encoder_green, 5)\n",
    "# print(cp_red)"
   ]
  },
  {
   "cell_type": "code",
   "execution_count": null,
   "metadata": {},
   "outputs": [],
   "source": []
  }
 ],
 "metadata": {
  "kernelspec": {
   "display_name": "Python 3",
   "language": "python",
   "name": "python3"
  },
  "language_info": {
   "codemirror_mode": {
    "name": "ipython",
    "version": 3
   },
   "file_extension": ".py",
   "mimetype": "text/x-python",
   "name": "python",
   "nbconvert_exporter": "python",
   "pygments_lexer": "ipython3",
   "version": "3.7.3"
  }
 },
 "nbformat": 4,
 "nbformat_minor": 2
}
