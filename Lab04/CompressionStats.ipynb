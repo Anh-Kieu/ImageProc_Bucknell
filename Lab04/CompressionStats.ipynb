{
 "cells": [
  {
   "cell_type": "code",
   "execution_count": 13,
   "metadata": {},
   "outputs": [],
   "source": [
    "%matplotlib widget\n",
    "import huffTreeUtilities as hf\n",
    "import numpy as np\n",
    "import matplotlib.pyplot as plt\n",
    "from scipy.stats import entropy"
   ]
  },
  {
   "cell_type": "code",
   "execution_count": 3,
   "metadata": {},
   "outputs": [],
   "source": [
    "def encode(I):\n",
    "    Ic = I.copy()\n",
    "    Ic_red = hf.loadHuffableImage(Ic[..., 0])\n",
    "    red_chan = Ic[...,0]\n",
    "    encoder_red, decoder_red = hf.buildHuffPair(red_chan)\n",
    "    en_red = ''.join(encoder_red[pix] for pix in red_chan.ravel())\n",
    "\n",
    "    Ic_green = hf.loadHuffableImage(Ic[..., 1])\n",
    "    green_chan = Ic[...,1]\n",
    "    encoder_green, decoder_green = hf.buildHuffPair(green_chan)\n",
    "    en_green = ''.join(encoder_green[pix] for pix in green_chan.ravel())\n",
    "\n",
    "    Ic_blue = hf.loadHuffableImage(Ic[..., 2])\n",
    "    blue_chan = Ic[...,2]\n",
    "    encoder_blue, decoder_blue = hf.buildHuffPair(blue_chan)\n",
    "    en_blue = ''.join(encoder_blue[pix] for pix in blue_chan.ravel())\n",
    "    return en_red, en_green, en_blue"
   ]
  },
  {
   "cell_type": "code",
   "execution_count": 22,
   "metadata": {},
   "outputs": [],
   "source": [
    "def printStatsChannel(encoded, origin, name):\n",
    "    '''\n",
    "    Prints the info of the encoding for each channel\n",
    "    input: encoded: the encoded string\n",
    "    origin: the raveled color channel\n",
    "    name: name of the channel\n",
    "    '''\n",
    "    print(\"Channel \" + name + \" statistics:\")\n",
    "    print(\"Load Hufffable Image: Setting range to [0,255]\")\n",
    "    # total entropy = - sum(bin 0 -> bin 255) of probability(event) * log2(probability(event))\n",
    "    # then just compute the size\n",
    "    # then the encoded file, comparing the bits/pixel :D, should be roughly the same with the entropy\n",
    "    freq, bins = np.histogram(origin, bins = np.arange(257))\n",
    "    print(name + \" channel entropy is \" + str(entropy(freq, base=2)))\n",
    "    print(\"Size at 8-bit encoding: \" + str(len(origin)/1000) + \" KB\")\n",
    "    print(\"Size with huff encoding: \" + str(len(encoded)/8000) + \" KB or \" + str(len(encoded)/len(origin)) + \" bits per pixel.\")"
   ]
  },
  {
   "cell_type": "code",
   "execution_count": 23,
   "metadata": {},
   "outputs": [],
   "source": [
    "def getCompressionStats(image):\n",
    "    '''\n",
    "    Print out the statistics for the compression\n",
    "    '''\n",
    "    I = plt.imread(image, 'uint8')\n",
    "    r_comp, g_comp, b_comp = encode(I)\n",
    "    printStatsChannel(r_comp, I[...,0].ravel(), \"Red\")\n",
    "    printStatsChannel(g_comp, I[...,1].ravel(), \"Green\")\n",
    "    printStatsChannel(b_comp, I[...,2].ravel(), \"Blue\")"
   ]
  },
  {
   "cell_type": "code",
   "execution_count": 24,
   "metadata": {},
   "outputs": [
    {
     "name": "stdout",
     "output_type": "stream",
     "text": [
      "Channel Red statistics:\n",
      "Load Hufffable Image: Setting range to [0,255]\n",
      "Red channel entropy is 2.1948177071835606\n",
      "Size at 8-bit encoding: 546.12 KB\n",
      "Size with huff encoding: 155.476875 KB or 2.2775488903537684 bits per pixel.\n",
      "Channel Green statistics:\n",
      "Load Hufffable Image: Setting range to [0,255]\n",
      "Green channel entropy is 2.1976172787711947\n",
      "Size at 8-bit encoding: 546.12 KB\n",
      "Size with huff encoding: 155.685875 KB or 2.280610488537318 bits per pixel.\n",
      "Channel Blue statistics:\n",
      "Load Hufffable Image: Setting range to [0,255]\n",
      "Blue channel entropy is 2.2001579970391014\n",
      "Size at 8-bit encoding: 546.12 KB\n",
      "Size with huff encoding: 155.85275 KB or 2.2830550062257378 bits per pixel.\n"
     ]
    }
   ],
   "source": [
    "getCompressionStats('happyFace.png')"
   ]
  }
 ],
 "metadata": {
  "kernelspec": {
   "display_name": "Python 3",
   "language": "python",
   "name": "python3"
  },
  "language_info": {
   "codemirror_mode": {
    "name": "ipython",
    "version": 3
   },
   "file_extension": ".py",
   "mimetype": "text/x-python",
   "name": "python",
   "nbconvert_exporter": "python",
   "pygments_lexer": "ipython3",
   "version": "3.7.3"
  }
 },
 "nbformat": 4,
 "nbformat_minor": 4
}
