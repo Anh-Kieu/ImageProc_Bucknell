{
 "cells": [
  {
   "cell_type": "code",
   "execution_count": null,
   "metadata": {},
   "outputs": [],
   "source": [
    "%%markdown\n",
    "# Brief review of images, color, sampling, quantization, windowing\n",
    "Joshua Stough, DIP 365\n",
    "\n",
    "Through [Gonzalez/Woods](http://www.imageprocessingplace.com/index.htm) 2.4\n",
    "\n",
    "During this module we learned about the following concepts.\n",
    "\n",
    "- Color: a particular comb of red, green, blue\n",
    "- Digital Images : collection of pixels\n",
    "    - pixel: picture element, some spatial etxent with color\n",
    "- Histograms: graph showing relative distribution of values\n",
    "- Resolution as a loaded word, could refer to:\n",
    "    - Sampling: number of pixels (h x w [x 3]). \n",
    "    - Resolution: dots per inch (dpi), density of pixels in space\n",
    "    - Quantization, Color Depth: aka bit depth, limiting the number of gradations for each color \n",
    "    - contrast? : relative difference ...\n",
    "- Windowing"
   ]
  },
  {
   "cell_type": "markdown",
   "metadata": {},
   "source": [
    "### Import statements\n",
    "Useful to have these at top. And if you figure out you need an additional one, put it in here and restart the kernel. "
   ]
  },
  {
   "cell_type": "code",
   "execution_count": null,
   "metadata": {},
   "outputs": [],
   "source": [
    "%matplotlib widget\n",
    "import matplotlib.pyplot as plt\n",
    "import numpy as np\n",
    "from skimage.transform import rescale"
   ]
  },
  {
   "cell_type": "markdown",
   "metadata": {},
   "source": [
    "## Color"
   ]
  },
  {
   "cell_type": "code",
   "execution_count": null,
   "metadata": {},
   "outputs": [],
   "source": [
    "I = np.zeros((100,100, 3))\n",
    "\n",
    "plt.figure()\n",
    "\n",
    "plt.imshow(I)\n",
    "\n",
    "# like https://en.wikibooks.org/wiki/Python_Imaging_Library/Editing_Pixels\n",
    "# but without the silly double for loop\n",
    "\n",
    "X, Y = np.meshgrid(range(0,100), range(0,100), indexing='ij')\n",
    "\n",
    "I = np.stack([(255/99)*X, (255/99)*Y, 200*np.ones((100,100))], axis=2)\n",
    "\n",
    "# I = I/I.max()\n",
    "plt.imshow(I.astype('uint8'))"
   ]
  },
  {
   "cell_type": "markdown",
   "metadata": {},
   "source": [
    "### Resolution\n",
    "Very much like Figure 2.20 on reducing spatial resolution."
   ]
  },
  {
   "cell_type": "code",
   "execution_count": null,
   "metadata": {},
   "outputs": [],
   "source": [
    "I = plt.imread('grandCanyon.jpg')\n",
    "\n",
    "\n",
    "# Scale the image down\n",
    "sI = rescale(I, (1/32),\n",
    "             order=1,\n",
    "             anti_aliasing=True,\n",
    "             multichannel=True)\n",
    "\n",
    "# rescale\n",
    "reI = rescale(sI, 32,\n",
    "              order=0,\n",
    "              anti_aliasing=False,\n",
    "              multichannel=True)\n",
    "\n",
    "f, ax = plt.subplots(1,2, sharex=True, sharey=True,\n",
    "                     figsize=(12, 3))\n",
    "\n",
    "ax[0].imshow(I, interpolation=None)\n",
    "ax[0].set_title('Original')\n",
    "\n",
    "ax[1].imshow(reI, interpolation=None)\n",
    "ax[1].set_title('Quarter Res')\n",
    "\n",
    "# [a.axes.get_xaxis().set_visible(False) for a in ax]\n",
    "# [a.axes.get_yaxis().set_visible(False) for a in ax]\n",
    "plt.tight_layout()"
   ]
  },
  {
   "cell_type": "markdown",
   "metadata": {},
   "source": [
    "### Windowing\n",
    "\n",
    "Reapportioning the output range to some part of the input range. Most closely related to DIP 3.2.4, but belongs here.\n"
   ]
  },
  {
   "cell_type": "code",
   "execution_count": null,
   "metadata": {},
   "outputs": [],
   "source": [
    "I = plt.imread('world.jpg')"
   ]
  },
  {
   "cell_type": "code",
   "execution_count": null,
   "metadata": {},
   "outputs": [],
   "source": [
    "plt.figure()\n",
    "plt.imshow(I)"
   ]
  },
  {
   "cell_type": "code",
   "execution_count": null,
   "metadata": {},
   "outputs": [],
   "source": [
    "# View a histogram of it\n",
    "plt.figure()\n",
    "plt.hist(I.ravel(), bins=256);"
   ]
  },
  {
   "cell_type": "markdown",
   "metadata": {},
   "source": [
    "### Let's construct an linear intensity transform that transforms the range\n",
    "[150,255] -> [0,255]"
   ]
  },
  {
   "cell_type": "code",
   "execution_count": null,
   "metadata": {},
   "outputs": [],
   "source": [
    "def make_linmap(inputrange, outputrange):\n",
    "    a,b = inputrange\n",
    "    c,d = outputrange\n",
    "    \n",
    "    return lambda x: (1-((x-a)/(b-a)))*c + ((x-a)/(b-a))*d"
   ]
  },
  {
   "cell_type": "code",
   "execution_count": null,
   "metadata": {},
   "outputs": [],
   "source": [
    "f = make_linmap([150,255], [0,255])\n",
    "x = np.arange(0, 255, 1)\n",
    "plt.figure()\n",
    "plt.plot(x, f(x))"
   ]
  },
  {
   "cell_type": "code",
   "execution_count": null,
   "metadata": {},
   "outputs": [],
   "source": [
    "Itransformed = f(I.astype(np.float)) # The map won't play nice with uint8 data\n",
    "# Clip the out of bounds\n",
    "Itransformed = np.clip(Itransformed, 0, 255)"
   ]
  },
  {
   "cell_type": "code",
   "execution_count": null,
   "metadata": {},
   "outputs": [],
   "source": [
    "plt.figure()\n",
    "plt.imshow(Itransformed.astype(np.uint8)) # cast only after clipping to ensure [0,255]"
   ]
  },
  {
   "cell_type": "code",
   "execution_count": null,
   "metadata": {},
   "outputs": [],
   "source": []
  }
 ],
 "metadata": {
  "kernelspec": {
   "display_name": "Python 3",
   "language": "python",
   "name": "python3"
  },
  "language_info": {
   "codemirror_mode": {
    "name": "ipython",
    "version": 3
   },
   "file_extension": ".py",
   "mimetype": "text/x-python",
   "name": "python",
   "nbconvert_exporter": "python",
   "pygments_lexer": "ipython3",
   "version": "3.6.8"
  }
 },
 "nbformat": 4,
 "nbformat_minor": 4
}
