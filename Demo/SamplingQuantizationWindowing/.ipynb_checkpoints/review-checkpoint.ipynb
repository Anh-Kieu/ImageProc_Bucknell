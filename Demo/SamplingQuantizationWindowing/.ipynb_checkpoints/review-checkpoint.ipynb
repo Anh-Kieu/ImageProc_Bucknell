{
 "cells": [
  {
   "cell_type": "code",
   "execution_count": null,
   "metadata": {},
   "outputs": [],
   "source": [
    "%%markdown\n",
    "# Brief review of images, color, sampling, quantization, windowing\n",
    "Joshua Stough, DIP 365\n",
    "\n",
    "Through [Gonzalez/Woods](http://www.imageprocessingplace.com/index.htm) 2.4\n",
    "\n",
    "During this module we learned about the following concepts.\n",
    "\n",
    "- Color: \n",
    "- Digital Images\n",
    "- Histograms\n",
    "- Resolution as a loaded word, could refer to:\n",
    "    - Sampling: \n",
    "    - Resolution:\n",
    "    - Quantization, Color Depth: \n",
    "- Windowing"
   ]
  },
  {
   "cell_type": "markdown",
   "metadata": {},
   "source": [
    "### Import statements\n",
    "Useful to have these at top. And if you figure out you need an additional one, put it in here and restart the kernel. "
   ]
  },
  {
   "cell_type": "code",
   "execution_count": null,
   "metadata": {},
   "outputs": [],
   "source": [
    "%matplotlib inline\n",
    "import matplotlib.pyplot as plt\n",
    "import numpy as np\n",
    "from skimage.transform import rescale"
   ]
  },
  {
   "cell_type": "markdown",
   "metadata": {},
   "source": [
    "## Color"
   ]
  },
  {
   "cell_type": "code",
   "execution_count": null,
   "metadata": {},
   "outputs": [],
   "source": [
    "I = np.zeros((100,100, 3))\n",
    "\n",
    "plt.imshow(I)\n",
    "\n",
    "# like https://en.wikibooks.org/wiki/Python_Imaging_Library/Editing_Pixels\n",
    "# but without the silly double for loop\n",
    "\n",
    "X, Y = np.meshgrid(range(0,100), range(0,100), indexing='ij')\n",
    "\n",
    "I = np.stack([(255/99)*X, (255/99)*Y, 100*np.ones((100,100))], axis=2)\n",
    "\n",
    "# I = I/I.max()\n",
    "plt.imshow(I.astype('uint8'))"
   ]
  },
  {
   "cell_type": "markdown",
   "metadata": {},
   "source": [
    "### Histograms"
   ]
  },
  {
   "cell_type": "code",
   "execution_count": null,
   "metadata": {},
   "outputs": [],
   "source": []
  },
  {
   "cell_type": "code",
   "execution_count": null,
   "metadata": {},
   "outputs": [],
   "source": []
  },
  {
   "cell_type": "markdown",
   "metadata": {},
   "source": [
    "### Resolution"
   ]
  },
  {
   "cell_type": "code",
   "execution_count": null,
   "metadata": {},
   "outputs": [],
   "source": [
    "I = plt.imread('grandCanyon.jpg')\n",
    "\n",
    "\n",
    "# Scale the image down\n",
    "sI = rescale(I, (1/32),\n",
    "             order=1,\n",
    "             anti_aliasing=True,\n",
    "             multichannel=True)\n",
    "\n",
    "# rescale\n",
    "reI = rescale(sI, 32,\n",
    "              order=0,\n",
    "              anti_aliasing=False,\n",
    "              multichannel=True)\n",
    "\n",
    "f, ax = plt.subplots(1,2, sharex=True, sharey=True,\n",
    "                     figsize=(12, 3))\n",
    "\n",
    "ax[0].imshow(I, interpolation=None)\n",
    "ax[0].set_title('Original')\n",
    "\n",
    "ax[1].imshow(reI, interpolation=None)\n",
    "ax[1].set_title('Quarter Res')\n",
    "\n",
    "# [a.axes.get_xaxis().set_visible(False) for a in ax]\n",
    "# [a.axes.get_yaxis().set_visible(False) for a in ax]\n",
    "plt.tight_layout()"
   ]
  },
  {
   "cell_type": "code",
   "execution_count": null,
   "metadata": {},
   "outputs": [],
   "source": []
  },
  {
   "cell_type": "markdown",
   "metadata": {},
   "source": [
    "### Windowing"
   ]
  },
  {
   "cell_type": "code",
   "execution_count": null,
   "metadata": {},
   "outputs": [],
   "source": []
  }
 ],
 "metadata": {
  "kernelspec": {
   "display_name": "Python 3",
   "language": "python",
   "name": "python3"
  },
  "language_info": {
   "codemirror_mode": {
    "name": "ipython",
    "version": 3
   },
   "file_extension": ".py",
   "mimetype": "text/x-python",
   "name": "python",
   "nbconvert_exporter": "python",
   "pygments_lexer": "ipython3",
   "version": "3.7.6"
  }
 },
 "nbformat": 4,
 "nbformat_minor": 4
}
