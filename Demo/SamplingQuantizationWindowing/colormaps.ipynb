{
 "cells": [
  {
   "cell_type": "code",
   "execution_count": null,
   "metadata": {},
   "outputs": [],
   "source": [
    "%%markdown\n",
    "# Playing around with colors.\n",
    "Joshua Stough\n",
    "\n",
    "DIP"
   ]
  },
  {
   "cell_type": "code",
   "execution_count": null,
   "metadata": {},
   "outputs": [],
   "source": [
    "%matplotlib inline\n",
    "import matplotlib.pyplot as plt\n",
    "import numpy as np"
   ]
  },
  {
   "cell_type": "code",
   "execution_count": null,
   "metadata": {},
   "outputs": [],
   "source": [
    "# thank you: https://scipy-cookbook.readthedocs.io/items/Matplotlib_Show_colormaps.html\n",
    "from pylab import *\n",
    "from numpy import outer\n",
    "rc('text', usetex=False)\n",
    "a=outer(arange(0,1,0.01),ones(10))\n",
    "figure(figsize=(10,5))\n",
    "subplots_adjust(top=0.8,bottom=0.05,left=0.01,right=0.99)\n",
    "maps=[m for m in cm.datad if not m.endswith(\"_r\")]\n",
    "maps.sort()\n",
    "l=len(maps)+1\n",
    "for i, m in enumerate(maps):\n",
    "    subplot(1,l,i+1)\n",
    "    axis(\"off\")\n",
    "    imshow(a,aspect='auto',cmap=get_cmap(m),origin=\"lower\")\n",
    "    title(m,rotation=90,fontsize=10)\n",
    "savefig(\"colormaps.png\",dpi=100,facecolor='gray')"
   ]
  },
  {
   "cell_type": "markdown",
   "metadata": {},
   "source": [
    "## Making an image"
   ]
  },
  {
   "cell_type": "code",
   "execution_count": null,
   "metadata": {},
   "outputs": [],
   "source": [
    "I = np.zeros((100,100, 3))\n",
    "\n",
    "plt.imshow(I)"
   ]
  },
  {
   "cell_type": "code",
   "execution_count": null,
   "metadata": {},
   "outputs": [],
   "source": [
    "# like https://en.wikibooks.org/wiki/Python_Imaging_Library/Editing_Pixels\n",
    "# but without the silly double for loop\n",
    "\n",
    "X, Y = np.meshgrid(range(0,100), range(0,100), indexing='ij')\n",
    "\n",
    "I = np.stack([(255/99)*X, (255/99)*Y, 100*np.ones((100,100))], axis=2)"
   ]
  },
  {
   "cell_type": "code",
   "execution_count": null,
   "metadata": {},
   "outputs": [],
   "source": [
    "# I = I/I.max()\n",
    "plt.imshow(I.astype('uint8'))"
   ]
  },
  {
   "cell_type": "code",
   "execution_count": null,
   "metadata": {},
   "outputs": [],
   "source": [
    "# just the red channel\n",
    "plt.imshow(I[...,0])"
   ]
  },
  {
   "cell_type": "code",
   "execution_count": null,
   "metadata": {},
   "outputs": [],
   "source": [
    "# or with a different colormap\n",
    "plt.imshow(I[...,0], cmap='gray')"
   ]
  },
  {
   "cell_type": "code",
   "execution_count": null,
   "metadata": {},
   "outputs": [],
   "source": []
  }
 ],
 "metadata": {
  "kernelspec": {
   "display_name": "Python 3",
   "language": "python",
   "name": "python3"
  },
  "language_info": {
   "codemirror_mode": {
    "name": "ipython",
    "version": 3
   },
   "file_extension": ".py",
   "mimetype": "text/x-python",
   "name": "python",
   "nbconvert_exporter": "python",
   "pygments_lexer": "ipython3",
   "version": "3.6.8"
  }
 },
 "nbformat": 4,
 "nbformat_minor": 4
}
