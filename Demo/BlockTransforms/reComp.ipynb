{
 "cells": [
  {
   "cell_type": "code",
   "execution_count": 1,
   "metadata": {},
   "outputs": [],
   "source": [
    "\"\"\"\n",
    "Joshua Stough\n",
    "DIP\n",
    "\n",
    "Demo showing reconstruction with standard vs dct basis over the whole image.\n",
    "Just like old happyFace demo in matlab that showed the basis vectors and the\n",
    "reconstruction so far.\n",
    "\"\"\"\n",
    "%matplotlib widget\n",
    "import numpy as np\n",
    "from matplotlib import pyplot as plt\n",
    "import matplotlib.animation as animation\n",
    "\n",
    "from waveletUtil import *\n"
   ]
  },
  {
   "cell_type": "code",
   "execution_count": 2,
   "metadata": {},
   "outputs": [],
   "source": [
    "# parameters for the script\n",
    "IMAGEFILE = 'happy128.png'\n",
    "SNAME = 'Standard'\n",
    "\n",
    "I = plt.imread(IMAGEFILE)"
   ]
  },
  {
   "cell_type": "code",
   "execution_count": 3,
   "metadata": {},
   "outputs": [],
   "source": [
    "ishape = I.shape"
   ]
  },
  {
   "cell_type": "code",
   "execution_count": 4,
   "metadata": {},
   "outputs": [],
   "source": [
    "if len(ishape) < 3:\n",
    "    raise ValueError('reconstructionCompressionAnimation: expecting color image')\n",
    "\n",
    "if ishape[0] != ishape[1]:\n",
    "    print('reconstructionCompressionAnimation: squaring the image')\n",
    "    minn = min(ishape[:2])\n",
    "    I = I[:minn, :minn, :]\n",
    "    ishape = I.shape\n",
    "\n",
    "# Make sure the data is in 0-1, so the floating point imshow is okay\n",
    "I = I/I.max()"
   ]
  },
  {
   "cell_type": "code",
   "execution_count": 5,
   "metadata": {},
   "outputs": [],
   "source": [
    "# Now the idea is to reconstruct an image one coefficient at a time\n",
    "# in different transform spaces, S and H\n",
    "if SNAME == 'Haar':\n",
    "    S = makeHaarMatrix(ishape[0])\n",
    "else:\n",
    "    S = makeStandardMatrix(ishape[0])\n",
    "\n",
    "# H = makeHaarMatrix(ishape[0])\n",
    "H = makeDCTMatrix(ishape[0])\n",
    "\n",
    "# The transform images in S and H\n",
    "TI_S = np.zeros(ishape)\n",
    "TI_H = np.zeros(ishape)\n",
    "\n",
    "for chan in range(3):\n",
    "    TI_S[..., chan] = np.matmul(S, np.matmul(I[..., chan], S.transpose()))\n",
    "    TI_H[..., chan] = np.matmul(H, np.matmul(I[..., chan], H.transpose()))"
   ]
  },
  {
   "cell_type": "code",
   "execution_count": 6,
   "metadata": {},
   "outputs": [],
   "source": [
    "# The reconstruction will go in different orders for the two basis sets,\n",
    "# one by english-reading, the other by magnitude of the coefficient.\n",
    "xs = np.meshgrid(np.arange(ishape[0]), np.arange(ishape[0]), indexing='ij')\n",
    "coords = np.concatenate([np.expand_dims(c, axis=1) for c in\n",
    "                         [x.ravel() for x in xs]], axis=1)\n",
    "# dists = np.sum(coords*coords, axis=1) # to use distance from top-left\n",
    "# dargS = np.argsort(dists) # sorts in increasing order\n",
    "dargS = list(range(len(coords)))\n",
    "\n",
    "# If you're not using the standard basis and you want to order\n",
    "# the reconstruction by coefficient magnitude, do this:\n",
    "if SNAME == 'Haar':\n",
    "    mags = TI_S[...,0].ravel(order='F')\n",
    "    dargS = np.argsort(np.abs(mags))\n",
    "    dargS = list(reversed(dargS))"
   ]
  },
  {
   "cell_type": "code",
   "execution_count": 7,
   "metadata": {},
   "outputs": [],
   "source": [
    "# just pic one of the color channels to use.\n",
    "mags = TI_H[...,0].ravel(order='F')\n",
    "dargH = np.argsort(np.abs(mags))\n",
    "dargH = list(reversed(dargH))\n",
    "\n",
    "# frame number\n",
    "fn = 0"
   ]
  },
  {
   "cell_type": "code",
   "execution_count": 8,
   "metadata": {},
   "outputs": [],
   "source": [
    "# The four images we're going to update are the basis images Sij and Hij,\n",
    "# and the reconstructions so far SRI and HRI. This is just the initialization.\n",
    "# aSij, etc. are the artists for the animation.\n",
    "\n",
    "Sij = np.zeros((ishape[0], ishape[0]))\n",
    "Hij = np.zeros((ishape[0], ishape[0]))\n",
    "SRI = np.zeros(ishape)\n",
    "HRI = np.zeros(ishape)"
   ]
  },
  {
   "cell_type": "code",
   "execution_count": null,
   "metadata": {},
   "outputs": [],
   "source": []
  },
  {
   "cell_type": "code",
   "execution_count": 9,
   "metadata": {},
   "outputs": [
    {
     "data": {
      "application/vnd.jupyter.widget-view+json": {
       "model_id": "29521664eb5f4be7b5cfea41136ee094",
       "version_major": 2,
       "version_minor": 0
      },
      "text/plain": [
       "Canvas(toolbar=Toolbar(toolitems=[('Home', 'Reset original view', 'home', 'home'), ('Back', 'Back to previous …"
      ]
     },
     "metadata": {},
     "output_type": "display_data"
    }
   ],
   "source": [
    "f, ax = plt.subplots(2, 2, figsize=(8,8), sharex=True, sharey=True)\n",
    "f.canvas.set_window_title('Image Reconstruction with Cosine Patterns')\n",
    "plt.tight_layout()\n",
    "\n",
    "aSij = ax[0][0].imshow(Sij, cmap='gray', animated=True)\n",
    "ax[0][0].set_title('%s Pattern' % SNAME)\n",
    "\n",
    "aHij = ax[0][1].imshow(Hij, cmap='gray', animated=True)\n",
    "ax[0][1].set_title('Cosine Pattern')\n",
    "\n",
    "aSRI = ax[1][0].imshow(SRI, animated=True)\n",
    "ax[1][0].set_title('%s Reconstruction' % SNAME)\n",
    "\n",
    "aHRI = ax[1][1].imshow(HRI, animated=True)\n",
    "ax[1][1].set_title('Cosine Reconstruction')\n",
    "\n",
    "# Let's add an animated text field for the frame number.\n",
    "aFNText = ax[0][0].text(np.round(.7*ishape[0]), np.round(.9*ishape[0]), 'frame %04d' % fn,\n",
    "                        color='cyan', animated=True, bbox=dict(facecolor='red', alpha=0.5))\n",
    "\n",
    "\n",
    "# And needed to avoid extra whitespace\n",
    "# See: https://stackoverflow.com/questions/15077364/matplotlib-pyplot-imshow-removing-white-space-within-plots-when-using-attribute/\n",
    "# and: https://github.com/matplotlib/matplotlib/pull/10033\n",
    "for i in range(4):\n",
    "    ax[i//2][i%2].set_adjustable('box')"
   ]
  },
  {
   "cell_type": "code",
   "execution_count": 11,
   "metadata": {},
   "outputs": [],
   "source": [
    "#Now time for the animation function\n",
    "\n",
    "# Needs to update the array data and the texts, then\n",
    "# return the artists. see:\n",
    "# https://matplotlib.org/api/_as_gen/matplotlib.animation.FuncAnimation.html\n",
    "#\n",
    "def updateFig(*args):\n",
    "    global Sij, Hij, SRI, HRI, dargS, dargH, fn, TI_S, TI_H\n",
    "\n",
    "    # update the Sij basis and add into the SRI reconstruction\n",
    "\n",
    "    # Need j, i for coefficient mag.\n",
    "    # j, i = coords[dargS[fn]]  # Get the i, j for the frame number.\n",
    "    i, j = coords[dargS[fn]]\n",
    "    Sij = np.outer(S[i, :], S[j, :])\n",
    "\n",
    "    for chan in range(3):\n",
    "        SRI[..., chan] += TI_S[i, j, chan] * Sij\n",
    "\n",
    "    # Just to prove the coefficients are sorted in decreasing magnitude.\n",
    "    # print('%6.3f' % TI_S[i, j, 0])\n",
    "\n",
    "    # similarly update HRI\n",
    "    j, i = coords[dargH[fn]]\n",
    "    Hij = np.outer(H[i, :], H[j, :])\n",
    "\n",
    "    for chan in range(3):\n",
    "        HRI[..., chan] += TI_H[i, j, chan] * Hij\n",
    "\n",
    "    # Just to prove the coefficients are sorted in decreasing magnitude.\n",
    "    # print('%6.3f' % TI_H[i, j, 0])\n",
    "\n",
    "\n",
    "    # Update the frame number fn for next time.\n",
    "    fn += 1\n",
    "    if (fn >= Sij.size): # just ishape[0]*ishape[0], but why keep typing that...\n",
    "        fn = 0\n",
    "        SRI.fill(0)\n",
    "        HRI.fill(0)\n",
    "\n",
    "    # Now with all the images updated, update the artists and return them.\n",
    "\n",
    "    # Not sure why the single-channel basis images don't show without the\n",
    "    # the clim stuff.\n",
    "    aSij.set_array(Sij)\n",
    "    aSij.set_clim(Sij.min(), Sij.max())\n",
    "    # aSij.set_clip_on(True)\n",
    "\n",
    "    aHij.set_array(Hij)\n",
    "    aHij.set_clim(Hij.min(), Hij.max())\n",
    "    # aHij.set_clip_on(True)\n",
    "\n",
    "    aSRI.set_array(SRI.clip(0,1))\n",
    "    aHRI.set_array(HRI.clip(0,1))\n",
    "\n",
    "    aFNText.set_text('frame %04d' % (fn-1))\n",
    "\n",
    "    return aSij, aHij, aSRI, aHRI, aFNText,\n",
    "\n",
    "\n",
    "ani = animation.FuncAnimation(f, updateFig, interval=200, blit=True, repeat=True)"
   ]
  },
  {
   "cell_type": "code",
   "execution_count": null,
   "metadata": {},
   "outputs": [],
   "source": []
  }
 ],
 "metadata": {
  "kernelspec": {
   "display_name": "Python 3",
   "language": "python",
   "name": "python3"
  },
  "language_info": {
   "codemirror_mode": {
    "name": "ipython",
    "version": 3
   },
   "file_extension": ".py",
   "mimetype": "text/x-python",
   "name": "python",
   "nbconvert_exporter": "python",
   "pygments_lexer": "ipython3",
   "version": "3.7.6"
  }
 },
 "nbformat": 4,
 "nbformat_minor": 4
}
