{
 "cells": [
  {
   "cell_type": "markdown",
   "metadata": {},
   "source": [
    "# Otsu thresholding.\n",
    "Joshua Stough\n",
    "DIP\n",
    "\n",
    "Short example demonstrating Otsu's method for image foreground\n",
    "background thresholding. Simply put, the goal is to choose the\n",
    "threshold that maximizes the between class variance.\n",
    "Ref: Gonzalez/Woods, DIP. Section 10.3\n",
    "[Wiki](https://en.wikipedia.org/wiki/Otsu%27s_method)"
   ]
  },
  {
   "cell_type": "code",
   "execution_count": 1,
   "metadata": {},
   "outputs": [],
   "source": [
    "%matplotlib widget\n",
    "import matplotlib.pyplot as plt\n",
    "import numpy as np"
   ]
  },
  {
   "cell_type": "code",
   "execution_count": 2,
   "metadata": {},
   "outputs": [],
   "source": [
    "#I = plt.imread('rice.png') #Popular example image\n",
    "I = plt.imread('germanOtsuWiki.jpg') #Wiki example\n",
    "#I = plt.imread('underExposed.jpg')\n",
    "\n",
    "\n",
    "#If it's a multi-channel image, try to get it in [0,255]\n",
    "if (len(I.shape) > 2):\n",
    "    Ig = 0.2989 * I[..., 0] + 0.5870 * I[..., 1] + 0.1140 * I[..., 2]\n",
    "    I = Ig\n",
    "\n",
    "    I = I/I.ravel().max()\n",
    "    I = 255*I\n",
    "    I = np.round(I)\n",
    "    I[I>255] = 255\n",
    "    I = I.copy().astype('uint8')"
   ]
  },
  {
   "cell_type": "code",
   "execution_count": 4,
   "metadata": {},
   "outputs": [
    {
     "data": {
      "application/vnd.jupyter.widget-view+json": {
       "model_id": "dedd9471218e44ff9dc8ba4fdeab0d22",
       "version_major": 2,
       "version_minor": 0
      },
      "text/plain": [
       "Canvas(toolbar=Toolbar(toolitems=[('Home', 'Reset original view', 'home', 'home'), ('Back', 'Back to previous …"
      ]
     },
     "metadata": {},
     "output_type": "display_data"
    },
    {
     "data": {
      "text/plain": [
       "<matplotlib.image.AxesImage at 0x7f058cf08e50>"
      ]
     },
     "execution_count": 4,
     "metadata": {},
     "output_type": "execute_result"
    }
   ],
   "source": [
    "plt.figure()\n",
    "plt.imshow(I, cmap='gray')"
   ]
  },
  {
   "cell_type": "code",
   "execution_count": 5,
   "metadata": {},
   "outputs": [
    {
     "data": {
      "application/vnd.jupyter.widget-view+json": {
       "model_id": "c48eecd08825443da564cdc745f732d2",
       "version_major": 2,
       "version_minor": 0
      },
      "text/plain": [
       "Canvas(toolbar=Toolbar(toolitems=[('Home', 'Reset original view', 'home', 'home'), ('Back', 'Back to previous …"
      ]
     },
     "metadata": {},
     "output_type": "display_data"
    },
    {
     "data": {
      "application/vnd.jupyter.widget-view+json": {
       "model_id": "4cdc162d6e7b40d5aa3b8159e4345c8d",
       "version_major": 2,
       "version_minor": 0
      },
      "text/plain": [
       "Canvas(toolbar=Toolbar(toolitems=[('Home', 'Reset original view', 'home', 'home'), ('Back', 'Back to previous …"
      ]
     },
     "metadata": {},
     "output_type": "display_data"
    },
    {
     "data": {
      "text/plain": [
       "Text(0.5, 1.0, 'Foreground Image\\nSeparability 0.782')"
      ]
     },
     "execution_count": 5,
     "metadata": {},
     "output_type": "execute_result"
    }
   ],
   "source": [
    "\n",
    "#Using the nomenclature of the book:\n",
    "hist, bins = np.histogram(I.ravel(), np.arange(257))\n",
    "\n",
    "p = hist/sum(hist)  #probability density, 10-48\n",
    "P_1 = np.cumsum(p)    #cumulative sum 10-49\n",
    "\n",
    "#intermediate, intensity times prob, i*p_i\n",
    "ip = np.multiply(bins[:-1], p)\n",
    "\n",
    "#m(k), the cumulative mean up to k, for all k. 10-53\n",
    "mk = np.cumsum(ip)\n",
    "\n",
    "#m_G, global mean intensity, 10-54\n",
    "#should be equivalent to I.ravel().mean()\n",
    "m_G = ip.sum()\n",
    "\n",
    "#We're going to compute the between class variance\n",
    "#as a function of every possible threshold value.\n",
    "numerator = np.square(m_G*P_1 - mk)\n",
    "denom = np.multiply(P_1, 1.0 - P_1)\n",
    "\n",
    "#This would possibly allow division by zero.\n",
    "#sig_B = np.divide(numerator, denom)\n",
    "#so\n",
    "\n",
    "sig_B = np.zeros(len(mk))\n",
    "eps = np.finfo(float).eps #pretty much zero\n",
    "#10-62\n",
    "sig_B[denom > eps] = np.divide(numerator[denom>eps], denom[denom>eps])\n",
    "\n",
    "\n",
    "#Get the max\n",
    "opt = np.argmax(sig_B)\n",
    "\n",
    "f, ax = plt.subplots(1,4, figsize=(15,3))\n",
    "\n",
    "ax[0].imshow(I, cmap = 'gray')\n",
    "ax[0].set_title('Original Image')\n",
    "\n",
    "ax[1].bar(bins[:-1], hist)\n",
    "ax[1].set_title('Image Histogram')\n",
    "\n",
    "ax[2].plot(bins[:-1], sig_B)\n",
    "ax[2].set_title('Inter-Class Variance')\n",
    "\n",
    "F = I>opt #Which pixels are above the threshold.\n",
    "ax[3].imshow(F.astype(float))\n",
    "ax[3].set_title('Threshold=%d' % opt)\n",
    "\n",
    "\n",
    "#Compute the separability, eta. 10-61\n",
    "sig_G = np.multiply(np.square(bins[:-1]-m_G), p).sum()  #10-58\n",
    "etaOpt = sig_B[opt]/sig_G   #10-61\n",
    "\n",
    "\n",
    "#Image with just foreground.\n",
    "If = I.copy()\n",
    "If[~F] = 0\n",
    "\n",
    "f, ax2 = plt.subplots(1,2, figsize=(10,5), sharex=True, sharey=True)\n",
    "ax2[0].imshow(I, cmap = 'gray')\n",
    "ax2[0].set_title('Original Image')\n",
    "\n",
    "ax2[1].imshow(If, cmap = 'gray')\n",
    "ax2[1].set_title('Foreground Image\\nSeparability %5.3f' % etaOpt)"
   ]
  },
  {
   "cell_type": "code",
   "execution_count": null,
   "metadata": {},
   "outputs": [],
   "source": []
  }
 ],
 "metadata": {
  "kernelspec": {
   "display_name": "Python 3",
   "language": "python",
   "name": "python3"
  },
  "language_info": {
   "codemirror_mode": {
    "name": "ipython",
    "version": 3
   },
   "file_extension": ".py",
   "mimetype": "text/x-python",
   "name": "python",
   "nbconvert_exporter": "python",
   "pygments_lexer": "ipython3",
   "version": "3.6.8"
  }
 },
 "nbformat": 4,
 "nbformat_minor": 4
}
