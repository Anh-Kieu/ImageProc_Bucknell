{
 "cells": [
  {
   "cell_type": "code",
   "execution_count": null,
   "metadata": {},
   "outputs": [],
   "source": [
    "%matplotlib widget\n",
    "import matplotlib.pyplot as plt\n",
    "from mpl_toolkits.mplot3d import Axes3D\n",
    "import numpy as np"
   ]
  },
  {
   "cell_type": "code",
   "execution_count": null,
   "metadata": {},
   "outputs": [],
   "source": [
    "NUMPOINTS = 5000\n",
    "\n",
    "I = plt.imread('uniform.png')\n",
    "I = (255*I).astype('uint8')"
   ]
  },
  {
   "cell_type": "code",
   "execution_count": null,
   "metadata": {},
   "outputs": [],
   "source": [
    "plt.figure()\n",
    "plt.imshow(I)"
   ]
  },
  {
   "cell_type": "code",
   "execution_count": null,
   "metadata": {},
   "outputs": [],
   "source": [
    "\n",
    "fig = plt.figure()\n",
    "ax = fig.add_subplot(111, projection='3d')\n",
    "\n",
    "#X is the N*M x 3 version of the image.\n",
    "X = np.concatenate([np.expand_dims(IC, axis = 1) for IC in\n",
    "                    [I[...,0].ravel(), I[...,1].ravel(), I[...,2].ravel()]], axis = 1)\n",
    "\n",
    "#https://docs.scipy.org/doc/numpy/reference/generated/numpy.random.choice.html\n",
    "randomInds = np.random.choice(np.arange(X.shape[0]), NUMPOINTS, replace=False)\n",
    "\n",
    "#Now plot those pixels in the 3d space.\n",
    "ax.scatter(X[randomInds,0], X[randomInds,1], X[randomInds,2], c=X[randomInds, :]/255)\n",
    "\n",
    "#Label the axes.\n",
    "ax.set_xlabel('Red')\n",
    "ax.set_ylabel('Green')\n",
    "ax.set_zlabel('Blue')"
   ]
  },
  {
   "cell_type": "code",
   "execution_count": null,
   "metadata": {},
   "outputs": [],
   "source": []
  },
  {
   "cell_type": "code",
   "execution_count": null,
   "metadata": {},
   "outputs": [],
   "source": []
  }
 ],
 "metadata": {
  "kernelspec": {
   "display_name": "Python 3",
   "language": "python",
   "name": "python3"
  },
  "language_info": {
   "codemirror_mode": {
    "name": "ipython",
    "version": 3
   },
   "file_extension": ".py",
   "mimetype": "text/x-python",
   "name": "python",
   "nbconvert_exporter": "python",
   "pygments_lexer": "ipython3",
   "version": "3.7.6"
  }
 },
 "nbformat": 4,
 "nbformat_minor": 4
}
