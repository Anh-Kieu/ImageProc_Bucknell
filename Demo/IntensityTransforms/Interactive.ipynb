{
 "cells": [
  {
   "cell_type": "code",
   "execution_count": 63,
   "metadata": {},
   "outputs": [],
   "source": [
    "%matplotlib widget\n",
    "import matplotlib.pyplot as plt\n",
    "import scipy.ndimage as ndimage\n",
    "import numpy as np\n",
    "\n",
    "from scipy.ndimage import correlate\n",
    "from skimage.filters import *\n"
   ]
  },
  {
   "cell_type": "code",
   "execution_count": 64,
   "metadata": {},
   "outputs": [
    {
     "data": {
      "application/vnd.jupyter.widget-view+json": {
       "model_id": "194e372d92124d928dced1dfae01038e",
       "version_major": 2,
       "version_minor": 0
      },
      "text/plain": [
       "Canvas(toolbar=Toolbar(toolitems=[('Home', 'Reset original view', 'home', 'home'), ('Back', 'Back to previous …"
      ]
     },
     "metadata": {},
     "output_type": "display_data"
    },
    {
     "data": {
      "text/plain": [
       "<matplotlib.image.AxesImage at 0x1ff1b1455c0>"
      ]
     },
     "execution_count": 64,
     "metadata": {},
     "output_type": "execute_result"
    }
   ],
   "source": [
    "plt.figure()\n",
    "I = plt.imread('underExposed.jpg')\n",
    "I = I.astype('float')\n",
    "I = I/255\n",
    "plt.imshow(I)"
   ]
  },
  {
   "cell_type": "code",
   "execution_count": 71,
   "metadata": {},
   "outputs": [],
   "source": [
    "def gammaTrans(x):\n",
    "    \"\"\"\n",
    "    x: value of gamma change (1/x) to be precise\n",
    "    \"\"\"\n",
    "    global I\n",
    "    Ic = I.copy()\n",
    "    Ic = Ic**(1/x)\n",
    "    return Ic"
   ]
  },
  {
   "cell_type": "code",
   "execution_count": 79,
   "metadata": {},
   "outputs": [
    {
     "data": {
      "application/vnd.jupyter.widget-view+json": {
       "model_id": "9b23e1486cc441ad97ee67921b35abff",
       "version_major": 2,
       "version_minor": 0
      },
      "text/plain": [
       "VBox(children=(FloatSlider(value=1.0, description='Gamma: 1/x', max=5.0), Canvas(toolbar=Toolbar(toolitems=[('…"
      ]
     },
     "metadata": {},
     "output_type": "display_data"
    }
   ],
   "source": [
    "from ipywidgets import VBox, FloatSlider\n",
    "\n",
    "plt.ioff()\n",
    "plt.clf()\n",
    "\n",
    "slider = FloatSlider(\n",
    "    orientation='horizontal',\n",
    "    value=1.0,\n",
    "    min=0.00,\n",
    "    max=5.0,\n",
    "    description='Gamma: 1/x'\n",
    ")\n",
    "\n",
    "fig_args = {'num':' ', 'frameon':True, 'sharex':True, 'sharey':True}\n",
    "fig, ax = plt.subplots(1,2, figsize=(8,4), **fig_args) \n",
    "\n",
    "I_L = gammaTrans(1);\n",
    "\n",
    "s = I.shape\n",
    "# display artists I'll update\n",
    "adisp = ax[0].imshow(I)\n",
    "# ax[0].hlines(s[0]//2, xmin=0, xmax=s[1], color='r')\n",
    "ldisp = ax[1].imshow(I_L)\n",
    "\n",
    "ltext = ax[1].set_title('1*LaPlace')\n",
    "\n",
    "# ax[2].plot(I[s[0]//2,:,0], label='Original')\n",
    "# infodisp = ax[2].plot(I_L[s[0]//2,:,0], label='After Trans')\n",
    "# ax[2].legend(loc='lower right')\n",
    "\n",
    "def update_image(change):\n",
    "    global I, I_laplace, adisp, ldisp, I_L, ltext, s\n",
    "    I_L = gammaTrans(change.new)\n",
    "    ldisp.set_array(I_L)\n",
    "#     infodisp.set_array(I_L[s[0]//2,:,0])\n",
    "    ltext.set_text('1/{}*Gamma'.format(change.new))\n",
    "    fig.canvas.draw()\n",
    "    fig.canvas.flush_events()\n",
    "\n",
    "slider.observe(update_image, names='value')\n",
    "\n",
    "VBox([slider, fig.canvas])"
   ]
  },
  {
   "cell_type": "code",
   "execution_count": null,
   "metadata": {},
   "outputs": [],
   "source": [
    "plt.ioff()\n",
    "plt.clf()\n",
    "\n",
    "slider = FloatSlider(\n",
    "    orientation='horizontal',\n",
    "    value=1.0,\n",
    "    min=0.00,\n",
    "    max=5.0,\n",
    "    description='Gamma: 1/x'\n",
    ")\n",
    "\n",
    "fig_args = {'num':' ', 'frameon':True, 'sharex':True, 'sharey':True}\n",
    "fig, ax = plt.subplots(1,2, figsize=(8,4), **fig_args) \n",
    "\n",
    "I_L = gammaTrans(1);\n",
    "\n",
    "# display artists I'll update\n",
    "adisp = ax[0].imshow(I)\n",
    "ldisp = ax[1].imshow(I_L)\n",
    "\n",
    "ltext = ax[1].set_title('1*LaPlace')\n",
    "\n",
    "\n",
    "def update_image(change):\n",
    "    global I, I_laplace, adisp, ldisp, I_L, ltext\n",
    "    I_L = gammaTrans(change.new)\n",
    "    ldisp.set_array(I_L)\n",
    "    ltext.set_text('1/{}*Gamma'.format(change.new))\n",
    "    fig.canvas.draw()\n",
    "    fig.canvas.flush_events()\n",
    "\n",
    "slider.observe(update_image, names='value')\n",
    "\n",
    "VBox([slider, fig.canvas])"
   ]
  }
 ],
 "metadata": {
  "kernelspec": {
   "display_name": "Python 3",
   "language": "python",
   "name": "python3"
  },
  "language_info": {
   "codemirror_mode": {
    "name": "ipython",
    "version": 3
   },
   "file_extension": ".py",
   "mimetype": "text/x-python",
   "name": "python",
   "nbconvert_exporter": "python",
   "pygments_lexer": "ipython3",
   "version": "3.7.3"
  }
 },
 "nbformat": 4,
 "nbformat_minor": 2
}
