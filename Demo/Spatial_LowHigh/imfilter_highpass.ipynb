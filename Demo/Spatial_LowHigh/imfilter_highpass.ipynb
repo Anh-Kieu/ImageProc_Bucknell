{
 "cells": [
  {
   "cell_type": "markdown",
   "metadata": {},
   "source": [
    "# Exploring spatial filtering, high pass\n",
    "Joshua Stough\n",
    "DIP 3.6 on high-pass. See [correlate](https://docs.scipy.org/doc/scipy/reference/generated/scipy.ndimage.correlate.html)\n",
    "\n",
    "Here we're going to look at the high-pass spatial filter, which derives from the local second derivative. See [these cool visualizations](http://campar.in.tum.de/Chair/HaukeHeibelGaussianDerivatives) of the Gaussian and its derivatives, and [read here](https://homepages.inf.ed.ac.uk/rbf/HIPR2/log.htm)."
   ]
  },
  {
   "cell_type": "code",
   "execution_count": 2,
   "metadata": {},
   "outputs": [],
   "source": [
    "%matplotlib widget\n",
    "import matplotlib.pyplot as plt\n",
    "import scipy.ndimage as ndimage\n",
    "import numpy as np\n",
    "\n",
    "from scipy.ndimage import correlate\n",
    "from skimage.filters import *\n",
    "\n",
    "plt.style.use('dark_background')"
   ]
  },
  {
   "cell_type": "code",
   "execution_count": 3,
   "metadata": {},
   "outputs": [],
   "source": [
    "def arrInfo(I):\n",
    "    return I.shape, I.min(), I.max(), I.dtype"
   ]
  },
  {
   "cell_type": "code",
   "execution_count": 4,
   "metadata": {},
   "outputs": [
    {
     "data": {
      "text/plain": [
       "((512, 512, 4), 0.0, 1.0, dtype('float64'))"
      ]
     },
     "execution_count": 4,
     "metadata": {},
     "output_type": "execute_result"
    }
   ],
   "source": [
    "I = plt.imread('cat_small.png').astype('float')\n",
    "arrInfo(I)"
   ]
  },
  {
   "cell_type": "code",
   "execution_count": 5,
   "metadata": {},
   "outputs": [
    {
     "data": {
      "application/vnd.jupyter.widget-view+json": {
       "model_id": "02cd3c5399b9427faf4b3f58faa2bc95",
       "version_major": 2,
       "version_minor": 0
      },
      "text/plain": [
       "Canvas(toolbar=Toolbar(toolitems=[('Home', 'Reset original view', 'home', 'home'), ('Back', 'Back to previous …"
      ]
     },
     "metadata": {},
     "output_type": "display_data"
    },
    {
     "data": {
      "text/plain": [
       "<matplotlib.image.AxesImage at 0x1a495228d30>"
      ]
     },
     "execution_count": 5,
     "metadata": {},
     "output_type": "execute_result"
    }
   ],
   "source": [
    "plt.figure()\n",
    "plt.imshow(I)"
   ]
  },
  {
   "cell_type": "code",
   "execution_count": 6,
   "metadata": {},
   "outputs": [
    {
     "data": {
      "text/plain": [
       "((512, 512, 3), 0.0, 0.9882352948188782, dtype('float64'))"
      ]
     },
     "execution_count": 6,
     "metadata": {},
     "output_type": "execute_result"
    }
   ],
   "source": [
    "# The image includes an alpha channel that we're not going to need.\n",
    "I = I[...,:3].copy()\n",
    "arrInfo(I)"
   ]
  },
  {
   "cell_type": "markdown",
   "metadata": {},
   "source": [
    "&nbsp;\n",
    "\n",
    "## High-pass filtering, involves computing a pixel's difference from its neighborhood"
   ]
  },
  {
   "cell_type": "code",
   "execution_count": 7,
   "metadata": {},
   "outputs": [
    {
     "data": {
      "text/plain": [
       "array([[-1., -1., -1.],\n",
       "       [-1.,  8., -1.],\n",
       "       [-1., -1., -1.]])"
      ]
     },
     "execution_count": 7,
     "metadata": {},
     "output_type": "execute_result"
    }
   ],
   "source": [
    "laplace_h = -1*np.ones((3,3))\n",
    "laplace_h[1,1] = 8\n",
    "laplace_h"
   ]
  },
  {
   "cell_type": "code",
   "execution_count": 8,
   "metadata": {},
   "outputs": [],
   "source": [
    "I_laplace = np.stack([correlate(I[...,i], laplace_h) for i in range(3)], axis=-1)"
   ]
  },
  {
   "cell_type": "code",
   "execution_count": 9,
   "metadata": {},
   "outputs": [
    {
     "data": {
      "application/vnd.jupyter.widget-view+json": {
       "model_id": "49d631a0bf6442018c6a056c201ddfed",
       "version_major": 2,
       "version_minor": 0
      },
      "text/plain": [
       "Canvas(toolbar=Toolbar(toolitems=[('Home', 'Reset original view', 'home', 'home'), ('Back', 'Back to previous …"
      ]
     },
     "metadata": {},
     "output_type": "display_data"
    },
    {
     "name": "stderr",
     "output_type": "stream",
     "text": [
      "Clipping input data to the valid range for imshow with RGB data ([0..1] for floats or [0..255] for integers).\n"
     ]
    },
    {
     "data": {
      "text/plain": [
       "Text(0.5, 1.0, 'LaPlace Filter')"
      ]
     },
     "execution_count": 9,
     "metadata": {},
     "output_type": "execute_result"
    }
   ],
   "source": [
    "f, ax = plt.subplots(1,2, figsize=(10,5), sharex=True, sharey=True)\n",
    "ax[0].imshow(I)\n",
    "ax[0].set_title('Original')\n",
    "ax[1].imshow(I_laplace, cmap='gray')\n",
    "ax[1].set_title('LaPlace Filter')"
   ]
  },
  {
   "cell_type": "markdown",
   "metadata": {},
   "source": [
    "&nbsp;\n",
    "\n",
    "## Some fraction of the LaPlace can simply be added to the original image\n",
    "to enhance edges. "
   ]
  },
  {
   "cell_type": "code",
   "execution_count": 10,
   "metadata": {},
   "outputs": [],
   "source": [
    "def addLap(frac):\n",
    "    global I, I_laplace\n",
    "    temp = I + frac*I_laplace\n",
    "    return np.clip(temp, 0,1)\n",
    "\n",
    "I_halfL = addLap(.5)\n",
    "I_1L = addLap(1)\n",
    "I_2L = addLap(2)"
   ]
  },
  {
   "cell_type": "code",
   "execution_count": 11,
   "metadata": {},
   "outputs": [
    {
     "data": {
      "text/plain": [
       "array([[-1.31759146e-61, -1.19607119e-56, -3.99676585e-52,\n",
       "        -4.92034755e-48, -2.23388717e-44, -3.74486353e-41,\n",
       "        -2.32132935e-38, -5.32908788e-36, -4.53856611e-34,\n",
       "        -1.43637955e-32, -1.69192585e-31, -7.42687699e-31,\n",
       "        -1.21592218e-30, -7.42687699e-31, -1.69192585e-31,\n",
       "        -1.43637955e-32, -4.53856611e-34, -5.32908788e-36,\n",
       "        -2.32132935e-38, -3.74486353e-41, -2.23388717e-44,\n",
       "        -4.92034755e-48, -3.99676585e-52, -1.19607119e-56,\n",
       "        -1.31759146e-61],\n",
       "       [-1.19607119e-56, -1.07745481e-51, -3.57045855e-47,\n",
       "        -4.35619643e-43, -1.95898741e-39, -3.25161001e-36,\n",
       "        -1.99542312e-33, -4.53612950e-31, -3.82808780e-29,\n",
       "        -1.20195658e-27, -1.40708432e-26, -6.15230676e-26,\n",
       "        -1.00589104e-25, -6.15230676e-26, -1.40708432e-26,\n",
       "        -1.20195658e-27, -3.82808780e-29, -4.53612950e-31,\n",
       "        -1.99542312e-33, -3.25161001e-36, -1.95898741e-39,\n",
       "        -4.35619643e-43, -3.57045855e-47, -1.07745481e-51,\n",
       "        -1.19607119e-56],\n",
       "       [-3.99676585e-52, -3.57045855e-47, -1.17229559e-42,\n",
       "        -1.41586730e-38, -6.29778210e-35, -1.03323370e-31,\n",
       "        -6.26469830e-29, -1.40708432e-26, -1.17393765e-24,\n",
       "        -3.64883853e-23, -4.23747593e-22, -1.84324893e-21,\n",
       "        -3.00830671e-21, -1.84324893e-21, -4.23747593e-22,\n",
       "        -3.64883853e-23, -1.17393765e-24, -1.40708432e-26,\n",
       "        -6.26469830e-29, -1.03323370e-31, -6.29778210e-35,\n",
       "        -1.41586730e-38, -1.17229559e-42, -3.57045855e-47,\n",
       "        -3.99676585e-52],\n",
       "       [-4.92034755e-48, -4.35619643e-43, -1.41586730e-38,\n",
       "        -1.69077991e-34, -7.42687699e-31, -1.20195658e-27,\n",
       "        -7.18275049e-25, -1.58944656e-22, -1.30695720e-20,\n",
       "        -4.00913904e-19, -4.60662376e-18, -1.98992341e-17,\n",
       "        -3.23981869e-17, -1.98992341e-17, -4.60662376e-18,\n",
       "        -4.00913904e-19, -1.30695720e-20, -1.58944656e-22,\n",
       "        -7.18275049e-25, -1.20195658e-27, -7.42687699e-31,\n",
       "        -1.69077991e-34, -1.41586730e-38, -4.35619643e-43,\n",
       "        -4.92034755e-48],\n",
       "       [-2.23388717e-44, -1.95898741e-39, -6.29778210e-35,\n",
       "        -7.42687699e-31, -3.21620583e-27, -5.12277030e-24,\n",
       "        -3.00830671e-21, -6.53483971e-19, -5.27394332e-17,\n",
       "        -1.58975387e-15, -1.80032819e-14, -7.70176068e-14,\n",
       "        -1.24965002e-13, -7.70176068e-14, -1.80032819e-14,\n",
       "        -1.58975387e-15, -5.27394332e-17, -6.53483971e-19,\n",
       "        -3.00830671e-21, -5.12277030e-24, -3.21620583e-27,\n",
       "        -7.42687699e-31, -6.29778210e-35, -1.95898741e-39,\n",
       "        -2.23388717e-44],\n",
       "       [-3.74486353e-41, -3.25161001e-36, -1.03323370e-31,\n",
       "        -1.20195658e-27, -5.12277030e-24, -8.01053923e-21,\n",
       "        -4.60662376e-18, -9.77815231e-16, -7.70176068e-14,\n",
       "        -2.26708698e-12, -2.51528116e-11, -1.06096076e-10,\n",
       "        -1.71278631e-10, -1.06096076e-10, -2.51528116e-11,\n",
       "        -2.26708698e-12, -7.70176068e-14, -9.77815231e-16,\n",
       "        -4.60662376e-18, -8.01053923e-21, -5.12277030e-24,\n",
       "        -1.20195658e-27, -1.03323370e-31, -3.25161001e-36,\n",
       "        -3.74486353e-41],\n",
       "       [-2.32132935e-38, -1.99542312e-33, -6.26469830e-29,\n",
       "        -7.18275049e-25, -3.00830671e-21, -4.60662376e-18,\n",
       "        -2.58414467e-15, -5.32954883e-13, -4.06568387e-11,\n",
       "        -1.15787785e-09, -1.24656259e-08, -5.14565021e-08,\n",
       "        -8.24135030e-08, -5.14565021e-08, -1.24656259e-08,\n",
       "        -1.15787785e-09, -4.06568387e-11, -5.32954883e-13,\n",
       "        -2.58414467e-15, -4.60662376e-18, -3.00830671e-21,\n",
       "        -7.18275049e-25, -6.26469830e-29, -1.99542312e-33,\n",
       "        -2.32132935e-38],\n",
       "       [-5.32908788e-36, -4.53612950e-31, -1.40708432e-26,\n",
       "        -1.58944656e-22, -6.53483971e-19, -9.77815231e-16,\n",
       "        -5.32954883e-13, -1.06096076e-10, -7.75975232e-09,\n",
       "        -2.10845297e-07, -2.16727444e-06, -8.63382236e-06,\n",
       "        -1.36416513e-05, -8.63382236e-06, -2.16727444e-06,\n",
       "        -2.10845297e-07, -7.75975232e-09, -1.06096076e-10,\n",
       "        -5.32954883e-13, -9.77815231e-16, -6.53483971e-19,\n",
       "        -1.58944656e-22, -1.40708432e-26, -4.53612950e-31,\n",
       "        -5.32908788e-36],\n",
       "       [-4.53856611e-34, -3.82808780e-29, -1.17393765e-24,\n",
       "        -1.30695720e-20, -5.27394332e-17, -7.70176068e-14,\n",
       "        -4.06568387e-11, -7.75975232e-09, -5.37315880e-07,\n",
       "        -1.36416513e-05, -1.30061218e-04, -4.85744950e-04,\n",
       "        -7.47467496e-04, -4.85744950e-04, -1.30061218e-04,\n",
       "        -1.36416513e-05, -5.37315880e-07, -7.75975232e-09,\n",
       "        -4.06568387e-11, -7.70176068e-14, -5.27394332e-17,\n",
       "        -1.30695720e-20, -1.17393765e-24, -3.82808780e-29,\n",
       "        -4.53856611e-34],\n",
       "       [-1.43637955e-32, -1.20195658e-27, -3.64883853e-23,\n",
       "        -4.00913904e-19, -1.58975387e-15, -2.26708698e-12,\n",
       "        -1.15787785e-09, -2.10845297e-07, -1.36416513e-05,\n",
       "        -3.14260486e-04, -2.63207757e-03, -8.57902057e-03,\n",
       "        -1.23763620e-02, -8.57902057e-03, -2.63207757e-03,\n",
       "        -3.14260486e-04, -1.36416513e-05, -2.10845297e-07,\n",
       "        -1.15787785e-09, -2.26708698e-12, -1.58975387e-15,\n",
       "        -4.00913904e-19, -3.64883853e-23, -1.20195658e-27,\n",
       "        -1.43637955e-32],\n",
       "       [-1.69192585e-31, -1.40708432e-26, -4.23747593e-22,\n",
       "        -4.60662376e-18, -1.80032819e-14, -2.51528116e-11,\n",
       "        -1.24656259e-08, -2.16727444e-06, -1.30061218e-04,\n",
       "        -2.63207757e-03, -1.74901468e-02, -3.91926999e-02,\n",
       "        -4.30785586e-02, -3.91926999e-02, -1.74901468e-02,\n",
       "        -2.63207757e-03, -1.30061218e-04, -2.16727444e-06,\n",
       "        -1.24656259e-08, -2.51528116e-11, -1.80032819e-14,\n",
       "        -4.60662376e-18, -4.23747593e-22, -1.40708432e-26,\n",
       "        -1.69192585e-31],\n",
       "       [-7.42687699e-31, -6.15230676e-26, -1.84324893e-21,\n",
       "        -1.98992341e-17, -7.70176068e-14, -1.06096076e-10,\n",
       "        -5.14565021e-08, -8.63382236e-06, -4.85744950e-04,\n",
       "        -8.57902057e-03, -3.91926999e-02,  0.00000000e+00,\n",
       "         9.65323526e-02,  0.00000000e+00, -3.91926999e-02,\n",
       "        -8.57902057e-03, -4.85744950e-04, -8.63382236e-06,\n",
       "        -5.14565021e-08, -1.06096076e-10, -7.70176068e-14,\n",
       "        -1.98992341e-17, -1.84324893e-21, -6.15230676e-26,\n",
       "        -7.42687699e-31],\n",
       "       [-1.21592218e-30, -1.00589104e-25, -3.00830671e-21,\n",
       "        -3.23981869e-17, -1.24965002e-13, -1.71278631e-10,\n",
       "        -8.24135030e-08, -1.36416513e-05, -7.47467496e-04,\n",
       "        -1.23763620e-02, -4.30785586e-02,  9.65323526e-02,\n",
       "         3.18309886e-01,  9.65323526e-02, -4.30785586e-02,\n",
       "        -1.23763620e-02, -7.47467496e-04, -1.36416513e-05,\n",
       "        -8.24135030e-08, -1.71278631e-10, -1.24965002e-13,\n",
       "        -3.23981869e-17, -3.00830671e-21, -1.00589104e-25,\n",
       "        -1.21592218e-30],\n",
       "       [-7.42687699e-31, -6.15230676e-26, -1.84324893e-21,\n",
       "        -1.98992341e-17, -7.70176068e-14, -1.06096076e-10,\n",
       "        -5.14565021e-08, -8.63382236e-06, -4.85744950e-04,\n",
       "        -8.57902057e-03, -3.91926999e-02,  0.00000000e+00,\n",
       "         9.65323526e-02,  0.00000000e+00, -3.91926999e-02,\n",
       "        -8.57902057e-03, -4.85744950e-04, -8.63382236e-06,\n",
       "        -5.14565021e-08, -1.06096076e-10, -7.70176068e-14,\n",
       "        -1.98992341e-17, -1.84324893e-21, -6.15230676e-26,\n",
       "        -7.42687699e-31],\n",
       "       [-1.69192585e-31, -1.40708432e-26, -4.23747593e-22,\n",
       "        -4.60662376e-18, -1.80032819e-14, -2.51528116e-11,\n",
       "        -1.24656259e-08, -2.16727444e-06, -1.30061218e-04,\n",
       "        -2.63207757e-03, -1.74901468e-02, -3.91926999e-02,\n",
       "        -4.30785586e-02, -3.91926999e-02, -1.74901468e-02,\n",
       "        -2.63207757e-03, -1.30061218e-04, -2.16727444e-06,\n",
       "        -1.24656259e-08, -2.51528116e-11, -1.80032819e-14,\n",
       "        -4.60662376e-18, -4.23747593e-22, -1.40708432e-26,\n",
       "        -1.69192585e-31],\n",
       "       [-1.43637955e-32, -1.20195658e-27, -3.64883853e-23,\n",
       "        -4.00913904e-19, -1.58975387e-15, -2.26708698e-12,\n",
       "        -1.15787785e-09, -2.10845297e-07, -1.36416513e-05,\n",
       "        -3.14260486e-04, -2.63207757e-03, -8.57902057e-03,\n",
       "        -1.23763620e-02, -8.57902057e-03, -2.63207757e-03,\n",
       "        -3.14260486e-04, -1.36416513e-05, -2.10845297e-07,\n",
       "        -1.15787785e-09, -2.26708698e-12, -1.58975387e-15,\n",
       "        -4.00913904e-19, -3.64883853e-23, -1.20195658e-27,\n",
       "        -1.43637955e-32],\n",
       "       [-4.53856611e-34, -3.82808780e-29, -1.17393765e-24,\n",
       "        -1.30695720e-20, -5.27394332e-17, -7.70176068e-14,\n",
       "        -4.06568387e-11, -7.75975232e-09, -5.37315880e-07,\n",
       "        -1.36416513e-05, -1.30061218e-04, -4.85744950e-04,\n",
       "        -7.47467496e-04, -4.85744950e-04, -1.30061218e-04,\n",
       "        -1.36416513e-05, -5.37315880e-07, -7.75975232e-09,\n",
       "        -4.06568387e-11, -7.70176068e-14, -5.27394332e-17,\n",
       "        -1.30695720e-20, -1.17393765e-24, -3.82808780e-29,\n",
       "        -4.53856611e-34],\n",
       "       [-5.32908788e-36, -4.53612950e-31, -1.40708432e-26,\n",
       "        -1.58944656e-22, -6.53483971e-19, -9.77815231e-16,\n",
       "        -5.32954883e-13, -1.06096076e-10, -7.75975232e-09,\n",
       "        -2.10845297e-07, -2.16727444e-06, -8.63382236e-06,\n",
       "        -1.36416513e-05, -8.63382236e-06, -2.16727444e-06,\n",
       "        -2.10845297e-07, -7.75975232e-09, -1.06096076e-10,\n",
       "        -5.32954883e-13, -9.77815231e-16, -6.53483971e-19,\n",
       "        -1.58944656e-22, -1.40708432e-26, -4.53612950e-31,\n",
       "        -5.32908788e-36],\n",
       "       [-2.32132935e-38, -1.99542312e-33, -6.26469830e-29,\n",
       "        -7.18275049e-25, -3.00830671e-21, -4.60662376e-18,\n",
       "        -2.58414467e-15, -5.32954883e-13, -4.06568387e-11,\n",
       "        -1.15787785e-09, -1.24656259e-08, -5.14565021e-08,\n",
       "        -8.24135030e-08, -5.14565021e-08, -1.24656259e-08,\n",
       "        -1.15787785e-09, -4.06568387e-11, -5.32954883e-13,\n",
       "        -2.58414467e-15, -4.60662376e-18, -3.00830671e-21,\n",
       "        -7.18275049e-25, -6.26469830e-29, -1.99542312e-33,\n",
       "        -2.32132935e-38],\n",
       "       [-3.74486353e-41, -3.25161001e-36, -1.03323370e-31,\n",
       "        -1.20195658e-27, -5.12277030e-24, -8.01053923e-21,\n",
       "        -4.60662376e-18, -9.77815231e-16, -7.70176068e-14,\n",
       "        -2.26708698e-12, -2.51528116e-11, -1.06096076e-10,\n",
       "        -1.71278631e-10, -1.06096076e-10, -2.51528116e-11,\n",
       "        -2.26708698e-12, -7.70176068e-14, -9.77815231e-16,\n",
       "        -4.60662376e-18, -8.01053923e-21, -5.12277030e-24,\n",
       "        -1.20195658e-27, -1.03323370e-31, -3.25161001e-36,\n",
       "        -3.74486353e-41],\n",
       "       [-2.23388717e-44, -1.95898741e-39, -6.29778210e-35,\n",
       "        -7.42687699e-31, -3.21620583e-27, -5.12277030e-24,\n",
       "        -3.00830671e-21, -6.53483971e-19, -5.27394332e-17,\n",
       "        -1.58975387e-15, -1.80032819e-14, -7.70176068e-14,\n",
       "        -1.24965002e-13, -7.70176068e-14, -1.80032819e-14,\n",
       "        -1.58975387e-15, -5.27394332e-17, -6.53483971e-19,\n",
       "        -3.00830671e-21, -5.12277030e-24, -3.21620583e-27,\n",
       "        -7.42687699e-31, -6.29778210e-35, -1.95898741e-39,\n",
       "        -2.23388717e-44],\n",
       "       [-4.92034755e-48, -4.35619643e-43, -1.41586730e-38,\n",
       "        -1.69077991e-34, -7.42687699e-31, -1.20195658e-27,\n",
       "        -7.18275049e-25, -1.58944656e-22, -1.30695720e-20,\n",
       "        -4.00913904e-19, -4.60662376e-18, -1.98992341e-17,\n",
       "        -3.23981869e-17, -1.98992341e-17, -4.60662376e-18,\n",
       "        -4.00913904e-19, -1.30695720e-20, -1.58944656e-22,\n",
       "        -7.18275049e-25, -1.20195658e-27, -7.42687699e-31,\n",
       "        -1.69077991e-34, -1.41586730e-38, -4.35619643e-43,\n",
       "        -4.92034755e-48],\n",
       "       [-3.99676585e-52, -3.57045855e-47, -1.17229559e-42,\n",
       "        -1.41586730e-38, -6.29778210e-35, -1.03323370e-31,\n",
       "        -6.26469830e-29, -1.40708432e-26, -1.17393765e-24,\n",
       "        -3.64883853e-23, -4.23747593e-22, -1.84324893e-21,\n",
       "        -3.00830671e-21, -1.84324893e-21, -4.23747593e-22,\n",
       "        -3.64883853e-23, -1.17393765e-24, -1.40708432e-26,\n",
       "        -6.26469830e-29, -1.03323370e-31, -6.29778210e-35,\n",
       "        -1.41586730e-38, -1.17229559e-42, -3.57045855e-47,\n",
       "        -3.99676585e-52],\n",
       "       [-1.19607119e-56, -1.07745481e-51, -3.57045855e-47,\n",
       "        -4.35619643e-43, -1.95898741e-39, -3.25161001e-36,\n",
       "        -1.99542312e-33, -4.53612950e-31, -3.82808780e-29,\n",
       "        -1.20195658e-27, -1.40708432e-26, -6.15230676e-26,\n",
       "        -1.00589104e-25, -6.15230676e-26, -1.40708432e-26,\n",
       "        -1.20195658e-27, -3.82808780e-29, -4.53612950e-31,\n",
       "        -1.99542312e-33, -3.25161001e-36, -1.95898741e-39,\n",
       "        -4.35619643e-43, -3.57045855e-47, -1.07745481e-51,\n",
       "        -1.19607119e-56],\n",
       "       [-1.31759146e-61, -1.19607119e-56, -3.99676585e-52,\n",
       "        -4.92034755e-48, -2.23388717e-44, -3.74486353e-41,\n",
       "        -2.32132935e-38, -5.32908788e-36, -4.53856611e-34,\n",
       "        -1.43637955e-32, -1.69192585e-31, -7.42687699e-31,\n",
       "        -1.21592218e-30, -7.42687699e-31, -1.69192585e-31,\n",
       "        -1.43637955e-32, -4.53856611e-34, -5.32908788e-36,\n",
       "        -2.32132935e-38, -3.74486353e-41, -2.23388717e-44,\n",
       "        -4.92034755e-48, -3.99676585e-52, -1.19607119e-56,\n",
       "        -1.31759146e-61]])"
      ]
     },
     "execution_count": 11,
     "metadata": {},
     "output_type": "execute_result"
    }
   ],
   "source": [
    "def LoG(size = 25, sig = 1):\n",
    "    X,Y = np.meshgrid([x - (size // 2) for x in range(size)], [y-(size//2) for y in range(size)])\n",
    "    scale = 1/(np.pi**sig**4)\n",
    "    sqrpart = (X**2 + Y**2)/(2*sig**2)\n",
    "    return scale*(1-sqrpart)*np.exp(-sqrpart)\n",
    "LoG()"
   ]
  },
  {
   "cell_type": "code",
   "execution_count": 15,
   "metadata": {},
   "outputs": [
    {
     "data": {
      "application/vnd.jupyter.widget-view+json": {
       "model_id": "de92203a33ca4cfaaff05690c599585b",
       "version_major": 2,
       "version_minor": 0
      },
      "text/plain": [
       "Canvas(toolbar=Toolbar(toolitems=[('Home', 'Reset original view', 'home', 'home'), ('Back', 'Back to previous …"
      ]
     },
     "metadata": {},
     "output_type": "display_data"
    },
    {
     "data": {
      "text/plain": [
       "<matplotlib.image.AxesImage at 0x1a495deec50>"
      ]
     },
     "execution_count": 15,
     "metadata": {},
     "output_type": "execute_result"
    }
   ],
   "source": [
    "plt.figure()\n",
    "plt.imshow(LoG(25, 4))"
   ]
  },
  {
   "cell_type": "code",
   "execution_count": 26,
   "metadata": {},
   "outputs": [
    {
     "data": {
      "text/plain": [
       "0.20864443438539165"
      ]
     },
     "execution_count": 26,
     "metadata": {},
     "output_type": "execute_result"
    }
   ],
   "source": [
    "np.std([0.596, 0.147, 0.213, 0.044])"
   ]
  },
  {
   "cell_type": "code",
   "execution_count": 10,
   "metadata": {},
   "outputs": [
    {
     "data": {
      "application/vnd.jupyter.widget-view+json": {
       "model_id": "8605c47bbeea47519999172146390231",
       "version_major": 2,
       "version_minor": 0
      },
      "text/plain": [
       "Canvas(toolbar=Toolbar(toolitems=[('Home', 'Reset original view', 'home', 'home'), ('Back', 'Back to previous …"
      ]
     },
     "metadata": {},
     "output_type": "display_data"
    },
    {
     "data": {
      "text/plain": [
       "Text(0.5, 0.98, 'Adding Edginess to Cat')"
      ]
     },
     "execution_count": 10,
     "metadata": {},
     "output_type": "execute_result"
    }
   ],
   "source": [
    "# Vis all three.\n",
    "f, ax = plt.subplots(1,4, figsize=(10,3), sharex=True, sharey=True)\n",
    "ax[0].imshow(I)\n",
    "ax[0].set_title('Original')\n",
    "\n",
    "ax[1].imshow(I_halfL)\n",
    "ax[1].set_title('+.5*LaPlace')\n",
    "\n",
    "ax[2].imshow(I_1L)\n",
    "ax[2].set_title('+1*LaPlace')\n",
    "\n",
    "ax[3].imshow(I_2L)\n",
    "ax[3].set_title('+2*LaPlace')\n",
    "\n",
    "plt.suptitle('Adding Edginess to Cat')"
   ]
  },
  {
   "cell_type": "markdown",
   "metadata": {},
   "source": [
    "&nbsp;\n",
    "\n",
    "## Interactive Visualization \n",
    "\n",
    "See [jupyter-matplotlib](https://github.com/matplotlib/jupyter-matplotlib/blob/master/examples/ipympl.ipynb)"
   ]
  },
  {
   "cell_type": "code",
   "execution_count": null,
   "metadata": {},
   "outputs": [],
   "source": [
    "from ipywidgets import VBox, FloatSlider\n",
    "\n",
    "plt.ioff()\n",
    "plt.clf()\n",
    "\n",
    "slider = FloatSlider(\n",
    "    orientation='horizontal',\n",
    "    value=1.0,\n",
    "    min=0.00,\n",
    "    max=5.0,\n",
    "    description='How much Laplace to add'\n",
    ")\n",
    "\n",
    "fig_args = {'num':' ', 'frameon':True, 'sharex':True, 'sharey':True}\n",
    "fig, ax = plt.subplots(1,2, figsize=(8,4), **fig_args) \n",
    "\n",
    "I_L = addLap(1);\n",
    "\n",
    "# display artists I'll update\n",
    "adisp = ax[0].imshow(I)\n",
    "ldisp = ax[1].imshow(I_L)\n",
    "\n",
    "ltext = ax[1].set_title('1*LaPlace')\n",
    "\n",
    "\n",
    "def update_image(change):\n",
    "    global I, I_laplace, adisp, ldisp, I_L, ltext\n",
    "    I_L = addLap(change.new)\n",
    "    ldisp.set_array(I_L)\n",
    "    ltext.set_text('{}*LaPlace'.format(change.new))\n",
    "    fig.canvas.draw()\n",
    "    fig.canvas.flush_events()\n",
    "\n",
    "slider.observe(update_image, names='value')\n",
    "\n",
    "VBox([slider, fig.canvas])"
   ]
  },
  {
   "cell_type": "code",
   "execution_count": null,
   "metadata": {},
   "outputs": [],
   "source": []
  },
  {
   "cell_type": "code",
   "execution_count": null,
   "metadata": {},
   "outputs": [],
   "source": []
  }
 ],
 "metadata": {
  "kernelspec": {
   "display_name": "Python 3",
   "language": "python",
   "name": "python3"
  },
  "language_info": {
   "codemirror_mode": {
    "name": "ipython",
    "version": 3
   },
   "file_extension": ".py",
   "mimetype": "text/x-python",
   "name": "python",
   "nbconvert_exporter": "python",
   "pygments_lexer": "ipython3",
<<<<<<< HEAD
   "version": "3.7.3"
=======
   "version": "3.7.6"
>>>>>>> 1ecb11ad08333584640058735afb2212831ff2cc
  }
 },
 "nbformat": 4,
 "nbformat_minor": 4
}
